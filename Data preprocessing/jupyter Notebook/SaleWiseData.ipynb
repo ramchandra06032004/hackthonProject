{
 "cells": [
  {
   "cell_type": "code",
   "execution_count": null,
   "id": "15763029-a188-437e-9499-78d94c9b1896",
   "metadata": {
    "language": "python",
    "name": "cell1",
    "resultHeight": 38
   },
   "outputs": [],
   "source": [
    "print(\"Hello world\")"
   ]
  },
  {
   "cell_type": "code",
   "execution_count": 2,
   "id": "2a9dfec8-cfb6-4d26-9c32-8a6dd71f3709",
   "metadata": {
    "codeCollapsed": false,
    "language": "python",
    "name": "cell2",
    "resultHeight": 0
   },
   "outputs": [],
   "source": [
    "import pandas as pd\n",
    "import numpy as np\n",
    "import plotly.express as px"
   ]
  },
  {
   "cell_type": "code",
   "execution_count": 52,
   "id": "7f58902f-5b95-420f-b685-fee6978e6b4e",
   "metadata": {
    "codeCollapsed": false,
    "language": "python",
    "name": "cell4",
    "resultHeight": 0
   },
   "outputs": [],
   "source": [
    "df=pd.read_csv('yearWiseVehicleSale.csv')"
   ]
  },
  {
   "cell_type": "code",
   "execution_count": 53,
   "id": "ec8c9203-1322-4304-ae54-ff70c9df1009",
   "metadata": {
    "codeCollapsed": false,
    "language": "python",
    "name": "cell3",
    "resultHeight": 0
   },
   "outputs": [],
   "source": [
    "df = df.drop([11,13])\n"
   ]
  },
  {
   "cell_type": "code",
   "execution_count": 54,
   "id": "031b7666-08fe-483e-813f-e1ab4661dfa8",
   "metadata": {
    "codeCollapsed": false,
    "language": "python",
    "name": "cell5",
    "resultHeight": 439
   },
   "outputs": [
    {
     "data": {
      "text/html": [
       "<div>\n",
       "<style scoped>\n",
       "    .dataframe tbody tr th:only-of-type {\n",
       "        vertical-align: middle;\n",
       "    }\n",
       "\n",
       "    .dataframe tbody tr th {\n",
       "        vertical-align: top;\n",
       "    }\n",
       "\n",
       "    .dataframe thead th {\n",
       "        text-align: right;\n",
       "    }\n",
       "</style>\n",
       "<table border=\"1\" class=\"dataframe\">\n",
       "  <thead>\n",
       "    <tr style=\"text-align: right;\">\n",
       "      <th></th>\n",
       "      <th>Category</th>\n",
       "      <th>2009-10</th>\n",
       "      <th>2010-11</th>\n",
       "      <th>2011-12</th>\n",
       "      <th>2012-13</th>\n",
       "      <th>2013-14</th>\n",
       "      <th>2014-15</th>\n",
       "      <th>2015-16</th>\n",
       "      <th>2016-17</th>\n",
       "      <th>2017-18</th>\n",
       "      <th>2018-19</th>\n",
       "      <th>2019-20</th>\n",
       "      <th>CAGR(2009-10 to 2019-20)</th>\n",
       "    </tr>\n",
       "  </thead>\n",
       "  <tbody>\n",
       "    <tr>\n",
       "      <th>0</th>\n",
       "      <td>Passenger Cars</td>\n",
       "      <td>1970046.0</td>\n",
       "      <td>2430105.0</td>\n",
       "      <td>2532852.0</td>\n",
       "      <td>2440127.0</td>\n",
       "      <td>2338044.0</td>\n",
       "      <td>2418099.0</td>\n",
       "      <td>2557727.0</td>\n",
       "      <td>2705981.0</td>\n",
       "      <td>2174024.0</td>\n",
       "      <td>2218489.0</td>\n",
       "      <td>1695441.0</td>\n",
       "      <td>-1.49</td>\n",
       "    </tr>\n",
       "    <tr>\n",
       "      <th>1</th>\n",
       "      <td>Utility Vehicles</td>\n",
       "      <td>275563.0</td>\n",
       "      <td>328001.0</td>\n",
       "      <td>368993.0</td>\n",
       "      <td>561921.0</td>\n",
       "      <td>569272.0</td>\n",
       "      <td>630723.0</td>\n",
       "      <td>705317.0</td>\n",
       "      <td>916255.0</td>\n",
       "      <td>922322.0</td>\n",
       "      <td>941474.0</td>\n",
       "      <td>946010.0</td>\n",
       "      <td>13.13</td>\n",
       "    </tr>\n",
       "    <tr>\n",
       "      <th>2</th>\n",
       "      <td>Vans</td>\n",
       "      <td>151869.0</td>\n",
       "      <td>215794.0</td>\n",
       "      <td>236777.0</td>\n",
       "      <td>239067.0</td>\n",
       "      <td>192335.0</td>\n",
       "      <td>174759.0</td>\n",
       "      <td>179217.0</td>\n",
       "      <td>184073.0</td>\n",
       "      <td>192235.0</td>\n",
       "      <td>217426.0</td>\n",
       "      <td>132124.0</td>\n",
       "      <td>-1.38</td>\n",
       "    </tr>\n",
       "    <tr>\n",
       "      <th>3</th>\n",
       "      <td>Total Passenger Vehicles</td>\n",
       "      <td>2397478.0</td>\n",
       "      <td>2973900.0</td>\n",
       "      <td>3138622.0</td>\n",
       "      <td>3241115.0</td>\n",
       "      <td>3099651.0</td>\n",
       "      <td>3223581.0</td>\n",
       "      <td>3442261.0</td>\n",
       "      <td>3806309.0</td>\n",
       "      <td>3288581.0</td>\n",
       "      <td>3377389.0</td>\n",
       "      <td>2773575.0</td>\n",
       "      <td>1.47</td>\n",
       "    </tr>\n",
       "    <tr>\n",
       "      <th>4</th>\n",
       "      <td>MandHCVs</td>\n",
       "      <td>265369.0</td>\n",
       "      <td>352060.0</td>\n",
       "      <td>377711.0</td>\n",
       "      <td>287282.0</td>\n",
       "      <td>224431.0</td>\n",
       "      <td>263407.0</td>\n",
       "      <td>337594.0</td>\n",
       "      <td>346286.0</td>\n",
       "      <td>340781.0</td>\n",
       "      <td>390732.0</td>\n",
       "      <td>224806.0</td>\n",
       "      <td>-1.65</td>\n",
       "    </tr>\n",
       "    <tr>\n",
       "      <th>5</th>\n",
       "      <td>LCVs</td>\n",
       "      <td>312361.0</td>\n",
       "      <td>400645.0</td>\n",
       "      <td>524046.0</td>\n",
       "      <td>585812.0</td>\n",
       "      <td>485470.0</td>\n",
       "      <td>437336.0</td>\n",
       "      <td>451234.0</td>\n",
       "      <td>476067.0</td>\n",
       "      <td>516135.0</td>\n",
       "      <td>616579.0</td>\n",
       "      <td>492882.0</td>\n",
       "      <td>4.67</td>\n",
       "    </tr>\n",
       "    <tr>\n",
       "      <th>6</th>\n",
       "      <td>Total CVs</td>\n",
       "      <td>577730.0</td>\n",
       "      <td>752705.0</td>\n",
       "      <td>901757.0</td>\n",
       "      <td>873094.0</td>\n",
       "      <td>709901.0</td>\n",
       "      <td>700743.0</td>\n",
       "      <td>788828.0</td>\n",
       "      <td>822353.0</td>\n",
       "      <td>856916.0</td>\n",
       "      <td>1007311.0</td>\n",
       "      <td>717688.0</td>\n",
       "      <td>2.19</td>\n",
       "    </tr>\n",
       "    <tr>\n",
       "      <th>7</th>\n",
       "      <td>Three Wheelers</td>\n",
       "      <td>613606.0</td>\n",
       "      <td>795989.0</td>\n",
       "      <td>875034.0</td>\n",
       "      <td>841379.0</td>\n",
       "      <td>833477.0</td>\n",
       "      <td>939884.0</td>\n",
       "      <td>942649.0</td>\n",
       "      <td>783773.0</td>\n",
       "      <td>635698.0</td>\n",
       "      <td>701005.0</td>\n",
       "      <td>636569.0</td>\n",
       "      <td>0.37</td>\n",
       "    </tr>\n",
       "    <tr>\n",
       "      <th>8</th>\n",
       "      <td>Scooters</td>\n",
       "      <td>1492659.0</td>\n",
       "      <td>2126109.0</td>\n",
       "      <td>2653421.0</td>\n",
       "      <td>3014485.0</td>\n",
       "      <td>3696674.0</td>\n",
       "      <td>4701656.0</td>\n",
       "      <td>5289159.0</td>\n",
       "      <td>5897501.0</td>\n",
       "      <td>6719909.0</td>\n",
       "      <td>6701430.0</td>\n",
       "      <td>5566036.0</td>\n",
       "      <td>14.07</td>\n",
       "    </tr>\n",
       "    <tr>\n",
       "      <th>9</th>\n",
       "      <td>Motorcycles</td>\n",
       "      <td>8444100.0</td>\n",
       "      <td>10500073.0</td>\n",
       "      <td>11944898.0</td>\n",
       "      <td>11952135.0</td>\n",
       "      <td>12463932.0</td>\n",
       "      <td>12995340.0</td>\n",
       "      <td>12911021.0</td>\n",
       "      <td>13121844.0</td>\n",
       "      <td>12620690.0</td>\n",
       "      <td>13598190.0</td>\n",
       "      <td>11214640.0</td>\n",
       "      <td>2.88</td>\n",
       "    </tr>\n",
       "    <tr>\n",
       "      <th>10</th>\n",
       "      <td>Mopeds</td>\n",
       "      <td>571489.0</td>\n",
       "      <td>703713.0</td>\n",
       "      <td>785942.0</td>\n",
       "      <td>792069.0</td>\n",
       "      <td>730172.0</td>\n",
       "      <td>765182.0</td>\n",
       "      <td>738547.0</td>\n",
       "      <td>910670.0</td>\n",
       "      <td>859518.0</td>\n",
       "      <td>880227.0</td>\n",
       "      <td>636940.0</td>\n",
       "      <td>1.09</td>\n",
       "    </tr>\n",
       "    <tr>\n",
       "      <th>12</th>\n",
       "      <td>Total Two Wheelers</td>\n",
       "      <td>10511009.0</td>\n",
       "      <td>13329895.0</td>\n",
       "      <td>15384261.0</td>\n",
       "      <td>15758689.0</td>\n",
       "      <td>16890778.0</td>\n",
       "      <td>18462178.0</td>\n",
       "      <td>18938727.0</td>\n",
       "      <td>19930015.0</td>\n",
       "      <td>20200117.0</td>\n",
       "      <td>21179847.0</td>\n",
       "      <td>17417616.0</td>\n",
       "      <td>5.18</td>\n",
       "    </tr>\n",
       "    <tr>\n",
       "      <th>14</th>\n",
       "      <td>Grand Total</td>\n",
       "      <td>14099823.0</td>\n",
       "      <td>17852489.0</td>\n",
       "      <td>20299674.0</td>\n",
       "      <td>20714277.0</td>\n",
       "      <td>21533807.0</td>\n",
       "      <td>23326386.0</td>\n",
       "      <td>24112465.0</td>\n",
       "      <td>25344006.0</td>\n",
       "      <td>24981312.0</td>\n",
       "      <td>26266179.0</td>\n",
       "      <td>21546390.0</td>\n",
       "      <td>4.33</td>\n",
       "    </tr>\n",
       "  </tbody>\n",
       "</table>\n",
       "</div>"
      ],
      "text/plain": [
       "                    Category     2009-10     2010-11     2011-12     2012-13  \\\n",
       "0             Passenger Cars   1970046.0   2430105.0   2532852.0   2440127.0   \n",
       "1           Utility Vehicles    275563.0    328001.0    368993.0    561921.0   \n",
       "2                       Vans    151869.0    215794.0    236777.0    239067.0   \n",
       "3   Total Passenger Vehicles   2397478.0   2973900.0   3138622.0   3241115.0   \n",
       "4                   MandHCVs    265369.0    352060.0    377711.0    287282.0   \n",
       "5                       LCVs    312361.0    400645.0    524046.0    585812.0   \n",
       "6                  Total CVs    577730.0    752705.0    901757.0    873094.0   \n",
       "7             Three Wheelers    613606.0    795989.0    875034.0    841379.0   \n",
       "8                   Scooters   1492659.0   2126109.0   2653421.0   3014485.0   \n",
       "9                Motorcycles   8444100.0  10500073.0  11944898.0  11952135.0   \n",
       "10                    Mopeds    571489.0    703713.0    785942.0    792069.0   \n",
       "12        Total Two Wheelers  10511009.0  13329895.0  15384261.0  15758689.0   \n",
       "14               Grand Total  14099823.0  17852489.0  20299674.0  20714277.0   \n",
       "\n",
       "       2013-14     2014-15     2015-16     2016-17     2017-18     2018-19  \\\n",
       "0    2338044.0   2418099.0   2557727.0   2705981.0   2174024.0   2218489.0   \n",
       "1     569272.0    630723.0    705317.0    916255.0    922322.0    941474.0   \n",
       "2     192335.0    174759.0    179217.0    184073.0    192235.0    217426.0   \n",
       "3    3099651.0   3223581.0   3442261.0   3806309.0   3288581.0   3377389.0   \n",
       "4     224431.0    263407.0    337594.0    346286.0    340781.0    390732.0   \n",
       "5     485470.0    437336.0    451234.0    476067.0    516135.0    616579.0   \n",
       "6     709901.0    700743.0    788828.0    822353.0    856916.0   1007311.0   \n",
       "7     833477.0    939884.0    942649.0    783773.0    635698.0    701005.0   \n",
       "8    3696674.0   4701656.0   5289159.0   5897501.0   6719909.0   6701430.0   \n",
       "9   12463932.0  12995340.0  12911021.0  13121844.0  12620690.0  13598190.0   \n",
       "10    730172.0    765182.0    738547.0    910670.0    859518.0    880227.0   \n",
       "12  16890778.0  18462178.0  18938727.0  19930015.0  20200117.0  21179847.0   \n",
       "14  21533807.0  23326386.0  24112465.0  25344006.0  24981312.0  26266179.0   \n",
       "\n",
       "       2019-20  CAGR(2009-10 to 2019-20)  \n",
       "0    1695441.0                     -1.49  \n",
       "1     946010.0                     13.13  \n",
       "2     132124.0                     -1.38  \n",
       "3    2773575.0                      1.47  \n",
       "4     224806.0                     -1.65  \n",
       "5     492882.0                      4.67  \n",
       "6     717688.0                      2.19  \n",
       "7     636569.0                      0.37  \n",
       "8    5566036.0                     14.07  \n",
       "9   11214640.0                      2.88  \n",
       "10    636940.0                      1.09  \n",
       "12  17417616.0                      5.18  \n",
       "14  21546390.0                      4.33  "
      ]
     },
     "execution_count": 54,
     "metadata": {},
     "output_type": "execute_result"
    }
   ],
   "source": [
    "df\n"
   ]
  },
  {
   "cell_type": "code",
   "execution_count": 7,
   "id": "61ae0c76",
   "metadata": {},
   "outputs": [
    {
     "data": {
      "text/plain": [
       "Index(['Category', '2009-10', '2010-11', '2011-12', '2012-13', '2013-14',\n",
       "       '2014-15', '2015-16', '2016-17', '2017-18', '2018-19', '2019-20',\n",
       "       'CAGR(2009-10 to 2019-20)'],\n",
       "      dtype='object')"
      ]
     },
     "execution_count": 7,
     "metadata": {},
     "output_type": "execute_result"
    }
   ],
   "source": [
    "df.columns"
   ]
  },
  {
   "cell_type": "code",
   "execution_count": 9,
   "id": "69aeda5c",
   "metadata": {},
   "outputs": [
    {
     "data": {
      "application/vnd.plotly.v1+json": {
       "config": {
        "plotlyServerURL": "https://plot.ly"
       },
       "data": [
        {
         "alignmentgroup": "True",
         "hovertemplate": "Category=%{x}<br>2009-10=%{y}<extra></extra>",
         "legendgroup": "",
         "marker": {
          "color": "#636efa",
          "pattern": {
           "shape": ""
          }
         },
         "name": "",
         "offsetgroup": "",
         "orientation": "v",
         "showlegend": false,
         "textposition": "auto",
         "type": "bar",
         "x": [
          "Passenger Cars",
          "Utility Vehicles",
          "Vans",
          "Total Passenger Vehicles",
          "MandHCVs",
          "LCVs",
          "Total CVs",
          "Three Wheelers",
          "Scooters",
          "Motorcycles",
          "Mopeds",
          "Total Two Wheelers",
          "Grand Total"
         ],
         "xaxis": "x",
         "y": [
          1970046,
          275563,
          151869,
          2397478,
          265369,
          312361,
          577730,
          613606,
          1492659,
          8444100,
          571489,
          10511009,
          14099823
         ],
         "yaxis": "y"
        }
       ],
       "layout": {
        "barmode": "relative",
        "legend": {
         "tracegroupgap": 0
        },
        "template": {
         "data": {
          "bar": [
           {
            "error_x": {
             "color": "#2a3f5f"
            },
            "error_y": {
             "color": "#2a3f5f"
            },
            "marker": {
             "line": {
              "color": "#E5ECF6",
              "width": 0.5
             },
             "pattern": {
              "fillmode": "overlay",
              "size": 10,
              "solidity": 0.2
             }
            },
            "type": "bar"
           }
          ],
          "barpolar": [
           {
            "marker": {
             "line": {
              "color": "#E5ECF6",
              "width": 0.5
             },
             "pattern": {
              "fillmode": "overlay",
              "size": 10,
              "solidity": 0.2
             }
            },
            "type": "barpolar"
           }
          ],
          "carpet": [
           {
            "aaxis": {
             "endlinecolor": "#2a3f5f",
             "gridcolor": "white",
             "linecolor": "white",
             "minorgridcolor": "white",
             "startlinecolor": "#2a3f5f"
            },
            "baxis": {
             "endlinecolor": "#2a3f5f",
             "gridcolor": "white",
             "linecolor": "white",
             "minorgridcolor": "white",
             "startlinecolor": "#2a3f5f"
            },
            "type": "carpet"
           }
          ],
          "choropleth": [
           {
            "colorbar": {
             "outlinewidth": 0,
             "ticks": ""
            },
            "type": "choropleth"
           }
          ],
          "contour": [
           {
            "colorbar": {
             "outlinewidth": 0,
             "ticks": ""
            },
            "colorscale": [
             [
              0,
              "#0d0887"
             ],
             [
              0.1111111111111111,
              "#46039f"
             ],
             [
              0.2222222222222222,
              "#7201a8"
             ],
             [
              0.3333333333333333,
              "#9c179e"
             ],
             [
              0.4444444444444444,
              "#bd3786"
             ],
             [
              0.5555555555555556,
              "#d8576b"
             ],
             [
              0.6666666666666666,
              "#ed7953"
             ],
             [
              0.7777777777777778,
              "#fb9f3a"
             ],
             [
              0.8888888888888888,
              "#fdca26"
             ],
             [
              1,
              "#f0f921"
             ]
            ],
            "type": "contour"
           }
          ],
          "contourcarpet": [
           {
            "colorbar": {
             "outlinewidth": 0,
             "ticks": ""
            },
            "type": "contourcarpet"
           }
          ],
          "heatmap": [
           {
            "colorbar": {
             "outlinewidth": 0,
             "ticks": ""
            },
            "colorscale": [
             [
              0,
              "#0d0887"
             ],
             [
              0.1111111111111111,
              "#46039f"
             ],
             [
              0.2222222222222222,
              "#7201a8"
             ],
             [
              0.3333333333333333,
              "#9c179e"
             ],
             [
              0.4444444444444444,
              "#bd3786"
             ],
             [
              0.5555555555555556,
              "#d8576b"
             ],
             [
              0.6666666666666666,
              "#ed7953"
             ],
             [
              0.7777777777777778,
              "#fb9f3a"
             ],
             [
              0.8888888888888888,
              "#fdca26"
             ],
             [
              1,
              "#f0f921"
             ]
            ],
            "type": "heatmap"
           }
          ],
          "heatmapgl": [
           {
            "colorbar": {
             "outlinewidth": 0,
             "ticks": ""
            },
            "colorscale": [
             [
              0,
              "#0d0887"
             ],
             [
              0.1111111111111111,
              "#46039f"
             ],
             [
              0.2222222222222222,
              "#7201a8"
             ],
             [
              0.3333333333333333,
              "#9c179e"
             ],
             [
              0.4444444444444444,
              "#bd3786"
             ],
             [
              0.5555555555555556,
              "#d8576b"
             ],
             [
              0.6666666666666666,
              "#ed7953"
             ],
             [
              0.7777777777777778,
              "#fb9f3a"
             ],
             [
              0.8888888888888888,
              "#fdca26"
             ],
             [
              1,
              "#f0f921"
             ]
            ],
            "type": "heatmapgl"
           }
          ],
          "histogram": [
           {
            "marker": {
             "pattern": {
              "fillmode": "overlay",
              "size": 10,
              "solidity": 0.2
             }
            },
            "type": "histogram"
           }
          ],
          "histogram2d": [
           {
            "colorbar": {
             "outlinewidth": 0,
             "ticks": ""
            },
            "colorscale": [
             [
              0,
              "#0d0887"
             ],
             [
              0.1111111111111111,
              "#46039f"
             ],
             [
              0.2222222222222222,
              "#7201a8"
             ],
             [
              0.3333333333333333,
              "#9c179e"
             ],
             [
              0.4444444444444444,
              "#bd3786"
             ],
             [
              0.5555555555555556,
              "#d8576b"
             ],
             [
              0.6666666666666666,
              "#ed7953"
             ],
             [
              0.7777777777777778,
              "#fb9f3a"
             ],
             [
              0.8888888888888888,
              "#fdca26"
             ],
             [
              1,
              "#f0f921"
             ]
            ],
            "type": "histogram2d"
           }
          ],
          "histogram2dcontour": [
           {
            "colorbar": {
             "outlinewidth": 0,
             "ticks": ""
            },
            "colorscale": [
             [
              0,
              "#0d0887"
             ],
             [
              0.1111111111111111,
              "#46039f"
             ],
             [
              0.2222222222222222,
              "#7201a8"
             ],
             [
              0.3333333333333333,
              "#9c179e"
             ],
             [
              0.4444444444444444,
              "#bd3786"
             ],
             [
              0.5555555555555556,
              "#d8576b"
             ],
             [
              0.6666666666666666,
              "#ed7953"
             ],
             [
              0.7777777777777778,
              "#fb9f3a"
             ],
             [
              0.8888888888888888,
              "#fdca26"
             ],
             [
              1,
              "#f0f921"
             ]
            ],
            "type": "histogram2dcontour"
           }
          ],
          "mesh3d": [
           {
            "colorbar": {
             "outlinewidth": 0,
             "ticks": ""
            },
            "type": "mesh3d"
           }
          ],
          "parcoords": [
           {
            "line": {
             "colorbar": {
              "outlinewidth": 0,
              "ticks": ""
             }
            },
            "type": "parcoords"
           }
          ],
          "pie": [
           {
            "automargin": true,
            "type": "pie"
           }
          ],
          "scatter": [
           {
            "fillpattern": {
             "fillmode": "overlay",
             "size": 10,
             "solidity": 0.2
            },
            "type": "scatter"
           }
          ],
          "scatter3d": [
           {
            "line": {
             "colorbar": {
              "outlinewidth": 0,
              "ticks": ""
             }
            },
            "marker": {
             "colorbar": {
              "outlinewidth": 0,
              "ticks": ""
             }
            },
            "type": "scatter3d"
           }
          ],
          "scattercarpet": [
           {
            "marker": {
             "colorbar": {
              "outlinewidth": 0,
              "ticks": ""
             }
            },
            "type": "scattercarpet"
           }
          ],
          "scattergeo": [
           {
            "marker": {
             "colorbar": {
              "outlinewidth": 0,
              "ticks": ""
             }
            },
            "type": "scattergeo"
           }
          ],
          "scattergl": [
           {
            "marker": {
             "colorbar": {
              "outlinewidth": 0,
              "ticks": ""
             }
            },
            "type": "scattergl"
           }
          ],
          "scattermapbox": [
           {
            "marker": {
             "colorbar": {
              "outlinewidth": 0,
              "ticks": ""
             }
            },
            "type": "scattermapbox"
           }
          ],
          "scatterpolar": [
           {
            "marker": {
             "colorbar": {
              "outlinewidth": 0,
              "ticks": ""
             }
            },
            "type": "scatterpolar"
           }
          ],
          "scatterpolargl": [
           {
            "marker": {
             "colorbar": {
              "outlinewidth": 0,
              "ticks": ""
             }
            },
            "type": "scatterpolargl"
           }
          ],
          "scatterternary": [
           {
            "marker": {
             "colorbar": {
              "outlinewidth": 0,
              "ticks": ""
             }
            },
            "type": "scatterternary"
           }
          ],
          "surface": [
           {
            "colorbar": {
             "outlinewidth": 0,
             "ticks": ""
            },
            "colorscale": [
             [
              0,
              "#0d0887"
             ],
             [
              0.1111111111111111,
              "#46039f"
             ],
             [
              0.2222222222222222,
              "#7201a8"
             ],
             [
              0.3333333333333333,
              "#9c179e"
             ],
             [
              0.4444444444444444,
              "#bd3786"
             ],
             [
              0.5555555555555556,
              "#d8576b"
             ],
             [
              0.6666666666666666,
              "#ed7953"
             ],
             [
              0.7777777777777778,
              "#fb9f3a"
             ],
             [
              0.8888888888888888,
              "#fdca26"
             ],
             [
              1,
              "#f0f921"
             ]
            ],
            "type": "surface"
           }
          ],
          "table": [
           {
            "cells": {
             "fill": {
              "color": "#EBF0F8"
             },
             "line": {
              "color": "white"
             }
            },
            "header": {
             "fill": {
              "color": "#C8D4E3"
             },
             "line": {
              "color": "white"
             }
            },
            "type": "table"
           }
          ]
         },
         "layout": {
          "annotationdefaults": {
           "arrowcolor": "#2a3f5f",
           "arrowhead": 0,
           "arrowwidth": 1
          },
          "autotypenumbers": "strict",
          "coloraxis": {
           "colorbar": {
            "outlinewidth": 0,
            "ticks": ""
           }
          },
          "colorscale": {
           "diverging": [
            [
             0,
             "#8e0152"
            ],
            [
             0.1,
             "#c51b7d"
            ],
            [
             0.2,
             "#de77ae"
            ],
            [
             0.3,
             "#f1b6da"
            ],
            [
             0.4,
             "#fde0ef"
            ],
            [
             0.5,
             "#f7f7f7"
            ],
            [
             0.6,
             "#e6f5d0"
            ],
            [
             0.7,
             "#b8e186"
            ],
            [
             0.8,
             "#7fbc41"
            ],
            [
             0.9,
             "#4d9221"
            ],
            [
             1,
             "#276419"
            ]
           ],
           "sequential": [
            [
             0,
             "#0d0887"
            ],
            [
             0.1111111111111111,
             "#46039f"
            ],
            [
             0.2222222222222222,
             "#7201a8"
            ],
            [
             0.3333333333333333,
             "#9c179e"
            ],
            [
             0.4444444444444444,
             "#bd3786"
            ],
            [
             0.5555555555555556,
             "#d8576b"
            ],
            [
             0.6666666666666666,
             "#ed7953"
            ],
            [
             0.7777777777777778,
             "#fb9f3a"
            ],
            [
             0.8888888888888888,
             "#fdca26"
            ],
            [
             1,
             "#f0f921"
            ]
           ],
           "sequentialminus": [
            [
             0,
             "#0d0887"
            ],
            [
             0.1111111111111111,
             "#46039f"
            ],
            [
             0.2222222222222222,
             "#7201a8"
            ],
            [
             0.3333333333333333,
             "#9c179e"
            ],
            [
             0.4444444444444444,
             "#bd3786"
            ],
            [
             0.5555555555555556,
             "#d8576b"
            ],
            [
             0.6666666666666666,
             "#ed7953"
            ],
            [
             0.7777777777777778,
             "#fb9f3a"
            ],
            [
             0.8888888888888888,
             "#fdca26"
            ],
            [
             1,
             "#f0f921"
            ]
           ]
          },
          "colorway": [
           "#636efa",
           "#EF553B",
           "#00cc96",
           "#ab63fa",
           "#FFA15A",
           "#19d3f3",
           "#FF6692",
           "#B6E880",
           "#FF97FF",
           "#FECB52"
          ],
          "font": {
           "color": "#2a3f5f"
          },
          "geo": {
           "bgcolor": "white",
           "lakecolor": "white",
           "landcolor": "#E5ECF6",
           "showlakes": true,
           "showland": true,
           "subunitcolor": "white"
          },
          "hoverlabel": {
           "align": "left"
          },
          "hovermode": "closest",
          "mapbox": {
           "style": "light"
          },
          "paper_bgcolor": "white",
          "plot_bgcolor": "#E5ECF6",
          "polar": {
           "angularaxis": {
            "gridcolor": "white",
            "linecolor": "white",
            "ticks": ""
           },
           "bgcolor": "#E5ECF6",
           "radialaxis": {
            "gridcolor": "white",
            "linecolor": "white",
            "ticks": ""
           }
          },
          "scene": {
           "xaxis": {
            "backgroundcolor": "#E5ECF6",
            "gridcolor": "white",
            "gridwidth": 2,
            "linecolor": "white",
            "showbackground": true,
            "ticks": "",
            "zerolinecolor": "white"
           },
           "yaxis": {
            "backgroundcolor": "#E5ECF6",
            "gridcolor": "white",
            "gridwidth": 2,
            "linecolor": "white",
            "showbackground": true,
            "ticks": "",
            "zerolinecolor": "white"
           },
           "zaxis": {
            "backgroundcolor": "#E5ECF6",
            "gridcolor": "white",
            "gridwidth": 2,
            "linecolor": "white",
            "showbackground": true,
            "ticks": "",
            "zerolinecolor": "white"
           }
          },
          "shapedefaults": {
           "line": {
            "color": "#2a3f5f"
           }
          },
          "ternary": {
           "aaxis": {
            "gridcolor": "white",
            "linecolor": "white",
            "ticks": ""
           },
           "baxis": {
            "gridcolor": "white",
            "linecolor": "white",
            "ticks": ""
           },
           "bgcolor": "#E5ECF6",
           "caxis": {
            "gridcolor": "white",
            "linecolor": "white",
            "ticks": ""
           }
          },
          "title": {
           "x": 0.05
          },
          "xaxis": {
           "automargin": true,
           "gridcolor": "white",
           "linecolor": "white",
           "ticks": "",
           "title": {
            "standoff": 15
           },
           "zerolinecolor": "white",
           "zerolinewidth": 2
          },
          "yaxis": {
           "automargin": true,
           "gridcolor": "white",
           "linecolor": "white",
           "ticks": "",
           "title": {
            "standoff": 15
           },
           "zerolinecolor": "white",
           "zerolinewidth": 2
          }
         }
        },
        "title": {
         "text": "Year Wise Vehicle Sale"
        },
        "xaxis": {
         "anchor": "y",
         "domain": [
          0,
          1
         ],
         "title": {
          "text": "Category"
         }
        },
        "yaxis": {
         "anchor": "x",
         "domain": [
          0,
          1
         ],
         "title": {
          "text": "2009-10"
         }
        }
       }
      }
     },
     "metadata": {},
     "output_type": "display_data"
    }
   ],
   "source": [
    "fig=px.bar(df,x='Category',y='2009-10',title='Year Wise Vehicle Sale')\n",
    "fig.show()"
   ]
  },
  {
   "cell_type": "code",
   "execution_count": null,
   "id": "d9ff78b9",
   "metadata": {},
   "outputs": [],
   "source": []
  },
  {
   "cell_type": "code",
   "execution_count": 65,
   "id": "0bf41973",
   "metadata": {},
   "outputs": [
    {
     "data": {
      "text/html": [
       "<div>\n",
       "<style scoped>\n",
       "    .dataframe tbody tr th:only-of-type {\n",
       "        vertical-align: middle;\n",
       "    }\n",
       "\n",
       "    .dataframe tbody tr th {\n",
       "        vertical-align: top;\n",
       "    }\n",
       "\n",
       "    .dataframe thead th {\n",
       "        text-align: right;\n",
       "    }\n",
       "</style>\n",
       "<table border=\"1\" class=\"dataframe\">\n",
       "  <thead>\n",
       "    <tr style=\"text-align: right;\">\n",
       "      <th>Category</th>\n",
       "      <th>Passenger Cars</th>\n",
       "      <th>Utility Vehicles</th>\n",
       "      <th>Vans</th>\n",
       "      <th>Total Passenger Vehicles</th>\n",
       "      <th>MandHCVs</th>\n",
       "      <th>LCVs</th>\n",
       "      <th>Total CVs</th>\n",
       "      <th>Three Wheelers</th>\n",
       "      <th>Scooters</th>\n",
       "      <th>Motorcycles</th>\n",
       "      <th>Mopeds</th>\n",
       "      <th>Total Two Wheelers</th>\n",
       "      <th>Grand Total</th>\n",
       "    </tr>\n",
       "  </thead>\n",
       "  <tbody>\n",
       "    <tr>\n",
       "      <th>Category</th>\n",
       "      <td>Passenger Cars</td>\n",
       "      <td>Utility Vehicles</td>\n",
       "      <td>Vans</td>\n",
       "      <td>Total Passenger Vehicles</td>\n",
       "      <td>MandHCVs</td>\n",
       "      <td>LCVs</td>\n",
       "      <td>Total CVs</td>\n",
       "      <td>Three Wheelers</td>\n",
       "      <td>Scooters</td>\n",
       "      <td>Motorcycles</td>\n",
       "      <td>Mopeds</td>\n",
       "      <td>Total Two Wheelers</td>\n",
       "      <td>Grand Total</td>\n",
       "    </tr>\n",
       "    <tr>\n",
       "      <th>2009-10</th>\n",
       "      <td>1970046.0</td>\n",
       "      <td>275563.0</td>\n",
       "      <td>151869.0</td>\n",
       "      <td>2397478.0</td>\n",
       "      <td>265369.0</td>\n",
       "      <td>312361.0</td>\n",
       "      <td>577730.0</td>\n",
       "      <td>613606.0</td>\n",
       "      <td>1492659.0</td>\n",
       "      <td>8444100.0</td>\n",
       "      <td>571489.0</td>\n",
       "      <td>10511009.0</td>\n",
       "      <td>14099823.0</td>\n",
       "    </tr>\n",
       "    <tr>\n",
       "      <th>2010-11</th>\n",
       "      <td>2430105.0</td>\n",
       "      <td>328001.0</td>\n",
       "      <td>215794.0</td>\n",
       "      <td>2973900.0</td>\n",
       "      <td>352060.0</td>\n",
       "      <td>400645.0</td>\n",
       "      <td>752705.0</td>\n",
       "      <td>795989.0</td>\n",
       "      <td>2126109.0</td>\n",
       "      <td>10500073.0</td>\n",
       "      <td>703713.0</td>\n",
       "      <td>13329895.0</td>\n",
       "      <td>17852489.0</td>\n",
       "    </tr>\n",
       "    <tr>\n",
       "      <th>2011-12</th>\n",
       "      <td>2532852.0</td>\n",
       "      <td>368993.0</td>\n",
       "      <td>236777.0</td>\n",
       "      <td>3138622.0</td>\n",
       "      <td>377711.0</td>\n",
       "      <td>524046.0</td>\n",
       "      <td>901757.0</td>\n",
       "      <td>875034.0</td>\n",
       "      <td>2653421.0</td>\n",
       "      <td>11944898.0</td>\n",
       "      <td>785942.0</td>\n",
       "      <td>15384261.0</td>\n",
       "      <td>20299674.0</td>\n",
       "    </tr>\n",
       "    <tr>\n",
       "      <th>2012-13</th>\n",
       "      <td>2440127.0</td>\n",
       "      <td>561921.0</td>\n",
       "      <td>239067.0</td>\n",
       "      <td>3241115.0</td>\n",
       "      <td>287282.0</td>\n",
       "      <td>585812.0</td>\n",
       "      <td>873094.0</td>\n",
       "      <td>841379.0</td>\n",
       "      <td>3014485.0</td>\n",
       "      <td>11952135.0</td>\n",
       "      <td>792069.0</td>\n",
       "      <td>15758689.0</td>\n",
       "      <td>20714277.0</td>\n",
       "    </tr>\n",
       "    <tr>\n",
       "      <th>2013-14</th>\n",
       "      <td>2338044.0</td>\n",
       "      <td>569272.0</td>\n",
       "      <td>192335.0</td>\n",
       "      <td>3099651.0</td>\n",
       "      <td>224431.0</td>\n",
       "      <td>485470.0</td>\n",
       "      <td>709901.0</td>\n",
       "      <td>833477.0</td>\n",
       "      <td>3696674.0</td>\n",
       "      <td>12463932.0</td>\n",
       "      <td>730172.0</td>\n",
       "      <td>16890778.0</td>\n",
       "      <td>21533807.0</td>\n",
       "    </tr>\n",
       "    <tr>\n",
       "      <th>2014-15</th>\n",
       "      <td>2418099.0</td>\n",
       "      <td>630723.0</td>\n",
       "      <td>174759.0</td>\n",
       "      <td>3223581.0</td>\n",
       "      <td>263407.0</td>\n",
       "      <td>437336.0</td>\n",
       "      <td>700743.0</td>\n",
       "      <td>939884.0</td>\n",
       "      <td>4701656.0</td>\n",
       "      <td>12995340.0</td>\n",
       "      <td>765182.0</td>\n",
       "      <td>18462178.0</td>\n",
       "      <td>23326386.0</td>\n",
       "    </tr>\n",
       "    <tr>\n",
       "      <th>2015-16</th>\n",
       "      <td>2557727.0</td>\n",
       "      <td>705317.0</td>\n",
       "      <td>179217.0</td>\n",
       "      <td>3442261.0</td>\n",
       "      <td>337594.0</td>\n",
       "      <td>451234.0</td>\n",
       "      <td>788828.0</td>\n",
       "      <td>942649.0</td>\n",
       "      <td>5289159.0</td>\n",
       "      <td>12911021.0</td>\n",
       "      <td>738547.0</td>\n",
       "      <td>18938727.0</td>\n",
       "      <td>24112465.0</td>\n",
       "    </tr>\n",
       "    <tr>\n",
       "      <th>2016-17</th>\n",
       "      <td>2705981.0</td>\n",
       "      <td>916255.0</td>\n",
       "      <td>184073.0</td>\n",
       "      <td>3806309.0</td>\n",
       "      <td>346286.0</td>\n",
       "      <td>476067.0</td>\n",
       "      <td>822353.0</td>\n",
       "      <td>783773.0</td>\n",
       "      <td>5897501.0</td>\n",
       "      <td>13121844.0</td>\n",
       "      <td>910670.0</td>\n",
       "      <td>19930015.0</td>\n",
       "      <td>25344006.0</td>\n",
       "    </tr>\n",
       "    <tr>\n",
       "      <th>2017-18</th>\n",
       "      <td>2174024.0</td>\n",
       "      <td>922322.0</td>\n",
       "      <td>192235.0</td>\n",
       "      <td>3288581.0</td>\n",
       "      <td>340781.0</td>\n",
       "      <td>516135.0</td>\n",
       "      <td>856916.0</td>\n",
       "      <td>635698.0</td>\n",
       "      <td>6719909.0</td>\n",
       "      <td>12620690.0</td>\n",
       "      <td>859518.0</td>\n",
       "      <td>20200117.0</td>\n",
       "      <td>24981312.0</td>\n",
       "    </tr>\n",
       "    <tr>\n",
       "      <th>2018-19</th>\n",
       "      <td>2218489.0</td>\n",
       "      <td>941474.0</td>\n",
       "      <td>217426.0</td>\n",
       "      <td>3377389.0</td>\n",
       "      <td>390732.0</td>\n",
       "      <td>616579.0</td>\n",
       "      <td>1007311.0</td>\n",
       "      <td>701005.0</td>\n",
       "      <td>6701430.0</td>\n",
       "      <td>13598190.0</td>\n",
       "      <td>880227.0</td>\n",
       "      <td>21179847.0</td>\n",
       "      <td>26266179.0</td>\n",
       "    </tr>\n",
       "    <tr>\n",
       "      <th>2019-20</th>\n",
       "      <td>1695441.0</td>\n",
       "      <td>946010.0</td>\n",
       "      <td>132124.0</td>\n",
       "      <td>2773575.0</td>\n",
       "      <td>224806.0</td>\n",
       "      <td>492882.0</td>\n",
       "      <td>717688.0</td>\n",
       "      <td>636569.0</td>\n",
       "      <td>5566036.0</td>\n",
       "      <td>11214640.0</td>\n",
       "      <td>636940.0</td>\n",
       "      <td>17417616.0</td>\n",
       "      <td>21546390.0</td>\n",
       "    </tr>\n",
       "    <tr>\n",
       "      <th>CAGR(2009-10 to 2019-20)</th>\n",
       "      <td>-1.49</td>\n",
       "      <td>13.13</td>\n",
       "      <td>-1.38</td>\n",
       "      <td>1.47</td>\n",
       "      <td>-1.65</td>\n",
       "      <td>4.67</td>\n",
       "      <td>2.19</td>\n",
       "      <td>0.37</td>\n",
       "      <td>14.07</td>\n",
       "      <td>2.88</td>\n",
       "      <td>1.09</td>\n",
       "      <td>5.18</td>\n",
       "      <td>4.33</td>\n",
       "    </tr>\n",
       "  </tbody>\n",
       "</table>\n",
       "</div>"
      ],
      "text/plain": [
       "Category                  Passenger Cars  Utility Vehicles      Vans  \\\n",
       "Category                  Passenger Cars  Utility Vehicles      Vans   \n",
       "2009-10                        1970046.0          275563.0  151869.0   \n",
       "2010-11                        2430105.0          328001.0  215794.0   \n",
       "2011-12                        2532852.0          368993.0  236777.0   \n",
       "2012-13                        2440127.0          561921.0  239067.0   \n",
       "2013-14                        2338044.0          569272.0  192335.0   \n",
       "2014-15                        2418099.0          630723.0  174759.0   \n",
       "2015-16                        2557727.0          705317.0  179217.0   \n",
       "2016-17                        2705981.0          916255.0  184073.0   \n",
       "2017-18                        2174024.0          922322.0  192235.0   \n",
       "2018-19                        2218489.0          941474.0  217426.0   \n",
       "2019-20                        1695441.0          946010.0  132124.0   \n",
       "CAGR(2009-10 to 2019-20)           -1.49             13.13     -1.38   \n",
       "\n",
       "Category                  Total Passenger Vehicles  MandHCVs      LCVs  \\\n",
       "Category                  Total Passenger Vehicles  MandHCVs      LCVs   \n",
       "2009-10                                  2397478.0  265369.0  312361.0   \n",
       "2010-11                                  2973900.0  352060.0  400645.0   \n",
       "2011-12                                  3138622.0  377711.0  524046.0   \n",
       "2012-13                                  3241115.0  287282.0  585812.0   \n",
       "2013-14                                  3099651.0  224431.0  485470.0   \n",
       "2014-15                                  3223581.0  263407.0  437336.0   \n",
       "2015-16                                  3442261.0  337594.0  451234.0   \n",
       "2016-17                                  3806309.0  346286.0  476067.0   \n",
       "2017-18                                  3288581.0  340781.0  516135.0   \n",
       "2018-19                                  3377389.0  390732.0  616579.0   \n",
       "2019-20                                  2773575.0  224806.0  492882.0   \n",
       "CAGR(2009-10 to 2019-20)                      1.47     -1.65      4.67   \n",
       "\n",
       "Category                  Total CVs  Three Wheelers   Scooters  Motorcycles  \\\n",
       "Category                  Total CVs  Three Wheelers   Scooters  Motorcycles   \n",
       "2009-10                    577730.0        613606.0  1492659.0    8444100.0   \n",
       "2010-11                    752705.0        795989.0  2126109.0   10500073.0   \n",
       "2011-12                    901757.0        875034.0  2653421.0   11944898.0   \n",
       "2012-13                    873094.0        841379.0  3014485.0   11952135.0   \n",
       "2013-14                    709901.0        833477.0  3696674.0   12463932.0   \n",
       "2014-15                    700743.0        939884.0  4701656.0   12995340.0   \n",
       "2015-16                    788828.0        942649.0  5289159.0   12911021.0   \n",
       "2016-17                    822353.0        783773.0  5897501.0   13121844.0   \n",
       "2017-18                    856916.0        635698.0  6719909.0   12620690.0   \n",
       "2018-19                   1007311.0        701005.0  6701430.0   13598190.0   \n",
       "2019-20                    717688.0        636569.0  5566036.0   11214640.0   \n",
       "CAGR(2009-10 to 2019-20)       2.19            0.37      14.07         2.88   \n",
       "\n",
       "Category                    Mopeds  Total Two Wheelers  Grand Total  \n",
       "Category                    Mopeds  Total Two Wheelers  Grand Total  \n",
       "2009-10                   571489.0          10511009.0   14099823.0  \n",
       "2010-11                   703713.0          13329895.0   17852489.0  \n",
       "2011-12                   785942.0          15384261.0   20299674.0  \n",
       "2012-13                   792069.0          15758689.0   20714277.0  \n",
       "2013-14                   730172.0          16890778.0   21533807.0  \n",
       "2014-15                   765182.0          18462178.0   23326386.0  \n",
       "2015-16                   738547.0          18938727.0   24112465.0  \n",
       "2016-17                   910670.0          19930015.0   25344006.0  \n",
       "2017-18                   859518.0          20200117.0   24981312.0  \n",
       "2018-19                   880227.0          21179847.0   26266179.0  \n",
       "2019-20                   636940.0          17417616.0   21546390.0  \n",
       "CAGR(2009-10 to 2019-20)      1.09                5.18         4.33  "
      ]
     },
     "execution_count": 65,
     "metadata": {},
     "output_type": "execute_result"
    }
   ],
   "source": [
    "newdf=df.transpose()\n",
    "newdf.columns=newdf.iloc[0]\n",
    "newdf"
   ]
  },
  {
   "cell_type": "code",
   "execution_count": null,
   "id": "f48a566c",
   "metadata": {},
   "outputs": [
    {
     "data": {
      "text/html": [
       "<div>\n",
       "<style scoped>\n",
       "    .dataframe tbody tr th:only-of-type {\n",
       "        vertical-align: middle;\n",
       "    }\n",
       "\n",
       "    .dataframe tbody tr th {\n",
       "        vertical-align: top;\n",
       "    }\n",
       "\n",
       "    .dataframe thead th {\n",
       "        text-align: right;\n",
       "    }\n",
       "</style>\n",
       "<table border=\"1\" class=\"dataframe\">\n",
       "  <thead>\n",
       "    <tr style=\"text-align: right;\">\n",
       "      <th>Category</th>\n",
       "      <th>Passenger Cars</th>\n",
       "      <th>Utility Vehicles</th>\n",
       "      <th>Vans</th>\n",
       "      <th>Total Passenger Vehicles</th>\n",
       "      <th>MandHCVs</th>\n",
       "      <th>LCVs</th>\n",
       "      <th>Total CVs</th>\n",
       "      <th>Three Wheelers</th>\n",
       "      <th>Scooters</th>\n",
       "      <th>Motorcycles</th>\n",
       "      <th>Mopeds</th>\n",
       "      <th>Total Two Wheelers</th>\n",
       "      <th>Grand Total</th>\n",
       "    </tr>\n",
       "  </thead>\n",
       "  <tbody>\n",
       "    <tr>\n",
       "      <th>Category</th>\n",
       "      <td>Passenger Cars</td>\n",
       "      <td>Utility Vehicles</td>\n",
       "      <td>Vans</td>\n",
       "      <td>Total Passenger Vehicles</td>\n",
       "      <td>MandHCVs</td>\n",
       "      <td>LCVs</td>\n",
       "      <td>Total CVs</td>\n",
       "      <td>Three Wheelers</td>\n",
       "      <td>Scooters</td>\n",
       "      <td>Motorcycles</td>\n",
       "      <td>Mopeds</td>\n",
       "      <td>Total Two Wheelers</td>\n",
       "      <td>Grand Total</td>\n",
       "    </tr>\n",
       "    <tr>\n",
       "      <th>2009-10</th>\n",
       "      <td>1970046.0</td>\n",
       "      <td>275563.0</td>\n",
       "      <td>151869.0</td>\n",
       "      <td>2397478.0</td>\n",
       "      <td>265369.0</td>\n",
       "      <td>312361.0</td>\n",
       "      <td>577730.0</td>\n",
       "      <td>613606.0</td>\n",
       "      <td>1492659.0</td>\n",
       "      <td>8444100.0</td>\n",
       "      <td>571489.0</td>\n",
       "      <td>10511009.0</td>\n",
       "      <td>14099823.0</td>\n",
       "    </tr>\n",
       "    <tr>\n",
       "      <th>2010-11</th>\n",
       "      <td>2430105.0</td>\n",
       "      <td>328001.0</td>\n",
       "      <td>215794.0</td>\n",
       "      <td>2973900.0</td>\n",
       "      <td>352060.0</td>\n",
       "      <td>400645.0</td>\n",
       "      <td>752705.0</td>\n",
       "      <td>795989.0</td>\n",
       "      <td>2126109.0</td>\n",
       "      <td>10500073.0</td>\n",
       "      <td>703713.0</td>\n",
       "      <td>13329895.0</td>\n",
       "      <td>17852489.0</td>\n",
       "    </tr>\n",
       "    <tr>\n",
       "      <th>2011-12</th>\n",
       "      <td>2532852.0</td>\n",
       "      <td>368993.0</td>\n",
       "      <td>236777.0</td>\n",
       "      <td>3138622.0</td>\n",
       "      <td>377711.0</td>\n",
       "      <td>524046.0</td>\n",
       "      <td>901757.0</td>\n",
       "      <td>875034.0</td>\n",
       "      <td>2653421.0</td>\n",
       "      <td>11944898.0</td>\n",
       "      <td>785942.0</td>\n",
       "      <td>15384261.0</td>\n",
       "      <td>20299674.0</td>\n",
       "    </tr>\n",
       "    <tr>\n",
       "      <th>2012-13</th>\n",
       "      <td>2440127.0</td>\n",
       "      <td>561921.0</td>\n",
       "      <td>239067.0</td>\n",
       "      <td>3241115.0</td>\n",
       "      <td>287282.0</td>\n",
       "      <td>585812.0</td>\n",
       "      <td>873094.0</td>\n",
       "      <td>841379.0</td>\n",
       "      <td>3014485.0</td>\n",
       "      <td>11952135.0</td>\n",
       "      <td>792069.0</td>\n",
       "      <td>15758689.0</td>\n",
       "      <td>20714277.0</td>\n",
       "    </tr>\n",
       "    <tr>\n",
       "      <th>2013-14</th>\n",
       "      <td>2338044.0</td>\n",
       "      <td>569272.0</td>\n",
       "      <td>192335.0</td>\n",
       "      <td>3099651.0</td>\n",
       "      <td>224431.0</td>\n",
       "      <td>485470.0</td>\n",
       "      <td>709901.0</td>\n",
       "      <td>833477.0</td>\n",
       "      <td>3696674.0</td>\n",
       "      <td>12463932.0</td>\n",
       "      <td>730172.0</td>\n",
       "      <td>16890778.0</td>\n",
       "      <td>21533807.0</td>\n",
       "    </tr>\n",
       "    <tr>\n",
       "      <th>2014-15</th>\n",
       "      <td>2418099.0</td>\n",
       "      <td>630723.0</td>\n",
       "      <td>174759.0</td>\n",
       "      <td>3223581.0</td>\n",
       "      <td>263407.0</td>\n",
       "      <td>437336.0</td>\n",
       "      <td>700743.0</td>\n",
       "      <td>939884.0</td>\n",
       "      <td>4701656.0</td>\n",
       "      <td>12995340.0</td>\n",
       "      <td>765182.0</td>\n",
       "      <td>18462178.0</td>\n",
       "      <td>23326386.0</td>\n",
       "    </tr>\n",
       "    <tr>\n",
       "      <th>2015-16</th>\n",
       "      <td>2557727.0</td>\n",
       "      <td>705317.0</td>\n",
       "      <td>179217.0</td>\n",
       "      <td>3442261.0</td>\n",
       "      <td>337594.0</td>\n",
       "      <td>451234.0</td>\n",
       "      <td>788828.0</td>\n",
       "      <td>942649.0</td>\n",
       "      <td>5289159.0</td>\n",
       "      <td>12911021.0</td>\n",
       "      <td>738547.0</td>\n",
       "      <td>18938727.0</td>\n",
       "      <td>24112465.0</td>\n",
       "    </tr>\n",
       "    <tr>\n",
       "      <th>2016-17</th>\n",
       "      <td>2705981.0</td>\n",
       "      <td>916255.0</td>\n",
       "      <td>184073.0</td>\n",
       "      <td>3806309.0</td>\n",
       "      <td>346286.0</td>\n",
       "      <td>476067.0</td>\n",
       "      <td>822353.0</td>\n",
       "      <td>783773.0</td>\n",
       "      <td>5897501.0</td>\n",
       "      <td>13121844.0</td>\n",
       "      <td>910670.0</td>\n",
       "      <td>19930015.0</td>\n",
       "      <td>25344006.0</td>\n",
       "    </tr>\n",
       "    <tr>\n",
       "      <th>2017-18</th>\n",
       "      <td>2174024.0</td>\n",
       "      <td>922322.0</td>\n",
       "      <td>192235.0</td>\n",
       "      <td>3288581.0</td>\n",
       "      <td>340781.0</td>\n",
       "      <td>516135.0</td>\n",
       "      <td>856916.0</td>\n",
       "      <td>635698.0</td>\n",
       "      <td>6719909.0</td>\n",
       "      <td>12620690.0</td>\n",
       "      <td>859518.0</td>\n",
       "      <td>20200117.0</td>\n",
       "      <td>24981312.0</td>\n",
       "    </tr>\n",
       "    <tr>\n",
       "      <th>2018-19</th>\n",
       "      <td>2218489.0</td>\n",
       "      <td>941474.0</td>\n",
       "      <td>217426.0</td>\n",
       "      <td>3377389.0</td>\n",
       "      <td>390732.0</td>\n",
       "      <td>616579.0</td>\n",
       "      <td>1007311.0</td>\n",
       "      <td>701005.0</td>\n",
       "      <td>6701430.0</td>\n",
       "      <td>13598190.0</td>\n",
       "      <td>880227.0</td>\n",
       "      <td>21179847.0</td>\n",
       "      <td>26266179.0</td>\n",
       "    </tr>\n",
       "    <tr>\n",
       "      <th>2019-20</th>\n",
       "      <td>1695441.0</td>\n",
       "      <td>946010.0</td>\n",
       "      <td>132124.0</td>\n",
       "      <td>2773575.0</td>\n",
       "      <td>224806.0</td>\n",
       "      <td>492882.0</td>\n",
       "      <td>717688.0</td>\n",
       "      <td>636569.0</td>\n",
       "      <td>5566036.0</td>\n",
       "      <td>11214640.0</td>\n",
       "      <td>636940.0</td>\n",
       "      <td>17417616.0</td>\n",
       "      <td>21546390.0</td>\n",
       "    </tr>\n",
       "    <tr>\n",
       "      <th>CAGR(2009-10 to 2019-20)</th>\n",
       "      <td>-1.49</td>\n",
       "      <td>13.13</td>\n",
       "      <td>-1.38</td>\n",
       "      <td>1.47</td>\n",
       "      <td>-1.65</td>\n",
       "      <td>4.67</td>\n",
       "      <td>2.19</td>\n",
       "      <td>0.37</td>\n",
       "      <td>14.07</td>\n",
       "      <td>2.88</td>\n",
       "      <td>1.09</td>\n",
       "      <td>5.18</td>\n",
       "      <td>4.33</td>\n",
       "    </tr>\n",
       "  </tbody>\n",
       "</table>\n",
       "</div>"
      ],
      "text/plain": [
       "Category                  Passenger Cars  Utility Vehicles      Vans  \\\n",
       "Category                  Passenger Cars  Utility Vehicles      Vans   \n",
       "2009-10                        1970046.0          275563.0  151869.0   \n",
       "2010-11                        2430105.0          328001.0  215794.0   \n",
       "2011-12                        2532852.0          368993.0  236777.0   \n",
       "2012-13                        2440127.0          561921.0  239067.0   \n",
       "2013-14                        2338044.0          569272.0  192335.0   \n",
       "2014-15                        2418099.0          630723.0  174759.0   \n",
       "2015-16                        2557727.0          705317.0  179217.0   \n",
       "2016-17                        2705981.0          916255.0  184073.0   \n",
       "2017-18                        2174024.0          922322.0  192235.0   \n",
       "2018-19                        2218489.0          941474.0  217426.0   \n",
       "2019-20                        1695441.0          946010.0  132124.0   \n",
       "CAGR(2009-10 to 2019-20)           -1.49             13.13     -1.38   \n",
       "\n",
       "Category                  Total Passenger Vehicles  MandHCVs      LCVs  \\\n",
       "Category                  Total Passenger Vehicles  MandHCVs      LCVs   \n",
       "2009-10                                  2397478.0  265369.0  312361.0   \n",
       "2010-11                                  2973900.0  352060.0  400645.0   \n",
       "2011-12                                  3138622.0  377711.0  524046.0   \n",
       "2012-13                                  3241115.0  287282.0  585812.0   \n",
       "2013-14                                  3099651.0  224431.0  485470.0   \n",
       "2014-15                                  3223581.0  263407.0  437336.0   \n",
       "2015-16                                  3442261.0  337594.0  451234.0   \n",
       "2016-17                                  3806309.0  346286.0  476067.0   \n",
       "2017-18                                  3288581.0  340781.0  516135.0   \n",
       "2018-19                                  3377389.0  390732.0  616579.0   \n",
       "2019-20                                  2773575.0  224806.0  492882.0   \n",
       "CAGR(2009-10 to 2019-20)                      1.47     -1.65      4.67   \n",
       "\n",
       "Category                  Total CVs  Three Wheelers   Scooters  Motorcycles  \\\n",
       "Category                  Total CVs  Three Wheelers   Scooters  Motorcycles   \n",
       "2009-10                    577730.0        613606.0  1492659.0    8444100.0   \n",
       "2010-11                    752705.0        795989.0  2126109.0   10500073.0   \n",
       "2011-12                    901757.0        875034.0  2653421.0   11944898.0   \n",
       "2012-13                    873094.0        841379.0  3014485.0   11952135.0   \n",
       "2013-14                    709901.0        833477.0  3696674.0   12463932.0   \n",
       "2014-15                    700743.0        939884.0  4701656.0   12995340.0   \n",
       "2015-16                    788828.0        942649.0  5289159.0   12911021.0   \n",
       "2016-17                    822353.0        783773.0  5897501.0   13121844.0   \n",
       "2017-18                    856916.0        635698.0  6719909.0   12620690.0   \n",
       "2018-19                   1007311.0        701005.0  6701430.0   13598190.0   \n",
       "2019-20                    717688.0        636569.0  5566036.0   11214640.0   \n",
       "CAGR(2009-10 to 2019-20)       2.19            0.37      14.07         2.88   \n",
       "\n",
       "Category                    Mopeds  Total Two Wheelers  Grand Total  \n",
       "Category                    Mopeds  Total Two Wheelers  Grand Total  \n",
       "2009-10                   571489.0          10511009.0   14099823.0  \n",
       "2010-11                   703713.0          13329895.0   17852489.0  \n",
       "2011-12                   785942.0          15384261.0   20299674.0  \n",
       "2012-13                   792069.0          15758689.0   20714277.0  \n",
       "2013-14                   730172.0          16890778.0   21533807.0  \n",
       "2014-15                   765182.0          18462178.0   23326386.0  \n",
       "2015-16                   738547.0          18938727.0   24112465.0  \n",
       "2016-17                   910670.0          19930015.0   25344006.0  \n",
       "2017-18                   859518.0          20200117.0   24981312.0  \n",
       "2018-19                   880227.0          21179847.0   26266179.0  \n",
       "2019-20                   636940.0          17417616.0   21546390.0  \n",
       "CAGR(2009-10 to 2019-20)      1.09                5.18         4.33  "
      ]
     },
     "execution_count": 59,
     "metadata": {},
     "output_type": "execute_result"
    }
   ],
   "source": []
  },
  {
   "cell_type": "code",
   "execution_count": 63,
   "id": "d004a17b",
   "metadata": {},
   "outputs": [
    {
     "data": {
      "text/plain": [
       "Index(['Passenger Cars', 'Utility Vehicles', 'Vans',\n",
       "       'Total Passenger Vehicles', 'MandHCVs', 'LCVs', 'Total CVs',\n",
       "       'Three Wheelers', 'Scooters', 'Motorcycles', 'Mopeds',\n",
       "       'Total Two Wheelers', 'Grand Total'],\n",
       "      dtype='object', name='Category')"
      ]
     },
     "execution_count": 63,
     "metadata": {},
     "output_type": "execute_result"
    }
   ],
   "source": [
    "newdf.columns\n"
   ]
  },
  {
   "cell_type": "code",
   "execution_count": 66,
   "id": "9671fde9",
   "metadata": {},
   "outputs": [
    {
     "data": {
      "text/html": [
       "<div>\n",
       "<style scoped>\n",
       "    .dataframe tbody tr th:only-of-type {\n",
       "        vertical-align: middle;\n",
       "    }\n",
       "\n",
       "    .dataframe tbody tr th {\n",
       "        vertical-align: top;\n",
       "    }\n",
       "\n",
       "    .dataframe thead th {\n",
       "        text-align: right;\n",
       "    }\n",
       "</style>\n",
       "<table border=\"1\" class=\"dataframe\">\n",
       "  <thead>\n",
       "    <tr style=\"text-align: right;\">\n",
       "      <th></th>\n",
       "      <th>Passenger Cars</th>\n",
       "      <th>Utility Vehicles</th>\n",
       "      <th>Vans</th>\n",
       "      <th>Total Passenger Vehicles</th>\n",
       "      <th>MandHCVs</th>\n",
       "      <th>LCVs</th>\n",
       "      <th>Total CVs</th>\n",
       "      <th>Three Wheelers</th>\n",
       "      <th>Scooters</th>\n",
       "      <th>Motorcycles</th>\n",
       "      <th>Mopeds</th>\n",
       "      <th>Total Two Wheelers</th>\n",
       "      <th>Grand Total</th>\n",
       "    </tr>\n",
       "  </thead>\n",
       "  <tbody>\n",
       "    <tr>\n",
       "      <th>Category</th>\n",
       "      <td>Passenger Cars</td>\n",
       "      <td>Utility Vehicles</td>\n",
       "      <td>Vans</td>\n",
       "      <td>Total Passenger Vehicles</td>\n",
       "      <td>MandHCVs</td>\n",
       "      <td>LCVs</td>\n",
       "      <td>Total CVs</td>\n",
       "      <td>Three Wheelers</td>\n",
       "      <td>Scooters</td>\n",
       "      <td>Motorcycles</td>\n",
       "      <td>Mopeds</td>\n",
       "      <td>Total Two Wheelers</td>\n",
       "      <td>Grand Total</td>\n",
       "    </tr>\n",
       "    <tr>\n",
       "      <th>2009-10</th>\n",
       "      <td>1970046.0</td>\n",
       "      <td>275563.0</td>\n",
       "      <td>151869.0</td>\n",
       "      <td>2397478.0</td>\n",
       "      <td>265369.0</td>\n",
       "      <td>312361.0</td>\n",
       "      <td>577730.0</td>\n",
       "      <td>613606.0</td>\n",
       "      <td>1492659.0</td>\n",
       "      <td>8444100.0</td>\n",
       "      <td>571489.0</td>\n",
       "      <td>10511009.0</td>\n",
       "      <td>14099823.0</td>\n",
       "    </tr>\n",
       "    <tr>\n",
       "      <th>2010-11</th>\n",
       "      <td>2430105.0</td>\n",
       "      <td>328001.0</td>\n",
       "      <td>215794.0</td>\n",
       "      <td>2973900.0</td>\n",
       "      <td>352060.0</td>\n",
       "      <td>400645.0</td>\n",
       "      <td>752705.0</td>\n",
       "      <td>795989.0</td>\n",
       "      <td>2126109.0</td>\n",
       "      <td>10500073.0</td>\n",
       "      <td>703713.0</td>\n",
       "      <td>13329895.0</td>\n",
       "      <td>17852489.0</td>\n",
       "    </tr>\n",
       "    <tr>\n",
       "      <th>2011-12</th>\n",
       "      <td>2532852.0</td>\n",
       "      <td>368993.0</td>\n",
       "      <td>236777.0</td>\n",
       "      <td>3138622.0</td>\n",
       "      <td>377711.0</td>\n",
       "      <td>524046.0</td>\n",
       "      <td>901757.0</td>\n",
       "      <td>875034.0</td>\n",
       "      <td>2653421.0</td>\n",
       "      <td>11944898.0</td>\n",
       "      <td>785942.0</td>\n",
       "      <td>15384261.0</td>\n",
       "      <td>20299674.0</td>\n",
       "    </tr>\n",
       "    <tr>\n",
       "      <th>2012-13</th>\n",
       "      <td>2440127.0</td>\n",
       "      <td>561921.0</td>\n",
       "      <td>239067.0</td>\n",
       "      <td>3241115.0</td>\n",
       "      <td>287282.0</td>\n",
       "      <td>585812.0</td>\n",
       "      <td>873094.0</td>\n",
       "      <td>841379.0</td>\n",
       "      <td>3014485.0</td>\n",
       "      <td>11952135.0</td>\n",
       "      <td>792069.0</td>\n",
       "      <td>15758689.0</td>\n",
       "      <td>20714277.0</td>\n",
       "    </tr>\n",
       "    <tr>\n",
       "      <th>2013-14</th>\n",
       "      <td>2338044.0</td>\n",
       "      <td>569272.0</td>\n",
       "      <td>192335.0</td>\n",
       "      <td>3099651.0</td>\n",
       "      <td>224431.0</td>\n",
       "      <td>485470.0</td>\n",
       "      <td>709901.0</td>\n",
       "      <td>833477.0</td>\n",
       "      <td>3696674.0</td>\n",
       "      <td>12463932.0</td>\n",
       "      <td>730172.0</td>\n",
       "      <td>16890778.0</td>\n",
       "      <td>21533807.0</td>\n",
       "    </tr>\n",
       "    <tr>\n",
       "      <th>2014-15</th>\n",
       "      <td>2418099.0</td>\n",
       "      <td>630723.0</td>\n",
       "      <td>174759.0</td>\n",
       "      <td>3223581.0</td>\n",
       "      <td>263407.0</td>\n",
       "      <td>437336.0</td>\n",
       "      <td>700743.0</td>\n",
       "      <td>939884.0</td>\n",
       "      <td>4701656.0</td>\n",
       "      <td>12995340.0</td>\n",
       "      <td>765182.0</td>\n",
       "      <td>18462178.0</td>\n",
       "      <td>23326386.0</td>\n",
       "    </tr>\n",
       "    <tr>\n",
       "      <th>2015-16</th>\n",
       "      <td>2557727.0</td>\n",
       "      <td>705317.0</td>\n",
       "      <td>179217.0</td>\n",
       "      <td>3442261.0</td>\n",
       "      <td>337594.0</td>\n",
       "      <td>451234.0</td>\n",
       "      <td>788828.0</td>\n",
       "      <td>942649.0</td>\n",
       "      <td>5289159.0</td>\n",
       "      <td>12911021.0</td>\n",
       "      <td>738547.0</td>\n",
       "      <td>18938727.0</td>\n",
       "      <td>24112465.0</td>\n",
       "    </tr>\n",
       "    <tr>\n",
       "      <th>2016-17</th>\n",
       "      <td>2705981.0</td>\n",
       "      <td>916255.0</td>\n",
       "      <td>184073.0</td>\n",
       "      <td>3806309.0</td>\n",
       "      <td>346286.0</td>\n",
       "      <td>476067.0</td>\n",
       "      <td>822353.0</td>\n",
       "      <td>783773.0</td>\n",
       "      <td>5897501.0</td>\n",
       "      <td>13121844.0</td>\n",
       "      <td>910670.0</td>\n",
       "      <td>19930015.0</td>\n",
       "      <td>25344006.0</td>\n",
       "    </tr>\n",
       "    <tr>\n",
       "      <th>2017-18</th>\n",
       "      <td>2174024.0</td>\n",
       "      <td>922322.0</td>\n",
       "      <td>192235.0</td>\n",
       "      <td>3288581.0</td>\n",
       "      <td>340781.0</td>\n",
       "      <td>516135.0</td>\n",
       "      <td>856916.0</td>\n",
       "      <td>635698.0</td>\n",
       "      <td>6719909.0</td>\n",
       "      <td>12620690.0</td>\n",
       "      <td>859518.0</td>\n",
       "      <td>20200117.0</td>\n",
       "      <td>24981312.0</td>\n",
       "    </tr>\n",
       "    <tr>\n",
       "      <th>2018-19</th>\n",
       "      <td>2218489.0</td>\n",
       "      <td>941474.0</td>\n",
       "      <td>217426.0</td>\n",
       "      <td>3377389.0</td>\n",
       "      <td>390732.0</td>\n",
       "      <td>616579.0</td>\n",
       "      <td>1007311.0</td>\n",
       "      <td>701005.0</td>\n",
       "      <td>6701430.0</td>\n",
       "      <td>13598190.0</td>\n",
       "      <td>880227.0</td>\n",
       "      <td>21179847.0</td>\n",
       "      <td>26266179.0</td>\n",
       "    </tr>\n",
       "    <tr>\n",
       "      <th>2019-20</th>\n",
       "      <td>1695441.0</td>\n",
       "      <td>946010.0</td>\n",
       "      <td>132124.0</td>\n",
       "      <td>2773575.0</td>\n",
       "      <td>224806.0</td>\n",
       "      <td>492882.0</td>\n",
       "      <td>717688.0</td>\n",
       "      <td>636569.0</td>\n",
       "      <td>5566036.0</td>\n",
       "      <td>11214640.0</td>\n",
       "      <td>636940.0</td>\n",
       "      <td>17417616.0</td>\n",
       "      <td>21546390.0</td>\n",
       "    </tr>\n",
       "    <tr>\n",
       "      <th>CAGR(2009-10 to 2019-20)</th>\n",
       "      <td>-1.49</td>\n",
       "      <td>13.13</td>\n",
       "      <td>-1.38</td>\n",
       "      <td>1.47</td>\n",
       "      <td>-1.65</td>\n",
       "      <td>4.67</td>\n",
       "      <td>2.19</td>\n",
       "      <td>0.37</td>\n",
       "      <td>14.07</td>\n",
       "      <td>2.88</td>\n",
       "      <td>1.09</td>\n",
       "      <td>5.18</td>\n",
       "      <td>4.33</td>\n",
       "    </tr>\n",
       "  </tbody>\n",
       "</table>\n",
       "</div>"
      ],
      "text/plain": [
       "                          Passenger Cars  Utility Vehicles      Vans  \\\n",
       "Category                  Passenger Cars  Utility Vehicles      Vans   \n",
       "2009-10                        1970046.0          275563.0  151869.0   \n",
       "2010-11                        2430105.0          328001.0  215794.0   \n",
       "2011-12                        2532852.0          368993.0  236777.0   \n",
       "2012-13                        2440127.0          561921.0  239067.0   \n",
       "2013-14                        2338044.0          569272.0  192335.0   \n",
       "2014-15                        2418099.0          630723.0  174759.0   \n",
       "2015-16                        2557727.0          705317.0  179217.0   \n",
       "2016-17                        2705981.0          916255.0  184073.0   \n",
       "2017-18                        2174024.0          922322.0  192235.0   \n",
       "2018-19                        2218489.0          941474.0  217426.0   \n",
       "2019-20                        1695441.0          946010.0  132124.0   \n",
       "CAGR(2009-10 to 2019-20)           -1.49             13.13     -1.38   \n",
       "\n",
       "                          Total Passenger Vehicles  MandHCVs      LCVs  \\\n",
       "Category                  Total Passenger Vehicles  MandHCVs      LCVs   \n",
       "2009-10                                  2397478.0  265369.0  312361.0   \n",
       "2010-11                                  2973900.0  352060.0  400645.0   \n",
       "2011-12                                  3138622.0  377711.0  524046.0   \n",
       "2012-13                                  3241115.0  287282.0  585812.0   \n",
       "2013-14                                  3099651.0  224431.0  485470.0   \n",
       "2014-15                                  3223581.0  263407.0  437336.0   \n",
       "2015-16                                  3442261.0  337594.0  451234.0   \n",
       "2016-17                                  3806309.0  346286.0  476067.0   \n",
       "2017-18                                  3288581.0  340781.0  516135.0   \n",
       "2018-19                                  3377389.0  390732.0  616579.0   \n",
       "2019-20                                  2773575.0  224806.0  492882.0   \n",
       "CAGR(2009-10 to 2019-20)                      1.47     -1.65      4.67   \n",
       "\n",
       "                          Total CVs  Three Wheelers   Scooters  Motorcycles  \\\n",
       "Category                  Total CVs  Three Wheelers   Scooters  Motorcycles   \n",
       "2009-10                    577730.0        613606.0  1492659.0    8444100.0   \n",
       "2010-11                    752705.0        795989.0  2126109.0   10500073.0   \n",
       "2011-12                    901757.0        875034.0  2653421.0   11944898.0   \n",
       "2012-13                    873094.0        841379.0  3014485.0   11952135.0   \n",
       "2013-14                    709901.0        833477.0  3696674.0   12463932.0   \n",
       "2014-15                    700743.0        939884.0  4701656.0   12995340.0   \n",
       "2015-16                    788828.0        942649.0  5289159.0   12911021.0   \n",
       "2016-17                    822353.0        783773.0  5897501.0   13121844.0   \n",
       "2017-18                    856916.0        635698.0  6719909.0   12620690.0   \n",
       "2018-19                   1007311.0        701005.0  6701430.0   13598190.0   \n",
       "2019-20                    717688.0        636569.0  5566036.0   11214640.0   \n",
       "CAGR(2009-10 to 2019-20)       2.19            0.37      14.07         2.88   \n",
       "\n",
       "                            Mopeds  Total Two Wheelers  Grand Total  \n",
       "Category                    Mopeds  Total Two Wheelers  Grand Total  \n",
       "2009-10                   571489.0          10511009.0   14099823.0  \n",
       "2010-11                   703713.0          13329895.0   17852489.0  \n",
       "2011-12                   785942.0          15384261.0   20299674.0  \n",
       "2012-13                   792069.0          15758689.0   20714277.0  \n",
       "2013-14                   730172.0          16890778.0   21533807.0  \n",
       "2014-15                   765182.0          18462178.0   23326386.0  \n",
       "2015-16                   738547.0          18938727.0   24112465.0  \n",
       "2016-17                   910670.0          19930015.0   25344006.0  \n",
       "2017-18                   859518.0          20200117.0   24981312.0  \n",
       "2018-19                   880227.0          21179847.0   26266179.0  \n",
       "2019-20                   636940.0          17417616.0   21546390.0  \n",
       "CAGR(2009-10 to 2019-20)      1.09                5.18         4.33  "
      ]
     },
     "execution_count": 66,
     "metadata": {},
     "output_type": "execute_result"
    }
   ],
   "source": [
    "# Assuming newdf is your DataFrame\n",
    "newdf.columns = newdf.iloc[0].values  # Set the first row as the column names\n",
    "\n",
    "newdf"
   ]
  },
  {
   "cell_type": "code",
   "execution_count": 67,
   "id": "558f5383",
   "metadata": {},
   "outputs": [
    {
     "data": {
      "text/html": [
       "<div>\n",
       "<style scoped>\n",
       "    .dataframe tbody tr th:only-of-type {\n",
       "        vertical-align: middle;\n",
       "    }\n",
       "\n",
       "    .dataframe tbody tr th {\n",
       "        vertical-align: top;\n",
       "    }\n",
       "\n",
       "    .dataframe thead th {\n",
       "        text-align: right;\n",
       "    }\n",
       "</style>\n",
       "<table border=\"1\" class=\"dataframe\">\n",
       "  <thead>\n",
       "    <tr style=\"text-align: right;\">\n",
       "      <th></th>\n",
       "      <th>Passenger Cars</th>\n",
       "      <th>Utility Vehicles</th>\n",
       "      <th>Vans</th>\n",
       "      <th>Total Passenger Vehicles</th>\n",
       "      <th>MandHCVs</th>\n",
       "      <th>LCVs</th>\n",
       "      <th>Total CVs</th>\n",
       "      <th>Three Wheelers</th>\n",
       "      <th>Scooters</th>\n",
       "      <th>Motorcycles</th>\n",
       "      <th>Mopeds</th>\n",
       "      <th>Total Two Wheelers</th>\n",
       "      <th>Grand Total</th>\n",
       "    </tr>\n",
       "  </thead>\n",
       "  <tbody>\n",
       "    <tr>\n",
       "      <th>2009-10</th>\n",
       "      <td>1970046.0</td>\n",
       "      <td>275563.0</td>\n",
       "      <td>151869.0</td>\n",
       "      <td>2397478.0</td>\n",
       "      <td>265369.0</td>\n",
       "      <td>312361.0</td>\n",
       "      <td>577730.0</td>\n",
       "      <td>613606.0</td>\n",
       "      <td>1492659.0</td>\n",
       "      <td>8444100.0</td>\n",
       "      <td>571489.0</td>\n",
       "      <td>10511009.0</td>\n",
       "      <td>14099823.0</td>\n",
       "    </tr>\n",
       "    <tr>\n",
       "      <th>2010-11</th>\n",
       "      <td>2430105.0</td>\n",
       "      <td>328001.0</td>\n",
       "      <td>215794.0</td>\n",
       "      <td>2973900.0</td>\n",
       "      <td>352060.0</td>\n",
       "      <td>400645.0</td>\n",
       "      <td>752705.0</td>\n",
       "      <td>795989.0</td>\n",
       "      <td>2126109.0</td>\n",
       "      <td>10500073.0</td>\n",
       "      <td>703713.0</td>\n",
       "      <td>13329895.0</td>\n",
       "      <td>17852489.0</td>\n",
       "    </tr>\n",
       "    <tr>\n",
       "      <th>2011-12</th>\n",
       "      <td>2532852.0</td>\n",
       "      <td>368993.0</td>\n",
       "      <td>236777.0</td>\n",
       "      <td>3138622.0</td>\n",
       "      <td>377711.0</td>\n",
       "      <td>524046.0</td>\n",
       "      <td>901757.0</td>\n",
       "      <td>875034.0</td>\n",
       "      <td>2653421.0</td>\n",
       "      <td>11944898.0</td>\n",
       "      <td>785942.0</td>\n",
       "      <td>15384261.0</td>\n",
       "      <td>20299674.0</td>\n",
       "    </tr>\n",
       "    <tr>\n",
       "      <th>2012-13</th>\n",
       "      <td>2440127.0</td>\n",
       "      <td>561921.0</td>\n",
       "      <td>239067.0</td>\n",
       "      <td>3241115.0</td>\n",
       "      <td>287282.0</td>\n",
       "      <td>585812.0</td>\n",
       "      <td>873094.0</td>\n",
       "      <td>841379.0</td>\n",
       "      <td>3014485.0</td>\n",
       "      <td>11952135.0</td>\n",
       "      <td>792069.0</td>\n",
       "      <td>15758689.0</td>\n",
       "      <td>20714277.0</td>\n",
       "    </tr>\n",
       "    <tr>\n",
       "      <th>2013-14</th>\n",
       "      <td>2338044.0</td>\n",
       "      <td>569272.0</td>\n",
       "      <td>192335.0</td>\n",
       "      <td>3099651.0</td>\n",
       "      <td>224431.0</td>\n",
       "      <td>485470.0</td>\n",
       "      <td>709901.0</td>\n",
       "      <td>833477.0</td>\n",
       "      <td>3696674.0</td>\n",
       "      <td>12463932.0</td>\n",
       "      <td>730172.0</td>\n",
       "      <td>16890778.0</td>\n",
       "      <td>21533807.0</td>\n",
       "    </tr>\n",
       "    <tr>\n",
       "      <th>2014-15</th>\n",
       "      <td>2418099.0</td>\n",
       "      <td>630723.0</td>\n",
       "      <td>174759.0</td>\n",
       "      <td>3223581.0</td>\n",
       "      <td>263407.0</td>\n",
       "      <td>437336.0</td>\n",
       "      <td>700743.0</td>\n",
       "      <td>939884.0</td>\n",
       "      <td>4701656.0</td>\n",
       "      <td>12995340.0</td>\n",
       "      <td>765182.0</td>\n",
       "      <td>18462178.0</td>\n",
       "      <td>23326386.0</td>\n",
       "    </tr>\n",
       "    <tr>\n",
       "      <th>2015-16</th>\n",
       "      <td>2557727.0</td>\n",
       "      <td>705317.0</td>\n",
       "      <td>179217.0</td>\n",
       "      <td>3442261.0</td>\n",
       "      <td>337594.0</td>\n",
       "      <td>451234.0</td>\n",
       "      <td>788828.0</td>\n",
       "      <td>942649.0</td>\n",
       "      <td>5289159.0</td>\n",
       "      <td>12911021.0</td>\n",
       "      <td>738547.0</td>\n",
       "      <td>18938727.0</td>\n",
       "      <td>24112465.0</td>\n",
       "    </tr>\n",
       "    <tr>\n",
       "      <th>2016-17</th>\n",
       "      <td>2705981.0</td>\n",
       "      <td>916255.0</td>\n",
       "      <td>184073.0</td>\n",
       "      <td>3806309.0</td>\n",
       "      <td>346286.0</td>\n",
       "      <td>476067.0</td>\n",
       "      <td>822353.0</td>\n",
       "      <td>783773.0</td>\n",
       "      <td>5897501.0</td>\n",
       "      <td>13121844.0</td>\n",
       "      <td>910670.0</td>\n",
       "      <td>19930015.0</td>\n",
       "      <td>25344006.0</td>\n",
       "    </tr>\n",
       "    <tr>\n",
       "      <th>2017-18</th>\n",
       "      <td>2174024.0</td>\n",
       "      <td>922322.0</td>\n",
       "      <td>192235.0</td>\n",
       "      <td>3288581.0</td>\n",
       "      <td>340781.0</td>\n",
       "      <td>516135.0</td>\n",
       "      <td>856916.0</td>\n",
       "      <td>635698.0</td>\n",
       "      <td>6719909.0</td>\n",
       "      <td>12620690.0</td>\n",
       "      <td>859518.0</td>\n",
       "      <td>20200117.0</td>\n",
       "      <td>24981312.0</td>\n",
       "    </tr>\n",
       "    <tr>\n",
       "      <th>2018-19</th>\n",
       "      <td>2218489.0</td>\n",
       "      <td>941474.0</td>\n",
       "      <td>217426.0</td>\n",
       "      <td>3377389.0</td>\n",
       "      <td>390732.0</td>\n",
       "      <td>616579.0</td>\n",
       "      <td>1007311.0</td>\n",
       "      <td>701005.0</td>\n",
       "      <td>6701430.0</td>\n",
       "      <td>13598190.0</td>\n",
       "      <td>880227.0</td>\n",
       "      <td>21179847.0</td>\n",
       "      <td>26266179.0</td>\n",
       "    </tr>\n",
       "    <tr>\n",
       "      <th>2019-20</th>\n",
       "      <td>1695441.0</td>\n",
       "      <td>946010.0</td>\n",
       "      <td>132124.0</td>\n",
       "      <td>2773575.0</td>\n",
       "      <td>224806.0</td>\n",
       "      <td>492882.0</td>\n",
       "      <td>717688.0</td>\n",
       "      <td>636569.0</td>\n",
       "      <td>5566036.0</td>\n",
       "      <td>11214640.0</td>\n",
       "      <td>636940.0</td>\n",
       "      <td>17417616.0</td>\n",
       "      <td>21546390.0</td>\n",
       "    </tr>\n",
       "    <tr>\n",
       "      <th>CAGR(2009-10 to 2019-20)</th>\n",
       "      <td>-1.49</td>\n",
       "      <td>13.13</td>\n",
       "      <td>-1.38</td>\n",
       "      <td>1.47</td>\n",
       "      <td>-1.65</td>\n",
       "      <td>4.67</td>\n",
       "      <td>2.19</td>\n",
       "      <td>0.37</td>\n",
       "      <td>14.07</td>\n",
       "      <td>2.88</td>\n",
       "      <td>1.09</td>\n",
       "      <td>5.18</td>\n",
       "      <td>4.33</td>\n",
       "    </tr>\n",
       "  </tbody>\n",
       "</table>\n",
       "</div>"
      ],
      "text/plain": [
       "                         Passenger Cars Utility Vehicles      Vans  \\\n",
       "2009-10                       1970046.0         275563.0  151869.0   \n",
       "2010-11                       2430105.0         328001.0  215794.0   \n",
       "2011-12                       2532852.0         368993.0  236777.0   \n",
       "2012-13                       2440127.0         561921.0  239067.0   \n",
       "2013-14                       2338044.0         569272.0  192335.0   \n",
       "2014-15                       2418099.0         630723.0  174759.0   \n",
       "2015-16                       2557727.0         705317.0  179217.0   \n",
       "2016-17                       2705981.0         916255.0  184073.0   \n",
       "2017-18                       2174024.0         922322.0  192235.0   \n",
       "2018-19                       2218489.0         941474.0  217426.0   \n",
       "2019-20                       1695441.0         946010.0  132124.0   \n",
       "CAGR(2009-10 to 2019-20)          -1.49            13.13     -1.38   \n",
       "\n",
       "                         Total Passenger Vehicles  MandHCVs      LCVs  \\\n",
       "2009-10                                 2397478.0  265369.0  312361.0   \n",
       "2010-11                                 2973900.0  352060.0  400645.0   \n",
       "2011-12                                 3138622.0  377711.0  524046.0   \n",
       "2012-13                                 3241115.0  287282.0  585812.0   \n",
       "2013-14                                 3099651.0  224431.0  485470.0   \n",
       "2014-15                                 3223581.0  263407.0  437336.0   \n",
       "2015-16                                 3442261.0  337594.0  451234.0   \n",
       "2016-17                                 3806309.0  346286.0  476067.0   \n",
       "2017-18                                 3288581.0  340781.0  516135.0   \n",
       "2018-19                                 3377389.0  390732.0  616579.0   \n",
       "2019-20                                 2773575.0  224806.0  492882.0   \n",
       "CAGR(2009-10 to 2019-20)                     1.47     -1.65      4.67   \n",
       "\n",
       "                          Total CVs Three Wheelers   Scooters Motorcycles  \\\n",
       "2009-10                    577730.0       613606.0  1492659.0   8444100.0   \n",
       "2010-11                    752705.0       795989.0  2126109.0  10500073.0   \n",
       "2011-12                    901757.0       875034.0  2653421.0  11944898.0   \n",
       "2012-13                    873094.0       841379.0  3014485.0  11952135.0   \n",
       "2013-14                    709901.0       833477.0  3696674.0  12463932.0   \n",
       "2014-15                    700743.0       939884.0  4701656.0  12995340.0   \n",
       "2015-16                    788828.0       942649.0  5289159.0  12911021.0   \n",
       "2016-17                    822353.0       783773.0  5897501.0  13121844.0   \n",
       "2017-18                    856916.0       635698.0  6719909.0  12620690.0   \n",
       "2018-19                   1007311.0       701005.0  6701430.0  13598190.0   \n",
       "2019-20                    717688.0       636569.0  5566036.0  11214640.0   \n",
       "CAGR(2009-10 to 2019-20)       2.19           0.37      14.07        2.88   \n",
       "\n",
       "                            Mopeds Total Two Wheelers Grand Total  \n",
       "2009-10                   571489.0         10511009.0  14099823.0  \n",
       "2010-11                   703713.0         13329895.0  17852489.0  \n",
       "2011-12                   785942.0         15384261.0  20299674.0  \n",
       "2012-13                   792069.0         15758689.0  20714277.0  \n",
       "2013-14                   730172.0         16890778.0  21533807.0  \n",
       "2014-15                   765182.0         18462178.0  23326386.0  \n",
       "2015-16                   738547.0         18938727.0  24112465.0  \n",
       "2016-17                   910670.0         19930015.0  25344006.0  \n",
       "2017-18                   859518.0         20200117.0  24981312.0  \n",
       "2018-19                   880227.0         21179847.0  26266179.0  \n",
       "2019-20                   636940.0         17417616.0  21546390.0  \n",
       "CAGR(2009-10 to 2019-20)      1.09               5.18        4.33  "
      ]
     },
     "execution_count": 67,
     "metadata": {},
     "output_type": "execute_result"
    }
   ],
   "source": [
    "newdf = newdf.drop(newdf.index[0])  # Drop the first row\n",
    "newdf"
   ]
  },
  {
   "cell_type": "code",
   "execution_count": 73,
   "id": "c07bb853",
   "metadata": {},
   "outputs": [],
   "source": [
    "\n",
    "newdf.rename(columns={'index': 'Year'}, inplace=True)\n"
   ]
  },
  {
   "cell_type": "code",
   "execution_count": 74,
   "id": "5fa80b35",
   "metadata": {},
   "outputs": [
    {
     "data": {
      "text/html": [
       "<div>\n",
       "<style scoped>\n",
       "    .dataframe tbody tr th:only-of-type {\n",
       "        vertical-align: middle;\n",
       "    }\n",
       "\n",
       "    .dataframe tbody tr th {\n",
       "        vertical-align: top;\n",
       "    }\n",
       "\n",
       "    .dataframe thead th {\n",
       "        text-align: right;\n",
       "    }\n",
       "</style>\n",
       "<table border=\"1\" class=\"dataframe\">\n",
       "  <thead>\n",
       "    <tr style=\"text-align: right;\">\n",
       "      <th></th>\n",
       "      <th>Year</th>\n",
       "      <th>Passenger Cars</th>\n",
       "      <th>Utility Vehicles</th>\n",
       "      <th>Vans</th>\n",
       "      <th>Total Passenger Vehicles</th>\n",
       "      <th>MandHCVs</th>\n",
       "      <th>LCVs</th>\n",
       "      <th>Total CVs</th>\n",
       "      <th>Three Wheelers</th>\n",
       "      <th>Scooters</th>\n",
       "      <th>Motorcycles</th>\n",
       "      <th>Mopeds</th>\n",
       "      <th>Total Two Wheelers</th>\n",
       "      <th>Grand Total</th>\n",
       "    </tr>\n",
       "  </thead>\n",
       "  <tbody>\n",
       "    <tr>\n",
       "      <th>0</th>\n",
       "      <td>2009-10</td>\n",
       "      <td>1970046.0</td>\n",
       "      <td>275563.0</td>\n",
       "      <td>151869.0</td>\n",
       "      <td>2397478.0</td>\n",
       "      <td>265369.0</td>\n",
       "      <td>312361.0</td>\n",
       "      <td>577730.0</td>\n",
       "      <td>613606.0</td>\n",
       "      <td>1492659.0</td>\n",
       "      <td>8444100.0</td>\n",
       "      <td>571489.0</td>\n",
       "      <td>10511009.0</td>\n",
       "      <td>14099823.0</td>\n",
       "    </tr>\n",
       "    <tr>\n",
       "      <th>1</th>\n",
       "      <td>2010-11</td>\n",
       "      <td>2430105.0</td>\n",
       "      <td>328001.0</td>\n",
       "      <td>215794.0</td>\n",
       "      <td>2973900.0</td>\n",
       "      <td>352060.0</td>\n",
       "      <td>400645.0</td>\n",
       "      <td>752705.0</td>\n",
       "      <td>795989.0</td>\n",
       "      <td>2126109.0</td>\n",
       "      <td>10500073.0</td>\n",
       "      <td>703713.0</td>\n",
       "      <td>13329895.0</td>\n",
       "      <td>17852489.0</td>\n",
       "    </tr>\n",
       "    <tr>\n",
       "      <th>2</th>\n",
       "      <td>2011-12</td>\n",
       "      <td>2532852.0</td>\n",
       "      <td>368993.0</td>\n",
       "      <td>236777.0</td>\n",
       "      <td>3138622.0</td>\n",
       "      <td>377711.0</td>\n",
       "      <td>524046.0</td>\n",
       "      <td>901757.0</td>\n",
       "      <td>875034.0</td>\n",
       "      <td>2653421.0</td>\n",
       "      <td>11944898.0</td>\n",
       "      <td>785942.0</td>\n",
       "      <td>15384261.0</td>\n",
       "      <td>20299674.0</td>\n",
       "    </tr>\n",
       "    <tr>\n",
       "      <th>3</th>\n",
       "      <td>2012-13</td>\n",
       "      <td>2440127.0</td>\n",
       "      <td>561921.0</td>\n",
       "      <td>239067.0</td>\n",
       "      <td>3241115.0</td>\n",
       "      <td>287282.0</td>\n",
       "      <td>585812.0</td>\n",
       "      <td>873094.0</td>\n",
       "      <td>841379.0</td>\n",
       "      <td>3014485.0</td>\n",
       "      <td>11952135.0</td>\n",
       "      <td>792069.0</td>\n",
       "      <td>15758689.0</td>\n",
       "      <td>20714277.0</td>\n",
       "    </tr>\n",
       "    <tr>\n",
       "      <th>4</th>\n",
       "      <td>2013-14</td>\n",
       "      <td>2338044.0</td>\n",
       "      <td>569272.0</td>\n",
       "      <td>192335.0</td>\n",
       "      <td>3099651.0</td>\n",
       "      <td>224431.0</td>\n",
       "      <td>485470.0</td>\n",
       "      <td>709901.0</td>\n",
       "      <td>833477.0</td>\n",
       "      <td>3696674.0</td>\n",
       "      <td>12463932.0</td>\n",
       "      <td>730172.0</td>\n",
       "      <td>16890778.0</td>\n",
       "      <td>21533807.0</td>\n",
       "    </tr>\n",
       "    <tr>\n",
       "      <th>5</th>\n",
       "      <td>2014-15</td>\n",
       "      <td>2418099.0</td>\n",
       "      <td>630723.0</td>\n",
       "      <td>174759.0</td>\n",
       "      <td>3223581.0</td>\n",
       "      <td>263407.0</td>\n",
       "      <td>437336.0</td>\n",
       "      <td>700743.0</td>\n",
       "      <td>939884.0</td>\n",
       "      <td>4701656.0</td>\n",
       "      <td>12995340.0</td>\n",
       "      <td>765182.0</td>\n",
       "      <td>18462178.0</td>\n",
       "      <td>23326386.0</td>\n",
       "    </tr>\n",
       "    <tr>\n",
       "      <th>6</th>\n",
       "      <td>2015-16</td>\n",
       "      <td>2557727.0</td>\n",
       "      <td>705317.0</td>\n",
       "      <td>179217.0</td>\n",
       "      <td>3442261.0</td>\n",
       "      <td>337594.0</td>\n",
       "      <td>451234.0</td>\n",
       "      <td>788828.0</td>\n",
       "      <td>942649.0</td>\n",
       "      <td>5289159.0</td>\n",
       "      <td>12911021.0</td>\n",
       "      <td>738547.0</td>\n",
       "      <td>18938727.0</td>\n",
       "      <td>24112465.0</td>\n",
       "    </tr>\n",
       "    <tr>\n",
       "      <th>7</th>\n",
       "      <td>2016-17</td>\n",
       "      <td>2705981.0</td>\n",
       "      <td>916255.0</td>\n",
       "      <td>184073.0</td>\n",
       "      <td>3806309.0</td>\n",
       "      <td>346286.0</td>\n",
       "      <td>476067.0</td>\n",
       "      <td>822353.0</td>\n",
       "      <td>783773.0</td>\n",
       "      <td>5897501.0</td>\n",
       "      <td>13121844.0</td>\n",
       "      <td>910670.0</td>\n",
       "      <td>19930015.0</td>\n",
       "      <td>25344006.0</td>\n",
       "    </tr>\n",
       "    <tr>\n",
       "      <th>8</th>\n",
       "      <td>2017-18</td>\n",
       "      <td>2174024.0</td>\n",
       "      <td>922322.0</td>\n",
       "      <td>192235.0</td>\n",
       "      <td>3288581.0</td>\n",
       "      <td>340781.0</td>\n",
       "      <td>516135.0</td>\n",
       "      <td>856916.0</td>\n",
       "      <td>635698.0</td>\n",
       "      <td>6719909.0</td>\n",
       "      <td>12620690.0</td>\n",
       "      <td>859518.0</td>\n",
       "      <td>20200117.0</td>\n",
       "      <td>24981312.0</td>\n",
       "    </tr>\n",
       "    <tr>\n",
       "      <th>9</th>\n",
       "      <td>2018-19</td>\n",
       "      <td>2218489.0</td>\n",
       "      <td>941474.0</td>\n",
       "      <td>217426.0</td>\n",
       "      <td>3377389.0</td>\n",
       "      <td>390732.0</td>\n",
       "      <td>616579.0</td>\n",
       "      <td>1007311.0</td>\n",
       "      <td>701005.0</td>\n",
       "      <td>6701430.0</td>\n",
       "      <td>13598190.0</td>\n",
       "      <td>880227.0</td>\n",
       "      <td>21179847.0</td>\n",
       "      <td>26266179.0</td>\n",
       "    </tr>\n",
       "    <tr>\n",
       "      <th>10</th>\n",
       "      <td>2019-20</td>\n",
       "      <td>1695441.0</td>\n",
       "      <td>946010.0</td>\n",
       "      <td>132124.0</td>\n",
       "      <td>2773575.0</td>\n",
       "      <td>224806.0</td>\n",
       "      <td>492882.0</td>\n",
       "      <td>717688.0</td>\n",
       "      <td>636569.0</td>\n",
       "      <td>5566036.0</td>\n",
       "      <td>11214640.0</td>\n",
       "      <td>636940.0</td>\n",
       "      <td>17417616.0</td>\n",
       "      <td>21546390.0</td>\n",
       "    </tr>\n",
       "    <tr>\n",
       "      <th>11</th>\n",
       "      <td>CAGR(2009-10 to 2019-20)</td>\n",
       "      <td>-1.49</td>\n",
       "      <td>13.13</td>\n",
       "      <td>-1.38</td>\n",
       "      <td>1.47</td>\n",
       "      <td>-1.65</td>\n",
       "      <td>4.67</td>\n",
       "      <td>2.19</td>\n",
       "      <td>0.37</td>\n",
       "      <td>14.07</td>\n",
       "      <td>2.88</td>\n",
       "      <td>1.09</td>\n",
       "      <td>5.18</td>\n",
       "      <td>4.33</td>\n",
       "    </tr>\n",
       "  </tbody>\n",
       "</table>\n",
       "</div>"
      ],
      "text/plain": [
       "                        Year Passenger Cars Utility Vehicles      Vans  \\\n",
       "0                    2009-10      1970046.0         275563.0  151869.0   \n",
       "1                    2010-11      2430105.0         328001.0  215794.0   \n",
       "2                    2011-12      2532852.0         368993.0  236777.0   \n",
       "3                    2012-13      2440127.0         561921.0  239067.0   \n",
       "4                    2013-14      2338044.0         569272.0  192335.0   \n",
       "5                    2014-15      2418099.0         630723.0  174759.0   \n",
       "6                    2015-16      2557727.0         705317.0  179217.0   \n",
       "7                    2016-17      2705981.0         916255.0  184073.0   \n",
       "8                    2017-18      2174024.0         922322.0  192235.0   \n",
       "9                    2018-19      2218489.0         941474.0  217426.0   \n",
       "10                   2019-20      1695441.0         946010.0  132124.0   \n",
       "11  CAGR(2009-10 to 2019-20)          -1.49            13.13     -1.38   \n",
       "\n",
       "   Total Passenger Vehicles  MandHCVs      LCVs  Total CVs Three Wheelers  \\\n",
       "0                 2397478.0  265369.0  312361.0   577730.0       613606.0   \n",
       "1                 2973900.0  352060.0  400645.0   752705.0       795989.0   \n",
       "2                 3138622.0  377711.0  524046.0   901757.0       875034.0   \n",
       "3                 3241115.0  287282.0  585812.0   873094.0       841379.0   \n",
       "4                 3099651.0  224431.0  485470.0   709901.0       833477.0   \n",
       "5                 3223581.0  263407.0  437336.0   700743.0       939884.0   \n",
       "6                 3442261.0  337594.0  451234.0   788828.0       942649.0   \n",
       "7                 3806309.0  346286.0  476067.0   822353.0       783773.0   \n",
       "8                 3288581.0  340781.0  516135.0   856916.0       635698.0   \n",
       "9                 3377389.0  390732.0  616579.0  1007311.0       701005.0   \n",
       "10                2773575.0  224806.0  492882.0   717688.0       636569.0   \n",
       "11                     1.47     -1.65      4.67       2.19           0.37   \n",
       "\n",
       "     Scooters Motorcycles    Mopeds Total Two Wheelers Grand Total  \n",
       "0   1492659.0   8444100.0  571489.0         10511009.0  14099823.0  \n",
       "1   2126109.0  10500073.0  703713.0         13329895.0  17852489.0  \n",
       "2   2653421.0  11944898.0  785942.0         15384261.0  20299674.0  \n",
       "3   3014485.0  11952135.0  792069.0         15758689.0  20714277.0  \n",
       "4   3696674.0  12463932.0  730172.0         16890778.0  21533807.0  \n",
       "5   4701656.0  12995340.0  765182.0         18462178.0  23326386.0  \n",
       "6   5289159.0  12911021.0  738547.0         18938727.0  24112465.0  \n",
       "7   5897501.0  13121844.0  910670.0         19930015.0  25344006.0  \n",
       "8   6719909.0  12620690.0  859518.0         20200117.0  24981312.0  \n",
       "9   6701430.0  13598190.0  880227.0         21179847.0  26266179.0  \n",
       "10  5566036.0  11214640.0  636940.0         17417616.0  21546390.0  \n",
       "11      14.07        2.88      1.09               5.18        4.33  "
      ]
     },
     "execution_count": 74,
     "metadata": {},
     "output_type": "execute_result"
    }
   ],
   "source": [
    "newdf"
   ]
  },
  {
   "cell_type": "code",
   "execution_count": 77,
   "id": "5779fb68",
   "metadata": {},
   "outputs": [],
   "source": [
    "fig=px.line(newdf,x='Year',y='Passenger Cars',title='Year Wise Vehicle Sale')"
   ]
  },
  {
   "cell_type": "code",
   "execution_count": 78,
   "id": "f5e3a810",
   "metadata": {},
   "outputs": [
    {
     "data": {
      "application/vnd.plotly.v1+json": {
       "config": {
        "plotlyServerURL": "https://plot.ly"
       },
       "data": [
        {
         "hovertemplate": "Year=%{x}<br>Passenger Cars=%{y}<extra></extra>",
         "legendgroup": "",
         "line": {
          "color": "#636efa",
          "dash": "solid"
         },
         "marker": {
          "symbol": "circle"
         },
         "mode": "lines",
         "name": "",
         "orientation": "v",
         "showlegend": false,
         "type": "scatter",
         "x": [
          "2009-10",
          "2010-11",
          "2011-12",
          "2012-13",
          "2013-14",
          "2014-15",
          "2015-16",
          "2016-17",
          "2017-18",
          "2018-19",
          "2019-20",
          "CAGR(2009-10 to 2019-20)"
         ],
         "xaxis": "x",
         "y": [
          1970046,
          2430105,
          2532852,
          2440127,
          2338044,
          2418099,
          2557727,
          2705981,
          2174024,
          2218489,
          1695441,
          -1.49
         ],
         "yaxis": "y"
        }
       ],
       "layout": {
        "legend": {
         "tracegroupgap": 0
        },
        "template": {
         "data": {
          "bar": [
           {
            "error_x": {
             "color": "#2a3f5f"
            },
            "error_y": {
             "color": "#2a3f5f"
            },
            "marker": {
             "line": {
              "color": "#E5ECF6",
              "width": 0.5
             },
             "pattern": {
              "fillmode": "overlay",
              "size": 10,
              "solidity": 0.2
             }
            },
            "type": "bar"
           }
          ],
          "barpolar": [
           {
            "marker": {
             "line": {
              "color": "#E5ECF6",
              "width": 0.5
             },
             "pattern": {
              "fillmode": "overlay",
              "size": 10,
              "solidity": 0.2
             }
            },
            "type": "barpolar"
           }
          ],
          "carpet": [
           {
            "aaxis": {
             "endlinecolor": "#2a3f5f",
             "gridcolor": "white",
             "linecolor": "white",
             "minorgridcolor": "white",
             "startlinecolor": "#2a3f5f"
            },
            "baxis": {
             "endlinecolor": "#2a3f5f",
             "gridcolor": "white",
             "linecolor": "white",
             "minorgridcolor": "white",
             "startlinecolor": "#2a3f5f"
            },
            "type": "carpet"
           }
          ],
          "choropleth": [
           {
            "colorbar": {
             "outlinewidth": 0,
             "ticks": ""
            },
            "type": "choropleth"
           }
          ],
          "contour": [
           {
            "colorbar": {
             "outlinewidth": 0,
             "ticks": ""
            },
            "colorscale": [
             [
              0,
              "#0d0887"
             ],
             [
              0.1111111111111111,
              "#46039f"
             ],
             [
              0.2222222222222222,
              "#7201a8"
             ],
             [
              0.3333333333333333,
              "#9c179e"
             ],
             [
              0.4444444444444444,
              "#bd3786"
             ],
             [
              0.5555555555555556,
              "#d8576b"
             ],
             [
              0.6666666666666666,
              "#ed7953"
             ],
             [
              0.7777777777777778,
              "#fb9f3a"
             ],
             [
              0.8888888888888888,
              "#fdca26"
             ],
             [
              1,
              "#f0f921"
             ]
            ],
            "type": "contour"
           }
          ],
          "contourcarpet": [
           {
            "colorbar": {
             "outlinewidth": 0,
             "ticks": ""
            },
            "type": "contourcarpet"
           }
          ],
          "heatmap": [
           {
            "colorbar": {
             "outlinewidth": 0,
             "ticks": ""
            },
            "colorscale": [
             [
              0,
              "#0d0887"
             ],
             [
              0.1111111111111111,
              "#46039f"
             ],
             [
              0.2222222222222222,
              "#7201a8"
             ],
             [
              0.3333333333333333,
              "#9c179e"
             ],
             [
              0.4444444444444444,
              "#bd3786"
             ],
             [
              0.5555555555555556,
              "#d8576b"
             ],
             [
              0.6666666666666666,
              "#ed7953"
             ],
             [
              0.7777777777777778,
              "#fb9f3a"
             ],
             [
              0.8888888888888888,
              "#fdca26"
             ],
             [
              1,
              "#f0f921"
             ]
            ],
            "type": "heatmap"
           }
          ],
          "heatmapgl": [
           {
            "colorbar": {
             "outlinewidth": 0,
             "ticks": ""
            },
            "colorscale": [
             [
              0,
              "#0d0887"
             ],
             [
              0.1111111111111111,
              "#46039f"
             ],
             [
              0.2222222222222222,
              "#7201a8"
             ],
             [
              0.3333333333333333,
              "#9c179e"
             ],
             [
              0.4444444444444444,
              "#bd3786"
             ],
             [
              0.5555555555555556,
              "#d8576b"
             ],
             [
              0.6666666666666666,
              "#ed7953"
             ],
             [
              0.7777777777777778,
              "#fb9f3a"
             ],
             [
              0.8888888888888888,
              "#fdca26"
             ],
             [
              1,
              "#f0f921"
             ]
            ],
            "type": "heatmapgl"
           }
          ],
          "histogram": [
           {
            "marker": {
             "pattern": {
              "fillmode": "overlay",
              "size": 10,
              "solidity": 0.2
             }
            },
            "type": "histogram"
           }
          ],
          "histogram2d": [
           {
            "colorbar": {
             "outlinewidth": 0,
             "ticks": ""
            },
            "colorscale": [
             [
              0,
              "#0d0887"
             ],
             [
              0.1111111111111111,
              "#46039f"
             ],
             [
              0.2222222222222222,
              "#7201a8"
             ],
             [
              0.3333333333333333,
              "#9c179e"
             ],
             [
              0.4444444444444444,
              "#bd3786"
             ],
             [
              0.5555555555555556,
              "#d8576b"
             ],
             [
              0.6666666666666666,
              "#ed7953"
             ],
             [
              0.7777777777777778,
              "#fb9f3a"
             ],
             [
              0.8888888888888888,
              "#fdca26"
             ],
             [
              1,
              "#f0f921"
             ]
            ],
            "type": "histogram2d"
           }
          ],
          "histogram2dcontour": [
           {
            "colorbar": {
             "outlinewidth": 0,
             "ticks": ""
            },
            "colorscale": [
             [
              0,
              "#0d0887"
             ],
             [
              0.1111111111111111,
              "#46039f"
             ],
             [
              0.2222222222222222,
              "#7201a8"
             ],
             [
              0.3333333333333333,
              "#9c179e"
             ],
             [
              0.4444444444444444,
              "#bd3786"
             ],
             [
              0.5555555555555556,
              "#d8576b"
             ],
             [
              0.6666666666666666,
              "#ed7953"
             ],
             [
              0.7777777777777778,
              "#fb9f3a"
             ],
             [
              0.8888888888888888,
              "#fdca26"
             ],
             [
              1,
              "#f0f921"
             ]
            ],
            "type": "histogram2dcontour"
           }
          ],
          "mesh3d": [
           {
            "colorbar": {
             "outlinewidth": 0,
             "ticks": ""
            },
            "type": "mesh3d"
           }
          ],
          "parcoords": [
           {
            "line": {
             "colorbar": {
              "outlinewidth": 0,
              "ticks": ""
             }
            },
            "type": "parcoords"
           }
          ],
          "pie": [
           {
            "automargin": true,
            "type": "pie"
           }
          ],
          "scatter": [
           {
            "fillpattern": {
             "fillmode": "overlay",
             "size": 10,
             "solidity": 0.2
            },
            "type": "scatter"
           }
          ],
          "scatter3d": [
           {
            "line": {
             "colorbar": {
              "outlinewidth": 0,
              "ticks": ""
             }
            },
            "marker": {
             "colorbar": {
              "outlinewidth": 0,
              "ticks": ""
             }
            },
            "type": "scatter3d"
           }
          ],
          "scattercarpet": [
           {
            "marker": {
             "colorbar": {
              "outlinewidth": 0,
              "ticks": ""
             }
            },
            "type": "scattercarpet"
           }
          ],
          "scattergeo": [
           {
            "marker": {
             "colorbar": {
              "outlinewidth": 0,
              "ticks": ""
             }
            },
            "type": "scattergeo"
           }
          ],
          "scattergl": [
           {
            "marker": {
             "colorbar": {
              "outlinewidth": 0,
              "ticks": ""
             }
            },
            "type": "scattergl"
           }
          ],
          "scattermapbox": [
           {
            "marker": {
             "colorbar": {
              "outlinewidth": 0,
              "ticks": ""
             }
            },
            "type": "scattermapbox"
           }
          ],
          "scatterpolar": [
           {
            "marker": {
             "colorbar": {
              "outlinewidth": 0,
              "ticks": ""
             }
            },
            "type": "scatterpolar"
           }
          ],
          "scatterpolargl": [
           {
            "marker": {
             "colorbar": {
              "outlinewidth": 0,
              "ticks": ""
             }
            },
            "type": "scatterpolargl"
           }
          ],
          "scatterternary": [
           {
            "marker": {
             "colorbar": {
              "outlinewidth": 0,
              "ticks": ""
             }
            },
            "type": "scatterternary"
           }
          ],
          "surface": [
           {
            "colorbar": {
             "outlinewidth": 0,
             "ticks": ""
            },
            "colorscale": [
             [
              0,
              "#0d0887"
             ],
             [
              0.1111111111111111,
              "#46039f"
             ],
             [
              0.2222222222222222,
              "#7201a8"
             ],
             [
              0.3333333333333333,
              "#9c179e"
             ],
             [
              0.4444444444444444,
              "#bd3786"
             ],
             [
              0.5555555555555556,
              "#d8576b"
             ],
             [
              0.6666666666666666,
              "#ed7953"
             ],
             [
              0.7777777777777778,
              "#fb9f3a"
             ],
             [
              0.8888888888888888,
              "#fdca26"
             ],
             [
              1,
              "#f0f921"
             ]
            ],
            "type": "surface"
           }
          ],
          "table": [
           {
            "cells": {
             "fill": {
              "color": "#EBF0F8"
             },
             "line": {
              "color": "white"
             }
            },
            "header": {
             "fill": {
              "color": "#C8D4E3"
             },
             "line": {
              "color": "white"
             }
            },
            "type": "table"
           }
          ]
         },
         "layout": {
          "annotationdefaults": {
           "arrowcolor": "#2a3f5f",
           "arrowhead": 0,
           "arrowwidth": 1
          },
          "autotypenumbers": "strict",
          "coloraxis": {
           "colorbar": {
            "outlinewidth": 0,
            "ticks": ""
           }
          },
          "colorscale": {
           "diverging": [
            [
             0,
             "#8e0152"
            ],
            [
             0.1,
             "#c51b7d"
            ],
            [
             0.2,
             "#de77ae"
            ],
            [
             0.3,
             "#f1b6da"
            ],
            [
             0.4,
             "#fde0ef"
            ],
            [
             0.5,
             "#f7f7f7"
            ],
            [
             0.6,
             "#e6f5d0"
            ],
            [
             0.7,
             "#b8e186"
            ],
            [
             0.8,
             "#7fbc41"
            ],
            [
             0.9,
             "#4d9221"
            ],
            [
             1,
             "#276419"
            ]
           ],
           "sequential": [
            [
             0,
             "#0d0887"
            ],
            [
             0.1111111111111111,
             "#46039f"
            ],
            [
             0.2222222222222222,
             "#7201a8"
            ],
            [
             0.3333333333333333,
             "#9c179e"
            ],
            [
             0.4444444444444444,
             "#bd3786"
            ],
            [
             0.5555555555555556,
             "#d8576b"
            ],
            [
             0.6666666666666666,
             "#ed7953"
            ],
            [
             0.7777777777777778,
             "#fb9f3a"
            ],
            [
             0.8888888888888888,
             "#fdca26"
            ],
            [
             1,
             "#f0f921"
            ]
           ],
           "sequentialminus": [
            [
             0,
             "#0d0887"
            ],
            [
             0.1111111111111111,
             "#46039f"
            ],
            [
             0.2222222222222222,
             "#7201a8"
            ],
            [
             0.3333333333333333,
             "#9c179e"
            ],
            [
             0.4444444444444444,
             "#bd3786"
            ],
            [
             0.5555555555555556,
             "#d8576b"
            ],
            [
             0.6666666666666666,
             "#ed7953"
            ],
            [
             0.7777777777777778,
             "#fb9f3a"
            ],
            [
             0.8888888888888888,
             "#fdca26"
            ],
            [
             1,
             "#f0f921"
            ]
           ]
          },
          "colorway": [
           "#636efa",
           "#EF553B",
           "#00cc96",
           "#ab63fa",
           "#FFA15A",
           "#19d3f3",
           "#FF6692",
           "#B6E880",
           "#FF97FF",
           "#FECB52"
          ],
          "font": {
           "color": "#2a3f5f"
          },
          "geo": {
           "bgcolor": "white",
           "lakecolor": "white",
           "landcolor": "#E5ECF6",
           "showlakes": true,
           "showland": true,
           "subunitcolor": "white"
          },
          "hoverlabel": {
           "align": "left"
          },
          "hovermode": "closest",
          "mapbox": {
           "style": "light"
          },
          "paper_bgcolor": "white",
          "plot_bgcolor": "#E5ECF6",
          "polar": {
           "angularaxis": {
            "gridcolor": "white",
            "linecolor": "white",
            "ticks": ""
           },
           "bgcolor": "#E5ECF6",
           "radialaxis": {
            "gridcolor": "white",
            "linecolor": "white",
            "ticks": ""
           }
          },
          "scene": {
           "xaxis": {
            "backgroundcolor": "#E5ECF6",
            "gridcolor": "white",
            "gridwidth": 2,
            "linecolor": "white",
            "showbackground": true,
            "ticks": "",
            "zerolinecolor": "white"
           },
           "yaxis": {
            "backgroundcolor": "#E5ECF6",
            "gridcolor": "white",
            "gridwidth": 2,
            "linecolor": "white",
            "showbackground": true,
            "ticks": "",
            "zerolinecolor": "white"
           },
           "zaxis": {
            "backgroundcolor": "#E5ECF6",
            "gridcolor": "white",
            "gridwidth": 2,
            "linecolor": "white",
            "showbackground": true,
            "ticks": "",
            "zerolinecolor": "white"
           }
          },
          "shapedefaults": {
           "line": {
            "color": "#2a3f5f"
           }
          },
          "ternary": {
           "aaxis": {
            "gridcolor": "white",
            "linecolor": "white",
            "ticks": ""
           },
           "baxis": {
            "gridcolor": "white",
            "linecolor": "white",
            "ticks": ""
           },
           "bgcolor": "#E5ECF6",
           "caxis": {
            "gridcolor": "white",
            "linecolor": "white",
            "ticks": ""
           }
          },
          "title": {
           "x": 0.05
          },
          "xaxis": {
           "automargin": true,
           "gridcolor": "white",
           "linecolor": "white",
           "ticks": "",
           "title": {
            "standoff": 15
           },
           "zerolinecolor": "white",
           "zerolinewidth": 2
          },
          "yaxis": {
           "automargin": true,
           "gridcolor": "white",
           "linecolor": "white",
           "ticks": "",
           "title": {
            "standoff": 15
           },
           "zerolinecolor": "white",
           "zerolinewidth": 2
          }
         }
        },
        "title": {
         "text": "Year Wise Vehicle Sale"
        },
        "xaxis": {
         "anchor": "y",
         "domain": [
          0,
          1
         ],
         "title": {
          "text": "Year"
         }
        },
        "yaxis": {
         "anchor": "x",
         "domain": [
          0,
          1
         ],
         "title": {
          "text": "Passenger Cars"
         }
        }
       }
      }
     },
     "metadata": {},
     "output_type": "display_data"
    }
   ],
   "source": [
    "fig.show()\n"
   ]
  },
  {
   "cell_type": "code",
   "execution_count": 82,
   "id": "625e5b21",
   "metadata": {},
   "outputs": [],
   "source": [
    "newdf2=newdf\n",
    "newdf2.rename(columns={'Category': 'Year'}, inplace=True)\n"
   ]
  },
  {
   "cell_type": "code",
   "execution_count": 85,
   "id": "fbe90e08",
   "metadata": {},
   "outputs": [
    {
     "name": "stderr",
     "output_type": "stream",
     "text": [
      "C:\\Users\\rajum\\AppData\\Local\\Temp\\ipykernel_22976\\2209312160.py:5: SettingWithCopyWarning:\n",
      "\n",
      "\n",
      "A value is trying to be set on a copy of a slice from a DataFrame.\n",
      "Try using .loc[row_indexer,col_indexer] = value instead\n",
      "\n",
      "See the caveats in the documentation: https://pandas.pydata.org/pandas-docs/stable/user_guide/indexing.html#returning-a-view-versus-a-copy\n",
      "\n"
     ]
    },
    {
     "data": {
      "text/html": [
       "<div>\n",
       "<style scoped>\n",
       "    .dataframe tbody tr th:only-of-type {\n",
       "        vertical-align: middle;\n",
       "    }\n",
       "\n",
       "    .dataframe tbody tr th {\n",
       "        vertical-align: top;\n",
       "    }\n",
       "\n",
       "    .dataframe thead th {\n",
       "        text-align: right;\n",
       "    }\n",
       "</style>\n",
       "<table border=\"1\" class=\"dataframe\">\n",
       "  <thead>\n",
       "    <tr style=\"text-align: right;\">\n",
       "      <th></th>\n",
       "      <th>Year</th>\n",
       "      <th>Passenger Cars</th>\n",
       "      <th>Utility Vehicles</th>\n",
       "      <th>Vans</th>\n",
       "      <th>Total Passenger Vehicles</th>\n",
       "      <th>MandHCVs</th>\n",
       "      <th>LCVs</th>\n",
       "      <th>Total CVs</th>\n",
       "      <th>Three Wheelers</th>\n",
       "      <th>Scooters</th>\n",
       "      <th>Motorcycles</th>\n",
       "      <th>Mopeds</th>\n",
       "      <th>Total Two Wheelers</th>\n",
       "      <th>Grand Total</th>\n",
       "    </tr>\n",
       "  </thead>\n",
       "  <tbody>\n",
       "    <tr>\n",
       "      <th>0</th>\n",
       "      <td>2009</td>\n",
       "      <td>1970046.0</td>\n",
       "      <td>275563.0</td>\n",
       "      <td>151869.0</td>\n",
       "      <td>2397478.0</td>\n",
       "      <td>265369.0</td>\n",
       "      <td>312361.0</td>\n",
       "      <td>577730.0</td>\n",
       "      <td>613606.0</td>\n",
       "      <td>1492659.0</td>\n",
       "      <td>8444100.0</td>\n",
       "      <td>571489.0</td>\n",
       "      <td>10511009.0</td>\n",
       "      <td>14099823.0</td>\n",
       "    </tr>\n",
       "    <tr>\n",
       "      <th>1</th>\n",
       "      <td>2010</td>\n",
       "      <td>2430105.0</td>\n",
       "      <td>328001.0</td>\n",
       "      <td>215794.0</td>\n",
       "      <td>2973900.0</td>\n",
       "      <td>352060.0</td>\n",
       "      <td>400645.0</td>\n",
       "      <td>752705.0</td>\n",
       "      <td>795989.0</td>\n",
       "      <td>2126109.0</td>\n",
       "      <td>10500073.0</td>\n",
       "      <td>703713.0</td>\n",
       "      <td>13329895.0</td>\n",
       "      <td>17852489.0</td>\n",
       "    </tr>\n",
       "    <tr>\n",
       "      <th>2</th>\n",
       "      <td>2011</td>\n",
       "      <td>2532852.0</td>\n",
       "      <td>368993.0</td>\n",
       "      <td>236777.0</td>\n",
       "      <td>3138622.0</td>\n",
       "      <td>377711.0</td>\n",
       "      <td>524046.0</td>\n",
       "      <td>901757.0</td>\n",
       "      <td>875034.0</td>\n",
       "      <td>2653421.0</td>\n",
       "      <td>11944898.0</td>\n",
       "      <td>785942.0</td>\n",
       "      <td>15384261.0</td>\n",
       "      <td>20299674.0</td>\n",
       "    </tr>\n",
       "    <tr>\n",
       "      <th>3</th>\n",
       "      <td>2012</td>\n",
       "      <td>2440127.0</td>\n",
       "      <td>561921.0</td>\n",
       "      <td>239067.0</td>\n",
       "      <td>3241115.0</td>\n",
       "      <td>287282.0</td>\n",
       "      <td>585812.0</td>\n",
       "      <td>873094.0</td>\n",
       "      <td>841379.0</td>\n",
       "      <td>3014485.0</td>\n",
       "      <td>11952135.0</td>\n",
       "      <td>792069.0</td>\n",
       "      <td>15758689.0</td>\n",
       "      <td>20714277.0</td>\n",
       "    </tr>\n",
       "    <tr>\n",
       "      <th>4</th>\n",
       "      <td>2013</td>\n",
       "      <td>2338044.0</td>\n",
       "      <td>569272.0</td>\n",
       "      <td>192335.0</td>\n",
       "      <td>3099651.0</td>\n",
       "      <td>224431.0</td>\n",
       "      <td>485470.0</td>\n",
       "      <td>709901.0</td>\n",
       "      <td>833477.0</td>\n",
       "      <td>3696674.0</td>\n",
       "      <td>12463932.0</td>\n",
       "      <td>730172.0</td>\n",
       "      <td>16890778.0</td>\n",
       "      <td>21533807.0</td>\n",
       "    </tr>\n",
       "    <tr>\n",
       "      <th>5</th>\n",
       "      <td>2014</td>\n",
       "      <td>2418099.0</td>\n",
       "      <td>630723.0</td>\n",
       "      <td>174759.0</td>\n",
       "      <td>3223581.0</td>\n",
       "      <td>263407.0</td>\n",
       "      <td>437336.0</td>\n",
       "      <td>700743.0</td>\n",
       "      <td>939884.0</td>\n",
       "      <td>4701656.0</td>\n",
       "      <td>12995340.0</td>\n",
       "      <td>765182.0</td>\n",
       "      <td>18462178.0</td>\n",
       "      <td>23326386.0</td>\n",
       "    </tr>\n",
       "    <tr>\n",
       "      <th>6</th>\n",
       "      <td>2015</td>\n",
       "      <td>2557727.0</td>\n",
       "      <td>705317.0</td>\n",
       "      <td>179217.0</td>\n",
       "      <td>3442261.0</td>\n",
       "      <td>337594.0</td>\n",
       "      <td>451234.0</td>\n",
       "      <td>788828.0</td>\n",
       "      <td>942649.0</td>\n",
       "      <td>5289159.0</td>\n",
       "      <td>12911021.0</td>\n",
       "      <td>738547.0</td>\n",
       "      <td>18938727.0</td>\n",
       "      <td>24112465.0</td>\n",
       "    </tr>\n",
       "    <tr>\n",
       "      <th>7</th>\n",
       "      <td>2016</td>\n",
       "      <td>2705981.0</td>\n",
       "      <td>916255.0</td>\n",
       "      <td>184073.0</td>\n",
       "      <td>3806309.0</td>\n",
       "      <td>346286.0</td>\n",
       "      <td>476067.0</td>\n",
       "      <td>822353.0</td>\n",
       "      <td>783773.0</td>\n",
       "      <td>5897501.0</td>\n",
       "      <td>13121844.0</td>\n",
       "      <td>910670.0</td>\n",
       "      <td>19930015.0</td>\n",
       "      <td>25344006.0</td>\n",
       "    </tr>\n",
       "    <tr>\n",
       "      <th>8</th>\n",
       "      <td>2017</td>\n",
       "      <td>2174024.0</td>\n",
       "      <td>922322.0</td>\n",
       "      <td>192235.0</td>\n",
       "      <td>3288581.0</td>\n",
       "      <td>340781.0</td>\n",
       "      <td>516135.0</td>\n",
       "      <td>856916.0</td>\n",
       "      <td>635698.0</td>\n",
       "      <td>6719909.0</td>\n",
       "      <td>12620690.0</td>\n",
       "      <td>859518.0</td>\n",
       "      <td>20200117.0</td>\n",
       "      <td>24981312.0</td>\n",
       "    </tr>\n",
       "    <tr>\n",
       "      <th>9</th>\n",
       "      <td>2018</td>\n",
       "      <td>2218489.0</td>\n",
       "      <td>941474.0</td>\n",
       "      <td>217426.0</td>\n",
       "      <td>3377389.0</td>\n",
       "      <td>390732.0</td>\n",
       "      <td>616579.0</td>\n",
       "      <td>1007311.0</td>\n",
       "      <td>701005.0</td>\n",
       "      <td>6701430.0</td>\n",
       "      <td>13598190.0</td>\n",
       "      <td>880227.0</td>\n",
       "      <td>21179847.0</td>\n",
       "      <td>26266179.0</td>\n",
       "    </tr>\n",
       "    <tr>\n",
       "      <th>10</th>\n",
       "      <td>2019</td>\n",
       "      <td>1695441.0</td>\n",
       "      <td>946010.0</td>\n",
       "      <td>132124.0</td>\n",
       "      <td>2773575.0</td>\n",
       "      <td>224806.0</td>\n",
       "      <td>492882.0</td>\n",
       "      <td>717688.0</td>\n",
       "      <td>636569.0</td>\n",
       "      <td>5566036.0</td>\n",
       "      <td>11214640.0</td>\n",
       "      <td>636940.0</td>\n",
       "      <td>17417616.0</td>\n",
       "      <td>21546390.0</td>\n",
       "    </tr>\n",
       "  </tbody>\n",
       "</table>\n",
       "</div>"
      ],
      "text/plain": [
       "    Year Passenger Cars Utility Vehicles      Vans Total Passenger Vehicles  \\\n",
       "0   2009      1970046.0         275563.0  151869.0                2397478.0   \n",
       "1   2010      2430105.0         328001.0  215794.0                2973900.0   \n",
       "2   2011      2532852.0         368993.0  236777.0                3138622.0   \n",
       "3   2012      2440127.0         561921.0  239067.0                3241115.0   \n",
       "4   2013      2338044.0         569272.0  192335.0                3099651.0   \n",
       "5   2014      2418099.0         630723.0  174759.0                3223581.0   \n",
       "6   2015      2557727.0         705317.0  179217.0                3442261.0   \n",
       "7   2016      2705981.0         916255.0  184073.0                3806309.0   \n",
       "8   2017      2174024.0         922322.0  192235.0                3288581.0   \n",
       "9   2018      2218489.0         941474.0  217426.0                3377389.0   \n",
       "10  2019      1695441.0         946010.0  132124.0                2773575.0   \n",
       "\n",
       "    MandHCVs      LCVs  Total CVs Three Wheelers   Scooters Motorcycles  \\\n",
       "0   265369.0  312361.0   577730.0       613606.0  1492659.0   8444100.0   \n",
       "1   352060.0  400645.0   752705.0       795989.0  2126109.0  10500073.0   \n",
       "2   377711.0  524046.0   901757.0       875034.0  2653421.0  11944898.0   \n",
       "3   287282.0  585812.0   873094.0       841379.0  3014485.0  11952135.0   \n",
       "4   224431.0  485470.0   709901.0       833477.0  3696674.0  12463932.0   \n",
       "5   263407.0  437336.0   700743.0       939884.0  4701656.0  12995340.0   \n",
       "6   337594.0  451234.0   788828.0       942649.0  5289159.0  12911021.0   \n",
       "7   346286.0  476067.0   822353.0       783773.0  5897501.0  13121844.0   \n",
       "8   340781.0  516135.0   856916.0       635698.0  6719909.0  12620690.0   \n",
       "9   390732.0  616579.0  1007311.0       701005.0  6701430.0  13598190.0   \n",
       "10  224806.0  492882.0   717688.0       636569.0  5566036.0  11214640.0   \n",
       "\n",
       "      Mopeds Total Two Wheelers Grand Total  \n",
       "0   571489.0         10511009.0  14099823.0  \n",
       "1   703713.0         13329895.0  17852489.0  \n",
       "2   785942.0         15384261.0  20299674.0  \n",
       "3   792069.0         15758689.0  20714277.0  \n",
       "4   730172.0         16890778.0  21533807.0  \n",
       "5   765182.0         18462178.0  23326386.0  \n",
       "6   738547.0         18938727.0  24112465.0  \n",
       "7   910670.0         19930015.0  25344006.0  \n",
       "8   859518.0         20200117.0  24981312.0  \n",
       "9   880227.0         21179847.0  26266179.0  \n",
       "10  636940.0         17417616.0  21546390.0  "
      ]
     },
     "execution_count": 85,
     "metadata": {},
     "output_type": "execute_result"
    }
   ],
   "source": [
    "# Remove the row containing 'CAGR'\n",
    "newdf2 = newdf2[newdf2['Year'].apply(lambda x: not x.startswith('CAGR'))]\n",
    "\n",
    "# Extract the starting year from the 'Year' column\n",
    "newdf2['Year'] = newdf2['Year'].apply(lambda x: int(x.split('-')[0]))\n",
    "\n",
    "newdf2"
   ]
  },
  {
   "cell_type": "code",
   "execution_count": 95,
   "id": "d64075ac",
   "metadata": {},
   "outputs": [],
   "source": [
    "newdf2.to_csv('yearWiseSaleFinal.csv')"
   ]
  },
  {
   "cell_type": "code",
   "execution_count": 91,
   "id": "64db7581",
   "metadata": {},
   "outputs": [
    {
     "data": {
      "application/vnd.plotly.v1+json": {
       "config": {
        "plotlyServerURL": "https://plot.ly"
       },
       "data": [
        {
         "hovertemplate": "variable=Passenger Cars<br>Year=%{x}<br>value=%{y}<extra></extra>",
         "legendgroup": "Passenger Cars",
         "line": {
          "color": "#636efa",
          "dash": "solid"
         },
         "marker": {
          "symbol": "circle"
         },
         "mode": "lines",
         "name": "Passenger Cars",
         "orientation": "h",
         "showlegend": true,
         "type": "scatter",
         "x": [
          2009,
          2010,
          2011,
          2012,
          2013,
          2014,
          2015,
          2016,
          2017,
          2018,
          2019
         ],
         "xaxis": "x",
         "y": [
          1970046,
          2430105,
          2532852,
          2440127,
          2338044,
          2418099,
          2557727,
          2705981,
          2174024,
          2218489,
          1695441
         ],
         "yaxis": "y"
        },
        {
         "hovertemplate": "variable=Utility Vehicles<br>Year=%{x}<br>value=%{y}<extra></extra>",
         "legendgroup": "Utility Vehicles",
         "line": {
          "color": "#EF553B",
          "dash": "solid"
         },
         "marker": {
          "symbol": "circle"
         },
         "mode": "lines",
         "name": "Utility Vehicles",
         "orientation": "h",
         "showlegend": true,
         "type": "scatter",
         "x": [
          2009,
          2010,
          2011,
          2012,
          2013,
          2014,
          2015,
          2016,
          2017,
          2018,
          2019
         ],
         "xaxis": "x",
         "y": [
          275563,
          328001,
          368993,
          561921,
          569272,
          630723,
          705317,
          916255,
          922322,
          941474,
          946010
         ],
         "yaxis": "y"
        },
        {
         "hovertemplate": "variable=Vans<br>Year=%{x}<br>value=%{y}<extra></extra>",
         "legendgroup": "Vans",
         "line": {
          "color": "#00cc96",
          "dash": "solid"
         },
         "marker": {
          "symbol": "circle"
         },
         "mode": "lines",
         "name": "Vans",
         "orientation": "h",
         "showlegend": true,
         "type": "scatter",
         "x": [
          2009,
          2010,
          2011,
          2012,
          2013,
          2014,
          2015,
          2016,
          2017,
          2018,
          2019
         ],
         "xaxis": "x",
         "y": [
          151869,
          215794,
          236777,
          239067,
          192335,
          174759,
          179217,
          184073,
          192235,
          217426,
          132124
         ],
         "yaxis": "y"
        },
        {
         "hovertemplate": "variable=Total Passenger Vehicles<br>Year=%{x}<br>value=%{y}<extra></extra>",
         "legendgroup": "Total Passenger Vehicles",
         "line": {
          "color": "#ab63fa",
          "dash": "solid"
         },
         "marker": {
          "symbol": "circle"
         },
         "mode": "lines",
         "name": "Total Passenger Vehicles",
         "orientation": "h",
         "showlegend": true,
         "type": "scatter",
         "x": [
          2009,
          2010,
          2011,
          2012,
          2013,
          2014,
          2015,
          2016,
          2017,
          2018,
          2019
         ],
         "xaxis": "x",
         "y": [
          2397478,
          2973900,
          3138622,
          3241115,
          3099651,
          3223581,
          3442261,
          3806309,
          3288581,
          3377389,
          2773575
         ],
         "yaxis": "y"
        },
        {
         "hovertemplate": "variable=MandHCVs<br>Year=%{x}<br>value=%{y}<extra></extra>",
         "legendgroup": "MandHCVs",
         "line": {
          "color": "#FFA15A",
          "dash": "solid"
         },
         "marker": {
          "symbol": "circle"
         },
         "mode": "lines",
         "name": "MandHCVs",
         "orientation": "h",
         "showlegend": true,
         "type": "scatter",
         "x": [
          2009,
          2010,
          2011,
          2012,
          2013,
          2014,
          2015,
          2016,
          2017,
          2018,
          2019
         ],
         "xaxis": "x",
         "y": [
          265369,
          352060,
          377711,
          287282,
          224431,
          263407,
          337594,
          346286,
          340781,
          390732,
          224806
         ],
         "yaxis": "y"
        },
        {
         "hovertemplate": "variable=LCVs<br>Year=%{x}<br>value=%{y}<extra></extra>",
         "legendgroup": "LCVs",
         "line": {
          "color": "#19d3f3",
          "dash": "solid"
         },
         "marker": {
          "symbol": "circle"
         },
         "mode": "lines",
         "name": "LCVs",
         "orientation": "h",
         "showlegend": true,
         "type": "scatter",
         "x": [
          2009,
          2010,
          2011,
          2012,
          2013,
          2014,
          2015,
          2016,
          2017,
          2018,
          2019
         ],
         "xaxis": "x",
         "y": [
          312361,
          400645,
          524046,
          585812,
          485470,
          437336,
          451234,
          476067,
          516135,
          616579,
          492882
         ],
         "yaxis": "y"
        },
        {
         "hovertemplate": "variable=Total CVs<br>Year=%{x}<br>value=%{y}<extra></extra>",
         "legendgroup": "Total CVs",
         "line": {
          "color": "#FF6692",
          "dash": "solid"
         },
         "marker": {
          "symbol": "circle"
         },
         "mode": "lines",
         "name": "Total CVs",
         "orientation": "h",
         "showlegend": true,
         "type": "scatter",
         "x": [
          2009,
          2010,
          2011,
          2012,
          2013,
          2014,
          2015,
          2016,
          2017,
          2018,
          2019
         ],
         "xaxis": "x",
         "y": [
          577730,
          752705,
          901757,
          873094,
          709901,
          700743,
          788828,
          822353,
          856916,
          1007311,
          717688
         ],
         "yaxis": "y"
        },
        {
         "hovertemplate": "variable=Three Wheelers<br>Year=%{x}<br>value=%{y}<extra></extra>",
         "legendgroup": "Three Wheelers",
         "line": {
          "color": "#B6E880",
          "dash": "solid"
         },
         "marker": {
          "symbol": "circle"
         },
         "mode": "lines",
         "name": "Three Wheelers",
         "orientation": "h",
         "showlegend": true,
         "type": "scatter",
         "x": [
          2009,
          2010,
          2011,
          2012,
          2013,
          2014,
          2015,
          2016,
          2017,
          2018,
          2019
         ],
         "xaxis": "x",
         "y": [
          613606,
          795989,
          875034,
          841379,
          833477,
          939884,
          942649,
          783773,
          635698,
          701005,
          636569
         ],
         "yaxis": "y"
        },
        {
         "hovertemplate": "variable=Scooters<br>Year=%{x}<br>value=%{y}<extra></extra>",
         "legendgroup": "Scooters",
         "line": {
          "color": "#FF97FF",
          "dash": "solid"
         },
         "marker": {
          "symbol": "circle"
         },
         "mode": "lines",
         "name": "Scooters",
         "orientation": "h",
         "showlegend": true,
         "type": "scatter",
         "x": [
          2009,
          2010,
          2011,
          2012,
          2013,
          2014,
          2015,
          2016,
          2017,
          2018,
          2019
         ],
         "xaxis": "x",
         "y": [
          1492659,
          2126109,
          2653421,
          3014485,
          3696674,
          4701656,
          5289159,
          5897501,
          6719909,
          6701430,
          5566036
         ],
         "yaxis": "y"
        },
        {
         "hovertemplate": "variable=Motorcycles<br>Year=%{x}<br>value=%{y}<extra></extra>",
         "legendgroup": "Motorcycles",
         "line": {
          "color": "#FECB52",
          "dash": "solid"
         },
         "marker": {
          "symbol": "circle"
         },
         "mode": "lines",
         "name": "Motorcycles",
         "orientation": "h",
         "showlegend": true,
         "type": "scatter",
         "x": [
          2009,
          2010,
          2011,
          2012,
          2013,
          2014,
          2015,
          2016,
          2017,
          2018,
          2019
         ],
         "xaxis": "x",
         "y": [
          8444100,
          10500073,
          11944898,
          11952135,
          12463932,
          12995340,
          12911021,
          13121844,
          12620690,
          13598190,
          11214640
         ],
         "yaxis": "y"
        },
        {
         "hovertemplate": "variable=Mopeds<br>Year=%{x}<br>value=%{y}<extra></extra>",
         "legendgroup": "Mopeds",
         "line": {
          "color": "#636efa",
          "dash": "solid"
         },
         "marker": {
          "symbol": "circle"
         },
         "mode": "lines",
         "name": "Mopeds",
         "orientation": "h",
         "showlegend": true,
         "type": "scatter",
         "x": [
          2009,
          2010,
          2011,
          2012,
          2013,
          2014,
          2015,
          2016,
          2017,
          2018,
          2019
         ],
         "xaxis": "x",
         "y": [
          571489,
          703713,
          785942,
          792069,
          730172,
          765182,
          738547,
          910670,
          859518,
          880227,
          636940
         ],
         "yaxis": "y"
        },
        {
         "hovertemplate": "variable=Total Two Wheelers<br>Year=%{x}<br>value=%{y}<extra></extra>",
         "legendgroup": "Total Two Wheelers",
         "line": {
          "color": "#EF553B",
          "dash": "solid"
         },
         "marker": {
          "symbol": "circle"
         },
         "mode": "lines",
         "name": "Total Two Wheelers",
         "orientation": "h",
         "showlegend": true,
         "type": "scatter",
         "x": [
          2009,
          2010,
          2011,
          2012,
          2013,
          2014,
          2015,
          2016,
          2017,
          2018,
          2019
         ],
         "xaxis": "x",
         "y": [
          10511009,
          13329895,
          15384261,
          15758689,
          16890778,
          18462178,
          18938727,
          19930015,
          20200117,
          21179847,
          17417616
         ],
         "yaxis": "y"
        }
       ],
       "layout": {
        "legend": {
         "title": {
          "text": "variable"
         },
         "tracegroupgap": 0
        },
        "template": {
         "data": {
          "bar": [
           {
            "error_x": {
             "color": "#2a3f5f"
            },
            "error_y": {
             "color": "#2a3f5f"
            },
            "marker": {
             "line": {
              "color": "#E5ECF6",
              "width": 0.5
             },
             "pattern": {
              "fillmode": "overlay",
              "size": 10,
              "solidity": 0.2
             }
            },
            "type": "bar"
           }
          ],
          "barpolar": [
           {
            "marker": {
             "line": {
              "color": "#E5ECF6",
              "width": 0.5
             },
             "pattern": {
              "fillmode": "overlay",
              "size": 10,
              "solidity": 0.2
             }
            },
            "type": "barpolar"
           }
          ],
          "carpet": [
           {
            "aaxis": {
             "endlinecolor": "#2a3f5f",
             "gridcolor": "white",
             "linecolor": "white",
             "minorgridcolor": "white",
             "startlinecolor": "#2a3f5f"
            },
            "baxis": {
             "endlinecolor": "#2a3f5f",
             "gridcolor": "white",
             "linecolor": "white",
             "minorgridcolor": "white",
             "startlinecolor": "#2a3f5f"
            },
            "type": "carpet"
           }
          ],
          "choropleth": [
           {
            "colorbar": {
             "outlinewidth": 0,
             "ticks": ""
            },
            "type": "choropleth"
           }
          ],
          "contour": [
           {
            "colorbar": {
             "outlinewidth": 0,
             "ticks": ""
            },
            "colorscale": [
             [
              0,
              "#0d0887"
             ],
             [
              0.1111111111111111,
              "#46039f"
             ],
             [
              0.2222222222222222,
              "#7201a8"
             ],
             [
              0.3333333333333333,
              "#9c179e"
             ],
             [
              0.4444444444444444,
              "#bd3786"
             ],
             [
              0.5555555555555556,
              "#d8576b"
             ],
             [
              0.6666666666666666,
              "#ed7953"
             ],
             [
              0.7777777777777778,
              "#fb9f3a"
             ],
             [
              0.8888888888888888,
              "#fdca26"
             ],
             [
              1,
              "#f0f921"
             ]
            ],
            "type": "contour"
           }
          ],
          "contourcarpet": [
           {
            "colorbar": {
             "outlinewidth": 0,
             "ticks": ""
            },
            "type": "contourcarpet"
           }
          ],
          "heatmap": [
           {
            "colorbar": {
             "outlinewidth": 0,
             "ticks": ""
            },
            "colorscale": [
             [
              0,
              "#0d0887"
             ],
             [
              0.1111111111111111,
              "#46039f"
             ],
             [
              0.2222222222222222,
              "#7201a8"
             ],
             [
              0.3333333333333333,
              "#9c179e"
             ],
             [
              0.4444444444444444,
              "#bd3786"
             ],
             [
              0.5555555555555556,
              "#d8576b"
             ],
             [
              0.6666666666666666,
              "#ed7953"
             ],
             [
              0.7777777777777778,
              "#fb9f3a"
             ],
             [
              0.8888888888888888,
              "#fdca26"
             ],
             [
              1,
              "#f0f921"
             ]
            ],
            "type": "heatmap"
           }
          ],
          "heatmapgl": [
           {
            "colorbar": {
             "outlinewidth": 0,
             "ticks": ""
            },
            "colorscale": [
             [
              0,
              "#0d0887"
             ],
             [
              0.1111111111111111,
              "#46039f"
             ],
             [
              0.2222222222222222,
              "#7201a8"
             ],
             [
              0.3333333333333333,
              "#9c179e"
             ],
             [
              0.4444444444444444,
              "#bd3786"
             ],
             [
              0.5555555555555556,
              "#d8576b"
             ],
             [
              0.6666666666666666,
              "#ed7953"
             ],
             [
              0.7777777777777778,
              "#fb9f3a"
             ],
             [
              0.8888888888888888,
              "#fdca26"
             ],
             [
              1,
              "#f0f921"
             ]
            ],
            "type": "heatmapgl"
           }
          ],
          "histogram": [
           {
            "marker": {
             "pattern": {
              "fillmode": "overlay",
              "size": 10,
              "solidity": 0.2
             }
            },
            "type": "histogram"
           }
          ],
          "histogram2d": [
           {
            "colorbar": {
             "outlinewidth": 0,
             "ticks": ""
            },
            "colorscale": [
             [
              0,
              "#0d0887"
             ],
             [
              0.1111111111111111,
              "#46039f"
             ],
             [
              0.2222222222222222,
              "#7201a8"
             ],
             [
              0.3333333333333333,
              "#9c179e"
             ],
             [
              0.4444444444444444,
              "#bd3786"
             ],
             [
              0.5555555555555556,
              "#d8576b"
             ],
             [
              0.6666666666666666,
              "#ed7953"
             ],
             [
              0.7777777777777778,
              "#fb9f3a"
             ],
             [
              0.8888888888888888,
              "#fdca26"
             ],
             [
              1,
              "#f0f921"
             ]
            ],
            "type": "histogram2d"
           }
          ],
          "histogram2dcontour": [
           {
            "colorbar": {
             "outlinewidth": 0,
             "ticks": ""
            },
            "colorscale": [
             [
              0,
              "#0d0887"
             ],
             [
              0.1111111111111111,
              "#46039f"
             ],
             [
              0.2222222222222222,
              "#7201a8"
             ],
             [
              0.3333333333333333,
              "#9c179e"
             ],
             [
              0.4444444444444444,
              "#bd3786"
             ],
             [
              0.5555555555555556,
              "#d8576b"
             ],
             [
              0.6666666666666666,
              "#ed7953"
             ],
             [
              0.7777777777777778,
              "#fb9f3a"
             ],
             [
              0.8888888888888888,
              "#fdca26"
             ],
             [
              1,
              "#f0f921"
             ]
            ],
            "type": "histogram2dcontour"
           }
          ],
          "mesh3d": [
           {
            "colorbar": {
             "outlinewidth": 0,
             "ticks": ""
            },
            "type": "mesh3d"
           }
          ],
          "parcoords": [
           {
            "line": {
             "colorbar": {
              "outlinewidth": 0,
              "ticks": ""
             }
            },
            "type": "parcoords"
           }
          ],
          "pie": [
           {
            "automargin": true,
            "type": "pie"
           }
          ],
          "scatter": [
           {
            "fillpattern": {
             "fillmode": "overlay",
             "size": 10,
             "solidity": 0.2
            },
            "type": "scatter"
           }
          ],
          "scatter3d": [
           {
            "line": {
             "colorbar": {
              "outlinewidth": 0,
              "ticks": ""
             }
            },
            "marker": {
             "colorbar": {
              "outlinewidth": 0,
              "ticks": ""
             }
            },
            "type": "scatter3d"
           }
          ],
          "scattercarpet": [
           {
            "marker": {
             "colorbar": {
              "outlinewidth": 0,
              "ticks": ""
             }
            },
            "type": "scattercarpet"
           }
          ],
          "scattergeo": [
           {
            "marker": {
             "colorbar": {
              "outlinewidth": 0,
              "ticks": ""
             }
            },
            "type": "scattergeo"
           }
          ],
          "scattergl": [
           {
            "marker": {
             "colorbar": {
              "outlinewidth": 0,
              "ticks": ""
             }
            },
            "type": "scattergl"
           }
          ],
          "scattermapbox": [
           {
            "marker": {
             "colorbar": {
              "outlinewidth": 0,
              "ticks": ""
             }
            },
            "type": "scattermapbox"
           }
          ],
          "scatterpolar": [
           {
            "marker": {
             "colorbar": {
              "outlinewidth": 0,
              "ticks": ""
             }
            },
            "type": "scatterpolar"
           }
          ],
          "scatterpolargl": [
           {
            "marker": {
             "colorbar": {
              "outlinewidth": 0,
              "ticks": ""
             }
            },
            "type": "scatterpolargl"
           }
          ],
          "scatterternary": [
           {
            "marker": {
             "colorbar": {
              "outlinewidth": 0,
              "ticks": ""
             }
            },
            "type": "scatterternary"
           }
          ],
          "surface": [
           {
            "colorbar": {
             "outlinewidth": 0,
             "ticks": ""
            },
            "colorscale": [
             [
              0,
              "#0d0887"
             ],
             [
              0.1111111111111111,
              "#46039f"
             ],
             [
              0.2222222222222222,
              "#7201a8"
             ],
             [
              0.3333333333333333,
              "#9c179e"
             ],
             [
              0.4444444444444444,
              "#bd3786"
             ],
             [
              0.5555555555555556,
              "#d8576b"
             ],
             [
              0.6666666666666666,
              "#ed7953"
             ],
             [
              0.7777777777777778,
              "#fb9f3a"
             ],
             [
              0.8888888888888888,
              "#fdca26"
             ],
             [
              1,
              "#f0f921"
             ]
            ],
            "type": "surface"
           }
          ],
          "table": [
           {
            "cells": {
             "fill": {
              "color": "#EBF0F8"
             },
             "line": {
              "color": "white"
             }
            },
            "header": {
             "fill": {
              "color": "#C8D4E3"
             },
             "line": {
              "color": "white"
             }
            },
            "type": "table"
           }
          ]
         },
         "layout": {
          "annotationdefaults": {
           "arrowcolor": "#2a3f5f",
           "arrowhead": 0,
           "arrowwidth": 1
          },
          "autotypenumbers": "strict",
          "coloraxis": {
           "colorbar": {
            "outlinewidth": 0,
            "ticks": ""
           }
          },
          "colorscale": {
           "diverging": [
            [
             0,
             "#8e0152"
            ],
            [
             0.1,
             "#c51b7d"
            ],
            [
             0.2,
             "#de77ae"
            ],
            [
             0.3,
             "#f1b6da"
            ],
            [
             0.4,
             "#fde0ef"
            ],
            [
             0.5,
             "#f7f7f7"
            ],
            [
             0.6,
             "#e6f5d0"
            ],
            [
             0.7,
             "#b8e186"
            ],
            [
             0.8,
             "#7fbc41"
            ],
            [
             0.9,
             "#4d9221"
            ],
            [
             1,
             "#276419"
            ]
           ],
           "sequential": [
            [
             0,
             "#0d0887"
            ],
            [
             0.1111111111111111,
             "#46039f"
            ],
            [
             0.2222222222222222,
             "#7201a8"
            ],
            [
             0.3333333333333333,
             "#9c179e"
            ],
            [
             0.4444444444444444,
             "#bd3786"
            ],
            [
             0.5555555555555556,
             "#d8576b"
            ],
            [
             0.6666666666666666,
             "#ed7953"
            ],
            [
             0.7777777777777778,
             "#fb9f3a"
            ],
            [
             0.8888888888888888,
             "#fdca26"
            ],
            [
             1,
             "#f0f921"
            ]
           ],
           "sequentialminus": [
            [
             0,
             "#0d0887"
            ],
            [
             0.1111111111111111,
             "#46039f"
            ],
            [
             0.2222222222222222,
             "#7201a8"
            ],
            [
             0.3333333333333333,
             "#9c179e"
            ],
            [
             0.4444444444444444,
             "#bd3786"
            ],
            [
             0.5555555555555556,
             "#d8576b"
            ],
            [
             0.6666666666666666,
             "#ed7953"
            ],
            [
             0.7777777777777778,
             "#fb9f3a"
            ],
            [
             0.8888888888888888,
             "#fdca26"
            ],
            [
             1,
             "#f0f921"
            ]
           ]
          },
          "colorway": [
           "#636efa",
           "#EF553B",
           "#00cc96",
           "#ab63fa",
           "#FFA15A",
           "#19d3f3",
           "#FF6692",
           "#B6E880",
           "#FF97FF",
           "#FECB52"
          ],
          "font": {
           "color": "#2a3f5f"
          },
          "geo": {
           "bgcolor": "white",
           "lakecolor": "white",
           "landcolor": "#E5ECF6",
           "showlakes": true,
           "showland": true,
           "subunitcolor": "white"
          },
          "hoverlabel": {
           "align": "left"
          },
          "hovermode": "closest",
          "mapbox": {
           "style": "light"
          },
          "paper_bgcolor": "white",
          "plot_bgcolor": "#E5ECF6",
          "polar": {
           "angularaxis": {
            "gridcolor": "white",
            "linecolor": "white",
            "ticks": ""
           },
           "bgcolor": "#E5ECF6",
           "radialaxis": {
            "gridcolor": "white",
            "linecolor": "white",
            "ticks": ""
           }
          },
          "scene": {
           "xaxis": {
            "backgroundcolor": "#E5ECF6",
            "gridcolor": "white",
            "gridwidth": 2,
            "linecolor": "white",
            "showbackground": true,
            "ticks": "",
            "zerolinecolor": "white"
           },
           "yaxis": {
            "backgroundcolor": "#E5ECF6",
            "gridcolor": "white",
            "gridwidth": 2,
            "linecolor": "white",
            "showbackground": true,
            "ticks": "",
            "zerolinecolor": "white"
           },
           "zaxis": {
            "backgroundcolor": "#E5ECF6",
            "gridcolor": "white",
            "gridwidth": 2,
            "linecolor": "white",
            "showbackground": true,
            "ticks": "",
            "zerolinecolor": "white"
           }
          },
          "shapedefaults": {
           "line": {
            "color": "#2a3f5f"
           }
          },
          "ternary": {
           "aaxis": {
            "gridcolor": "white",
            "linecolor": "white",
            "ticks": ""
           },
           "baxis": {
            "gridcolor": "white",
            "linecolor": "white",
            "ticks": ""
           },
           "bgcolor": "#E5ECF6",
           "caxis": {
            "gridcolor": "white",
            "linecolor": "white",
            "ticks": ""
           }
          },
          "title": {
           "x": 0.05
          },
          "xaxis": {
           "automargin": true,
           "gridcolor": "white",
           "linecolor": "white",
           "ticks": "",
           "title": {
            "standoff": 15
           },
           "zerolinecolor": "white",
           "zerolinewidth": 2
          },
          "yaxis": {
           "automargin": true,
           "gridcolor": "white",
           "linecolor": "white",
           "ticks": "",
           "title": {
            "standoff": 15
           },
           "zerolinecolor": "white",
           "zerolinewidth": 2
          }
         }
        },
        "title": {
         "text": "Year Wise Vehicle Sale"
        },
        "xaxis": {
         "anchor": "y",
         "domain": [
          0,
          1
         ],
         "title": {
          "text": "Year"
         }
        },
        "yaxis": {
         "anchor": "x",
         "domain": [
          0,
          1
         ],
         "title": {
          "text": "value"
         }
        }
       }
      }
     },
     "metadata": {},
     "output_type": "display_data"
    }
   ],
   "source": [
    "fig = px.line(newdf2, x='Year', y=['Passenger Cars', 'Utility Vehicles', 'Vans', 'Total Passenger Vehicles', \n",
    "                                   'MandHCVs', 'LCVs', 'Total CVs', 'Three Wheelers', 'Scooters', \n",
    "                                   'Motorcycles', 'Mopeds', 'Total Two Wheelers'], \n",
    "              title='Year Wise Vehicle Sale')\n",
    "fig.show()"
   ]
  },
  {
   "cell_type": "code",
   "execution_count": null,
   "id": "d5e65ce8",
   "metadata": {},
   "outputs": [],
   "source": []
  }
 ],
 "metadata": {
  "kernelspec": {
   "display_name": "Python 3",
   "language": "python",
   "name": "python3"
  },
  "language_info": {
   "codemirror_mode": {
    "name": "ipython",
    "version": 3
   },
   "file_extension": ".py",
   "mimetype": "text/x-python",
   "name": "python",
   "nbconvert_exporter": "python",
   "pygments_lexer": "ipython3",
   "version": "3.12.3"
  }
 },
 "nbformat": 4,
 "nbformat_minor": 5
}

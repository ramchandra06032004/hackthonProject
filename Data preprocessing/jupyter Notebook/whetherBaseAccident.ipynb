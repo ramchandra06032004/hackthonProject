{
 "cells": [
  {
   "cell_type": "code",
   "execution_count": 1,
   "metadata": {},
   "outputs": [],
   "source": [
    "import pandas as pd\n",
    "import numpy as np\n",
    "import plotly.io as pio\n",
    "import plotly.express as px"
   ]
  },
  {
   "cell_type": "code",
   "execution_count": 2,
   "metadata": {},
   "outputs": [],
   "source": [
    "df=pd.read_csv(\"accidentAccordingToWether.csv\")"
   ]
  },
  {
   "cell_type": "code",
   "execution_count": 3,
   "metadata": {},
   "outputs": [
    {
     "data": {
      "text/html": [
       "<div>\n",
       "<style scoped>\n",
       "    .dataframe tbody tr th:only-of-type {\n",
       "        vertical-align: middle;\n",
       "    }\n",
       "\n",
       "    .dataframe tbody tr th {\n",
       "        vertical-align: top;\n",
       "    }\n",
       "\n",
       "    .dataframe thead th {\n",
       "        text-align: right;\n",
       "    }\n",
       "</style>\n",
       "<table border=\"1\" class=\"dataframe\">\n",
       "  <thead>\n",
       "    <tr style=\"text-align: right;\">\n",
       "      <th></th>\n",
       "      <th>States/UTs</th>\n",
       "      <th>Sunny/Clear - Total Accidents - Number</th>\n",
       "      <th>Sunny/Clear - Total Accidents - Rank</th>\n",
       "      <th>Sunny/Clear - Persons Killed - Number</th>\n",
       "      <th>Sunny/Clear - Persons Killed - Rank</th>\n",
       "      <th>Sunny/Clear - Persons Injured - Greviously Injured</th>\n",
       "      <th>Sunny/Clear - Persons Injured - Minor Injury</th>\n",
       "      <th>Sunny/Clear - Persons Injured - Total Injured</th>\n",
       "      <th>Rainy - Total Accidents</th>\n",
       "      <th>Rainy - Persons Killed</th>\n",
       "      <th>...</th>\n",
       "      <th>Hail/Sleet - Total Accidents</th>\n",
       "      <th>Hail/Sleet - Persons Killed</th>\n",
       "      <th>Hail/Sleet - Persons Injured - Greviously Injured</th>\n",
       "      <th>Hail/Sleet - Persons Injured - Minor Injury</th>\n",
       "      <th>Hail/Sleet - Persons Injured - Total Injured</th>\n",
       "      <th>Others - Total Accidents</th>\n",
       "      <th>Others - Persons Killed</th>\n",
       "      <th>Others - Persons Injured - Greviously Injured</th>\n",
       "      <th>Others - Persons Injured - Minor Injury</th>\n",
       "      <th>Others - Persons Injured - Total Injured</th>\n",
       "    </tr>\n",
       "  </thead>\n",
       "  <tbody>\n",
       "    <tr>\n",
       "      <th>0</th>\n",
       "      <td>Andhra Pradesh</td>\n",
       "      <td>17340</td>\n",
       "      <td>9.0</td>\n",
       "      <td>6317</td>\n",
       "      <td>8.0</td>\n",
       "      <td>4039</td>\n",
       "      <td>15619</td>\n",
       "      <td>19658</td>\n",
       "      <td>874</td>\n",
       "      <td>241</td>\n",
       "      <td>...</td>\n",
       "      <td>138</td>\n",
       "      <td>40</td>\n",
       "      <td>130</td>\n",
       "      <td>47</td>\n",
       "      <td>177</td>\n",
       "      <td>2600</td>\n",
       "      <td>984</td>\n",
       "      <td>1100</td>\n",
       "      <td>1525</td>\n",
       "      <td>2625</td>\n",
       "    </tr>\n",
       "    <tr>\n",
       "      <th>1</th>\n",
       "      <td>Arunachal Pradesh</td>\n",
       "      <td>62</td>\n",
       "      <td>32.0</td>\n",
       "      <td>29</td>\n",
       "      <td>30.0</td>\n",
       "      <td>41</td>\n",
       "      <td>34</td>\n",
       "      <td>75</td>\n",
       "      <td>49</td>\n",
       "      <td>26</td>\n",
       "      <td>...</td>\n",
       "      <td>38</td>\n",
       "      <td>26</td>\n",
       "      <td>32</td>\n",
       "      <td>29</td>\n",
       "      <td>61</td>\n",
       "      <td>52</td>\n",
       "      <td>29</td>\n",
       "      <td>30</td>\n",
       "      <td>24</td>\n",
       "      <td>54</td>\n",
       "    </tr>\n",
       "    <tr>\n",
       "      <th>2</th>\n",
       "      <td>Assam</td>\n",
       "      <td>4322</td>\n",
       "      <td>15.0</td>\n",
       "      <td>1735</td>\n",
       "      <td>17.0</td>\n",
       "      <td>3287</td>\n",
       "      <td>457</td>\n",
       "      <td>3744</td>\n",
       "      <td>1862</td>\n",
       "      <td>660</td>\n",
       "      <td>...</td>\n",
       "      <td>201</td>\n",
       "      <td>48</td>\n",
       "      <td>164</td>\n",
       "      <td>20</td>\n",
       "      <td>184</td>\n",
       "      <td>802</td>\n",
       "      <td>355</td>\n",
       "      <td>515</td>\n",
       "      <td>155</td>\n",
       "      <td>670</td>\n",
       "    </tr>\n",
       "    <tr>\n",
       "      <th>3</th>\n",
       "      <td>Bihar</td>\n",
       "      <td>4217</td>\n",
       "      <td>16.0</td>\n",
       "      <td>3156</td>\n",
       "      <td>13.0</td>\n",
       "      <td>2987</td>\n",
       "      <td>138</td>\n",
       "      <td>3125</td>\n",
       "      <td>2203</td>\n",
       "      <td>1515</td>\n",
       "      <td>...</td>\n",
       "      <td>0</td>\n",
       "      <td>0</td>\n",
       "      <td>0</td>\n",
       "      <td>0</td>\n",
       "      <td>0</td>\n",
       "      <td>806</td>\n",
       "      <td>650</td>\n",
       "      <td>442</td>\n",
       "      <td>5</td>\n",
       "      <td>447</td>\n",
       "    </tr>\n",
       "    <tr>\n",
       "      <th>4</th>\n",
       "      <td>Chhattisgarh</td>\n",
       "      <td>9033</td>\n",
       "      <td>11.0</td>\n",
       "      <td>3209</td>\n",
       "      <td>12.0</td>\n",
       "      <td>1540</td>\n",
       "      <td>6726</td>\n",
       "      <td>8266</td>\n",
       "      <td>1535</td>\n",
       "      <td>520</td>\n",
       "      <td>...</td>\n",
       "      <td>54</td>\n",
       "      <td>25</td>\n",
       "      <td>7</td>\n",
       "      <td>89</td>\n",
       "      <td>96</td>\n",
       "      <td>2392</td>\n",
       "      <td>961</td>\n",
       "      <td>518</td>\n",
       "      <td>1912</td>\n",
       "      <td>2430</td>\n",
       "    </tr>\n",
       "  </tbody>\n",
       "</table>\n",
       "<p>5 rows × 28 columns</p>\n",
       "</div>"
      ],
      "text/plain": [
       "          States/UTs  Sunny/Clear - Total Accidents - Number  \\\n",
       "0     Andhra Pradesh                                   17340   \n",
       "1  Arunachal Pradesh                                      62   \n",
       "2              Assam                                    4322   \n",
       "3              Bihar                                    4217   \n",
       "4       Chhattisgarh                                    9033   \n",
       "\n",
       "   Sunny/Clear - Total Accidents - Rank  \\\n",
       "0                                   9.0   \n",
       "1                                  32.0   \n",
       "2                                  15.0   \n",
       "3                                  16.0   \n",
       "4                                  11.0   \n",
       "\n",
       "   Sunny/Clear - Persons Killed - Number  Sunny/Clear - Persons Killed - Rank  \\\n",
       "0                                   6317                                  8.0   \n",
       "1                                     29                                 30.0   \n",
       "2                                   1735                                 17.0   \n",
       "3                                   3156                                 13.0   \n",
       "4                                   3209                                 12.0   \n",
       "\n",
       "   Sunny/Clear - Persons Injured - Greviously Injured  \\\n",
       "0                                               4039    \n",
       "1                                                 41    \n",
       "2                                               3287    \n",
       "3                                               2987    \n",
       "4                                               1540    \n",
       "\n",
       "   Sunny/Clear - Persons Injured - Minor Injury  \\\n",
       "0                                         15619   \n",
       "1                                            34   \n",
       "2                                           457   \n",
       "3                                           138   \n",
       "4                                          6726   \n",
       "\n",
       "   Sunny/Clear - Persons Injured - Total Injured   Rainy - Total Accidents  \\\n",
       "0                                           19658                      874   \n",
       "1                                              75                       49   \n",
       "2                                            3744                     1862   \n",
       "3                                            3125                     2203   \n",
       "4                                            8266                     1535   \n",
       "\n",
       "   Rainy - Persons Killed  ...  Hail/Sleet - Total Accidents  \\\n",
       "0                     241  ...                           138   \n",
       "1                      26  ...                            38   \n",
       "2                     660  ...                           201   \n",
       "3                    1515  ...                             0   \n",
       "4                     520  ...                            54   \n",
       "\n",
       "   Hail/Sleet - Persons Killed  \\\n",
       "0                           40   \n",
       "1                           26   \n",
       "2                           48   \n",
       "3                            0   \n",
       "4                           25   \n",
       "\n",
       "   Hail/Sleet - Persons Injured - Greviously Injured  \\\n",
       "0                                                130   \n",
       "1                                                 32   \n",
       "2                                                164   \n",
       "3                                                  0   \n",
       "4                                                  7   \n",
       "\n",
       "   Hail/Sleet - Persons Injured - Minor Injury  \\\n",
       "0                                           47   \n",
       "1                                           29   \n",
       "2                                           20   \n",
       "3                                            0   \n",
       "4                                           89   \n",
       "\n",
       "   Hail/Sleet - Persons Injured - Total Injured   Others - Total Accidents  \\\n",
       "0                                            177                      2600   \n",
       "1                                             61                        52   \n",
       "2                                            184                       802   \n",
       "3                                              0                       806   \n",
       "4                                             96                      2392   \n",
       "\n",
       "   Others - Persons Killed  Others - Persons Injured - Greviously Injured  \\\n",
       "0                      984                                           1100   \n",
       "1                       29                                             30   \n",
       "2                      355                                            515   \n",
       "3                      650                                            442   \n",
       "4                      961                                            518   \n",
       "\n",
       "   Others - Persons Injured - Minor Injury  \\\n",
       "0                                     1525   \n",
       "1                                       24   \n",
       "2                                      155   \n",
       "3                                        5   \n",
       "4                                     1912   \n",
       "\n",
       "   Others - Persons Injured - Total Injured   \n",
       "0                                       2625  \n",
       "1                                         54  \n",
       "2                                        670  \n",
       "3                                        447  \n",
       "4                                       2430  \n",
       "\n",
       "[5 rows x 28 columns]"
      ]
     },
     "execution_count": 3,
     "metadata": {},
     "output_type": "execute_result"
    }
   ],
   "source": [
    "df.head()"
   ]
  },
  {
   "cell_type": "code",
   "execution_count": 4,
   "metadata": {},
   "outputs": [
    {
     "data": {
      "text/plain": [
       "Index(['States/UTs', 'Sunny/Clear - Total Accidents - Number',\n",
       "       'Sunny/Clear - Total Accidents - Rank',\n",
       "       'Sunny/Clear - Persons Killed - Number',\n",
       "       'Sunny/Clear - Persons Killed - Rank',\n",
       "       'Sunny/Clear - Persons Injured - Greviously Injured',\n",
       "       'Sunny/Clear - Persons Injured - Minor Injury',\n",
       "       'Sunny/Clear - Persons Injured - Total Injured ',\n",
       "       'Rainy - Total Accidents', 'Rainy - Persons Killed',\n",
       "       'Rainy - Persons Injured - Greviously Injured',\n",
       "       'Rainy - Persons Injured - Minor Injury',\n",
       "       'Rainy - Persons Injured - Total Injured ',\n",
       "       'Foggy and Misty - Total Accidents', 'Foggy and Misty - Persons Killed',\n",
       "       'Foggy and Misty - Persons Injured - Greviously Injured',\n",
       "       'Foggy and Misty - Persons Injured - Minor Injury',\n",
       "       'Foggy and Misty - Persons Injured - Total Injured ',\n",
       "       'Hail/Sleet - Total Accidents', 'Hail/Sleet - Persons Killed',\n",
       "       'Hail/Sleet - Persons Injured - Greviously Injured',\n",
       "       'Hail/Sleet - Persons Injured - Minor Injury',\n",
       "       'Hail/Sleet - Persons Injured - Total Injured ',\n",
       "       'Others - Total Accidents', 'Others - Persons Killed',\n",
       "       'Others - Persons Injured - Greviously Injured',\n",
       "       'Others - Persons Injured - Minor Injury',\n",
       "       'Others - Persons Injured - Total Injured '],\n",
       "      dtype='object')"
      ]
     },
     "execution_count": 4,
     "metadata": {},
     "output_type": "execute_result"
    }
   ],
   "source": [
    "df.columns"
   ]
  },
  {
   "cell_type": "code",
   "execution_count": 5,
   "metadata": {},
   "outputs": [],
   "source": [
    "selected_columns = [\n",
    "    'Sunny/Clear - Total Accidents - Number',\n",
    "    'Rainy - Total Accidents',\n",
    "    'Hail/Sleet - Total Accidents'\n",
    "]\n",
    "\n",
    "# Create a new DataFrame with only the selected columns\n",
    "filteredDF = df[selected_columns]\n",
    "\n",
    "# Display the filtered DataFrame\n"
   ]
  },
  {
   "cell_type": "code",
   "execution_count": 6,
   "metadata": {},
   "outputs": [],
   "source": [
    "filteredDF=filteredDF.sum()"
   ]
  },
  {
   "cell_type": "code",
   "execution_count": 7,
   "metadata": {},
   "outputs": [],
   "source": [
    "filteredDF=filteredDF.reset_index()"
   ]
  },
  {
   "cell_type": "code",
   "execution_count": 8,
   "metadata": {},
   "outputs": [],
   "source": [
    "filteredDF.columns=['Weather','Accidents']"
   ]
  },
  {
   "cell_type": "code",
   "execution_count": 10,
   "metadata": {},
   "outputs": [],
   "source": [
    "filteredDF.to_csv('streamlitApp/requiredDF/wetherWiseAccidentData.csv',index=False)"
   ]
  },
  {
   "cell_type": "code",
   "execution_count": 14,
   "metadata": {},
   "outputs": [
    {
     "data": {
      "application/vnd.plotly.v1+json": {
       "config": {
        "plotlyServerURL": "https://plot.ly"
       },
       "data": [
        {
         "domain": {
          "x": [
           0,
           1
          ],
          "y": [
           0,
           1
          ]
         },
         "hovertemplate": "Weather=%{label}<br>Accidents=%{value}<extra></extra>",
         "labels": [
          "Sunny/Clear - Total Accidents - Number",
          "Rainy - Total Accidents",
          "Hail/Sleet - Total Accidents"
         ],
         "legendgroup": "",
         "name": "",
         "showlegend": true,
         "type": "pie",
         "values": [
          660590,
          79650,
          8086
         ]
        }
       ],
       "layout": {
        "legend": {
         "tracegroupgap": 0
        },
        "template": {
         "data": {
          "bar": [
           {
            "error_x": {
             "color": "#f2f5fa"
            },
            "error_y": {
             "color": "#f2f5fa"
            },
            "marker": {
             "line": {
              "color": "rgb(17,17,17)",
              "width": 0.5
             },
             "pattern": {
              "fillmode": "overlay",
              "size": 10,
              "solidity": 0.2
             }
            },
            "type": "bar"
           }
          ],
          "barpolar": [
           {
            "marker": {
             "line": {
              "color": "rgb(17,17,17)",
              "width": 0.5
             },
             "pattern": {
              "fillmode": "overlay",
              "size": 10,
              "solidity": 0.2
             }
            },
            "type": "barpolar"
           }
          ],
          "carpet": [
           {
            "aaxis": {
             "endlinecolor": "#A2B1C6",
             "gridcolor": "#506784",
             "linecolor": "#506784",
             "minorgridcolor": "#506784",
             "startlinecolor": "#A2B1C6"
            },
            "baxis": {
             "endlinecolor": "#A2B1C6",
             "gridcolor": "#506784",
             "linecolor": "#506784",
             "minorgridcolor": "#506784",
             "startlinecolor": "#A2B1C6"
            },
            "type": "carpet"
           }
          ],
          "choropleth": [
           {
            "colorbar": {
             "outlinewidth": 0,
             "ticks": ""
            },
            "type": "choropleth"
           }
          ],
          "contour": [
           {
            "colorbar": {
             "outlinewidth": 0,
             "ticks": ""
            },
            "colorscale": [
             [
              0,
              "#0d0887"
             ],
             [
              0.1111111111111111,
              "#46039f"
             ],
             [
              0.2222222222222222,
              "#7201a8"
             ],
             [
              0.3333333333333333,
              "#9c179e"
             ],
             [
              0.4444444444444444,
              "#bd3786"
             ],
             [
              0.5555555555555556,
              "#d8576b"
             ],
             [
              0.6666666666666666,
              "#ed7953"
             ],
             [
              0.7777777777777778,
              "#fb9f3a"
             ],
             [
              0.8888888888888888,
              "#fdca26"
             ],
             [
              1,
              "#f0f921"
             ]
            ],
            "type": "contour"
           }
          ],
          "contourcarpet": [
           {
            "colorbar": {
             "outlinewidth": 0,
             "ticks": ""
            },
            "type": "contourcarpet"
           }
          ],
          "heatmap": [
           {
            "colorbar": {
             "outlinewidth": 0,
             "ticks": ""
            },
            "colorscale": [
             [
              0,
              "#0d0887"
             ],
             [
              0.1111111111111111,
              "#46039f"
             ],
             [
              0.2222222222222222,
              "#7201a8"
             ],
             [
              0.3333333333333333,
              "#9c179e"
             ],
             [
              0.4444444444444444,
              "#bd3786"
             ],
             [
              0.5555555555555556,
              "#d8576b"
             ],
             [
              0.6666666666666666,
              "#ed7953"
             ],
             [
              0.7777777777777778,
              "#fb9f3a"
             ],
             [
              0.8888888888888888,
              "#fdca26"
             ],
             [
              1,
              "#f0f921"
             ]
            ],
            "type": "heatmap"
           }
          ],
          "heatmapgl": [
           {
            "colorbar": {
             "outlinewidth": 0,
             "ticks": ""
            },
            "colorscale": [
             [
              0,
              "#0d0887"
             ],
             [
              0.1111111111111111,
              "#46039f"
             ],
             [
              0.2222222222222222,
              "#7201a8"
             ],
             [
              0.3333333333333333,
              "#9c179e"
             ],
             [
              0.4444444444444444,
              "#bd3786"
             ],
             [
              0.5555555555555556,
              "#d8576b"
             ],
             [
              0.6666666666666666,
              "#ed7953"
             ],
             [
              0.7777777777777778,
              "#fb9f3a"
             ],
             [
              0.8888888888888888,
              "#fdca26"
             ],
             [
              1,
              "#f0f921"
             ]
            ],
            "type": "heatmapgl"
           }
          ],
          "histogram": [
           {
            "marker": {
             "pattern": {
              "fillmode": "overlay",
              "size": 10,
              "solidity": 0.2
             }
            },
            "type": "histogram"
           }
          ],
          "histogram2d": [
           {
            "colorbar": {
             "outlinewidth": 0,
             "ticks": ""
            },
            "colorscale": [
             [
              0,
              "#0d0887"
             ],
             [
              0.1111111111111111,
              "#46039f"
             ],
             [
              0.2222222222222222,
              "#7201a8"
             ],
             [
              0.3333333333333333,
              "#9c179e"
             ],
             [
              0.4444444444444444,
              "#bd3786"
             ],
             [
              0.5555555555555556,
              "#d8576b"
             ],
             [
              0.6666666666666666,
              "#ed7953"
             ],
             [
              0.7777777777777778,
              "#fb9f3a"
             ],
             [
              0.8888888888888888,
              "#fdca26"
             ],
             [
              1,
              "#f0f921"
             ]
            ],
            "type": "histogram2d"
           }
          ],
          "histogram2dcontour": [
           {
            "colorbar": {
             "outlinewidth": 0,
             "ticks": ""
            },
            "colorscale": [
             [
              0,
              "#0d0887"
             ],
             [
              0.1111111111111111,
              "#46039f"
             ],
             [
              0.2222222222222222,
              "#7201a8"
             ],
             [
              0.3333333333333333,
              "#9c179e"
             ],
             [
              0.4444444444444444,
              "#bd3786"
             ],
             [
              0.5555555555555556,
              "#d8576b"
             ],
             [
              0.6666666666666666,
              "#ed7953"
             ],
             [
              0.7777777777777778,
              "#fb9f3a"
             ],
             [
              0.8888888888888888,
              "#fdca26"
             ],
             [
              1,
              "#f0f921"
             ]
            ],
            "type": "histogram2dcontour"
           }
          ],
          "mesh3d": [
           {
            "colorbar": {
             "outlinewidth": 0,
             "ticks": ""
            },
            "type": "mesh3d"
           }
          ],
          "parcoords": [
           {
            "line": {
             "colorbar": {
              "outlinewidth": 0,
              "ticks": ""
             }
            },
            "type": "parcoords"
           }
          ],
          "pie": [
           {
            "automargin": true,
            "type": "pie"
           }
          ],
          "scatter": [
           {
            "marker": {
             "line": {
              "color": "#283442"
             }
            },
            "type": "scatter"
           }
          ],
          "scatter3d": [
           {
            "line": {
             "colorbar": {
              "outlinewidth": 0,
              "ticks": ""
             }
            },
            "marker": {
             "colorbar": {
              "outlinewidth": 0,
              "ticks": ""
             }
            },
            "type": "scatter3d"
           }
          ],
          "scattercarpet": [
           {
            "marker": {
             "colorbar": {
              "outlinewidth": 0,
              "ticks": ""
             }
            },
            "type": "scattercarpet"
           }
          ],
          "scattergeo": [
           {
            "marker": {
             "colorbar": {
              "outlinewidth": 0,
              "ticks": ""
             }
            },
            "type": "scattergeo"
           }
          ],
          "scattergl": [
           {
            "marker": {
             "line": {
              "color": "#283442"
             }
            },
            "type": "scattergl"
           }
          ],
          "scattermapbox": [
           {
            "marker": {
             "colorbar": {
              "outlinewidth": 0,
              "ticks": ""
             }
            },
            "type": "scattermapbox"
           }
          ],
          "scatterpolar": [
           {
            "marker": {
             "colorbar": {
              "outlinewidth": 0,
              "ticks": ""
             }
            },
            "type": "scatterpolar"
           }
          ],
          "scatterpolargl": [
           {
            "marker": {
             "colorbar": {
              "outlinewidth": 0,
              "ticks": ""
             }
            },
            "type": "scatterpolargl"
           }
          ],
          "scatterternary": [
           {
            "marker": {
             "colorbar": {
              "outlinewidth": 0,
              "ticks": ""
             }
            },
            "type": "scatterternary"
           }
          ],
          "surface": [
           {
            "colorbar": {
             "outlinewidth": 0,
             "ticks": ""
            },
            "colorscale": [
             [
              0,
              "#0d0887"
             ],
             [
              0.1111111111111111,
              "#46039f"
             ],
             [
              0.2222222222222222,
              "#7201a8"
             ],
             [
              0.3333333333333333,
              "#9c179e"
             ],
             [
              0.4444444444444444,
              "#bd3786"
             ],
             [
              0.5555555555555556,
              "#d8576b"
             ],
             [
              0.6666666666666666,
              "#ed7953"
             ],
             [
              0.7777777777777778,
              "#fb9f3a"
             ],
             [
              0.8888888888888888,
              "#fdca26"
             ],
             [
              1,
              "#f0f921"
             ]
            ],
            "type": "surface"
           }
          ],
          "table": [
           {
            "cells": {
             "fill": {
              "color": "#506784"
             },
             "line": {
              "color": "rgb(17,17,17)"
             }
            },
            "header": {
             "fill": {
              "color": "#2a3f5f"
             },
             "line": {
              "color": "rgb(17,17,17)"
             }
            },
            "type": "table"
           }
          ]
         },
         "layout": {
          "annotationdefaults": {
           "arrowcolor": "#f2f5fa",
           "arrowhead": 0,
           "arrowwidth": 1
          },
          "autotypenumbers": "strict",
          "coloraxis": {
           "colorbar": {
            "outlinewidth": 0,
            "ticks": ""
           }
          },
          "colorscale": {
           "diverging": [
            [
             0,
             "#8e0152"
            ],
            [
             0.1,
             "#c51b7d"
            ],
            [
             0.2,
             "#de77ae"
            ],
            [
             0.3,
             "#f1b6da"
            ],
            [
             0.4,
             "#fde0ef"
            ],
            [
             0.5,
             "#f7f7f7"
            ],
            [
             0.6,
             "#e6f5d0"
            ],
            [
             0.7,
             "#b8e186"
            ],
            [
             0.8,
             "#7fbc41"
            ],
            [
             0.9,
             "#4d9221"
            ],
            [
             1,
             "#276419"
            ]
           ],
           "sequential": [
            [
             0,
             "#0d0887"
            ],
            [
             0.1111111111111111,
             "#46039f"
            ],
            [
             0.2222222222222222,
             "#7201a8"
            ],
            [
             0.3333333333333333,
             "#9c179e"
            ],
            [
             0.4444444444444444,
             "#bd3786"
            ],
            [
             0.5555555555555556,
             "#d8576b"
            ],
            [
             0.6666666666666666,
             "#ed7953"
            ],
            [
             0.7777777777777778,
             "#fb9f3a"
            ],
            [
             0.8888888888888888,
             "#fdca26"
            ],
            [
             1,
             "#f0f921"
            ]
           ],
           "sequentialminus": [
            [
             0,
             "#0d0887"
            ],
            [
             0.1111111111111111,
             "#46039f"
            ],
            [
             0.2222222222222222,
             "#7201a8"
            ],
            [
             0.3333333333333333,
             "#9c179e"
            ],
            [
             0.4444444444444444,
             "#bd3786"
            ],
            [
             0.5555555555555556,
             "#d8576b"
            ],
            [
             0.6666666666666666,
             "#ed7953"
            ],
            [
             0.7777777777777778,
             "#fb9f3a"
            ],
            [
             0.8888888888888888,
             "#fdca26"
            ],
            [
             1,
             "#f0f921"
            ]
           ]
          },
          "colorway": [
           "#636efa",
           "#EF553B",
           "#00cc96",
           "#ab63fa",
           "#FFA15A",
           "#19d3f3",
           "#FF6692",
           "#B6E880",
           "#FF97FF",
           "#FECB52"
          ],
          "font": {
           "color": "#f2f5fa"
          },
          "geo": {
           "bgcolor": "rgb(17,17,17)",
           "lakecolor": "rgb(17,17,17)",
           "landcolor": "rgb(17,17,17)",
           "showlakes": true,
           "showland": true,
           "subunitcolor": "#506784"
          },
          "hoverlabel": {
           "align": "left"
          },
          "hovermode": "closest",
          "mapbox": {
           "style": "dark"
          },
          "paper_bgcolor": "rgb(17,17,17)",
          "plot_bgcolor": "rgb(17,17,17)",
          "polar": {
           "angularaxis": {
            "gridcolor": "#506784",
            "linecolor": "#506784",
            "ticks": ""
           },
           "bgcolor": "rgb(17,17,17)",
           "radialaxis": {
            "gridcolor": "#506784",
            "linecolor": "#506784",
            "ticks": ""
           }
          },
          "scene": {
           "xaxis": {
            "backgroundcolor": "rgb(17,17,17)",
            "gridcolor": "#506784",
            "gridwidth": 2,
            "linecolor": "#506784",
            "showbackground": true,
            "ticks": "",
            "zerolinecolor": "#C8D4E3"
           },
           "yaxis": {
            "backgroundcolor": "rgb(17,17,17)",
            "gridcolor": "#506784",
            "gridwidth": 2,
            "linecolor": "#506784",
            "showbackground": true,
            "ticks": "",
            "zerolinecolor": "#C8D4E3"
           },
           "zaxis": {
            "backgroundcolor": "rgb(17,17,17)",
            "gridcolor": "#506784",
            "gridwidth": 2,
            "linecolor": "#506784",
            "showbackground": true,
            "ticks": "",
            "zerolinecolor": "#C8D4E3"
           }
          },
          "shapedefaults": {
           "line": {
            "color": "#f2f5fa"
           }
          },
          "sliderdefaults": {
           "bgcolor": "#C8D4E3",
           "bordercolor": "rgb(17,17,17)",
           "borderwidth": 1,
           "tickwidth": 0
          },
          "ternary": {
           "aaxis": {
            "gridcolor": "#506784",
            "linecolor": "#506784",
            "ticks": ""
           },
           "baxis": {
            "gridcolor": "#506784",
            "linecolor": "#506784",
            "ticks": ""
           },
           "bgcolor": "rgb(17,17,17)",
           "caxis": {
            "gridcolor": "#506784",
            "linecolor": "#506784",
            "ticks": ""
           }
          },
          "title": {
           "x": 0.05
          },
          "updatemenudefaults": {
           "bgcolor": "#506784",
           "borderwidth": 0
          },
          "xaxis": {
           "automargin": true,
           "gridcolor": "#283442",
           "linecolor": "#506784",
           "ticks": "",
           "title": {
            "standoff": 15
           },
           "zerolinecolor": "#283442",
           "zerolinewidth": 2
          },
          "yaxis": {
           "automargin": true,
           "gridcolor": "#283442",
           "linecolor": "#506784",
           "ticks": "",
           "title": {
            "standoff": 15
           },
           "zerolinecolor": "#283442",
           "zerolinewidth": 2
          }
         }
        },
        "title": {
         "text": "Accidents According to Weather"
        }
       }
      }
     },
     "metadata": {},
     "output_type": "display_data"
    }
   ],
   "source": [
    "px.pie(filteredDF,template='plotly_dark', values='Accidents', names='Weather', title='Accidents According to Weather').show()"
   ]
  },
  {
   "cell_type": "code",
   "execution_count": null,
   "metadata": {},
   "outputs": [],
   "source": []
  }
 ],
 "metadata": {
  "kernelspec": {
   "display_name": "Python 3",
   "language": "python",
   "name": "python3"
  },
  "language_info": {
   "codemirror_mode": {
    "name": "ipython",
    "version": 3
   },
   "file_extension": ".py",
   "mimetype": "text/x-python",
   "name": "python",
   "nbconvert_exporter": "python",
   "pygments_lexer": "ipython3",
   "version": "3.12.3"
  }
 },
 "nbformat": 4,
 "nbformat_minor": 2
}

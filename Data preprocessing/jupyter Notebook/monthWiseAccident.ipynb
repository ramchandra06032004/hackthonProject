{
 "cells": [
  {
   "cell_type": "code",
   "execution_count": 1,
   "metadata": {},
   "outputs": [],
   "source": [
    "import pandas as pd\n",
    "import numpy as np\n",
    "import plotly.io as pio\n",
    "import plotly.express as px"
   ]
  },
  {
   "cell_type": "code",
   "execution_count": 2,
   "metadata": {},
   "outputs": [],
   "source": [
    "df=pd.read_csv('monthWiseAccident.csv')"
   ]
  },
  {
   "cell_type": "code",
   "execution_count": 3,
   "metadata": {},
   "outputs": [
    {
     "data": {
      "text/html": [
       "<div>\n",
       "<style scoped>\n",
       "    .dataframe tbody tr th:only-of-type {\n",
       "        vertical-align: middle;\n",
       "    }\n",
       "\n",
       "    .dataframe tbody tr th {\n",
       "        vertical-align: top;\n",
       "    }\n",
       "\n",
       "    .dataframe thead th {\n",
       "        text-align: right;\n",
       "    }\n",
       "</style>\n",
       "<table border=\"1\" class=\"dataframe\">\n",
       "  <thead>\n",
       "    <tr style=\"text-align: right;\">\n",
       "      <th></th>\n",
       "      <th>States/Uts</th>\n",
       "      <th>January - Fatal Accidents</th>\n",
       "      <th>January - Total Accdents</th>\n",
       "      <th>January - Persons Killed</th>\n",
       "      <th>January - Persons Injured - Greviously Injured</th>\n",
       "      <th>January - Persons Injured - Minor Injury</th>\n",
       "      <th>January - Persons Injured - Total Injured</th>\n",
       "      <th>February - Fatal Accidents</th>\n",
       "      <th>February - Total Accdents</th>\n",
       "      <th>February - Persons Killed</th>\n",
       "      <th>...</th>\n",
       "      <th>December - Persons Killed</th>\n",
       "      <th>December - Persons Injured - Greviously Injured</th>\n",
       "      <th>December - Persons Injured - Minor Injury</th>\n",
       "      <th>December - Persons Injured - Total Injured</th>\n",
       "      <th>Total - Fatal Accidents</th>\n",
       "      <th>Total - Total Accdents</th>\n",
       "      <th>Total - Persons Killed</th>\n",
       "      <th>Total - Persons Injured - Greviously Injured</th>\n",
       "      <th>Total - Persons Injured - Minor Injury</th>\n",
       "      <th>Total - Persons Injured - Total Injured</th>\n",
       "    </tr>\n",
       "  </thead>\n",
       "  <tbody>\n",
       "    <tr>\n",
       "      <th>0</th>\n",
       "      <td>Andhra Pradesh</td>\n",
       "      <td>648</td>\n",
       "      <td>1891</td>\n",
       "      <td>695</td>\n",
       "      <td>583</td>\n",
       "      <td>1504</td>\n",
       "      <td>2087</td>\n",
       "      <td>628</td>\n",
       "      <td>1774</td>\n",
       "      <td>662</td>\n",
       "      <td>...</td>\n",
       "      <td>666</td>\n",
       "      <td>505</td>\n",
       "      <td>1718</td>\n",
       "      <td>2223</td>\n",
       "      <td>7389</td>\n",
       "      <td>21992</td>\n",
       "      <td>7984</td>\n",
       "      <td>6290</td>\n",
       "      <td>18329</td>\n",
       "      <td>24619</td>\n",
       "    </tr>\n",
       "    <tr>\n",
       "      <th>1</th>\n",
       "      <td>Arunachal Pradesh</td>\n",
       "      <td>10</td>\n",
       "      <td>23</td>\n",
       "      <td>13</td>\n",
       "      <td>18</td>\n",
       "      <td>15</td>\n",
       "      <td>33</td>\n",
       "      <td>8</td>\n",
       "      <td>18</td>\n",
       "      <td>9</td>\n",
       "      <td>...</td>\n",
       "      <td>13</td>\n",
       "      <td>9</td>\n",
       "      <td>16</td>\n",
       "      <td>25</td>\n",
       "      <td>108</td>\n",
       "      <td>237</td>\n",
       "      <td>127</td>\n",
       "      <td>166</td>\n",
       "      <td>143</td>\n",
       "      <td>309</td>\n",
       "    </tr>\n",
       "    <tr>\n",
       "      <th>2</th>\n",
       "      <td>Assam</td>\n",
       "      <td>304</td>\n",
       "      <td>774</td>\n",
       "      <td>303</td>\n",
       "      <td>502</td>\n",
       "      <td>91</td>\n",
       "      <td>593</td>\n",
       "      <td>287</td>\n",
       "      <td>785</td>\n",
       "      <td>315</td>\n",
       "      <td>...</td>\n",
       "      <td>267</td>\n",
       "      <td>514</td>\n",
       "      <td>58</td>\n",
       "      <td>572</td>\n",
       "      <td>3019</td>\n",
       "      <td>8350</td>\n",
       "      <td>3208</td>\n",
       "      <td>6454</td>\n",
       "      <td>1019</td>\n",
       "      <td>7473</td>\n",
       "    </tr>\n",
       "    <tr>\n",
       "      <th>3</th>\n",
       "      <td>Bihar</td>\n",
       "      <td>544</td>\n",
       "      <td>832</td>\n",
       "      <td>573</td>\n",
       "      <td>458</td>\n",
       "      <td>41</td>\n",
       "      <td>499</td>\n",
       "      <td>500</td>\n",
       "      <td>764</td>\n",
       "      <td>546</td>\n",
       "      <td>...</td>\n",
       "      <td>605</td>\n",
       "      <td>569</td>\n",
       "      <td>22</td>\n",
       "      <td>591</td>\n",
       "      <td>6731</td>\n",
       "      <td>10007</td>\n",
       "      <td>7205</td>\n",
       "      <td>6872</td>\n",
       "      <td>334</td>\n",
       "      <td>7206</td>\n",
       "    </tr>\n",
       "    <tr>\n",
       "      <th>4</th>\n",
       "      <td>Chhattisgarh</td>\n",
       "      <td>474</td>\n",
       "      <td>1385</td>\n",
       "      <td>519</td>\n",
       "      <td>321</td>\n",
       "      <td>989</td>\n",
       "      <td>1310</td>\n",
       "      <td>397</td>\n",
       "      <td>1241</td>\n",
       "      <td>442</td>\n",
       "      <td>...</td>\n",
       "      <td>378</td>\n",
       "      <td>137</td>\n",
       "      <td>771</td>\n",
       "      <td>908</td>\n",
       "      <td>4603</td>\n",
       "      <td>13899</td>\n",
       "      <td>5003</td>\n",
       "      <td>2551</td>\n",
       "      <td>10539</td>\n",
       "      <td>13090</td>\n",
       "    </tr>\n",
       "  </tbody>\n",
       "</table>\n",
       "<p>5 rows × 79 columns</p>\n",
       "</div>"
      ],
      "text/plain": [
       "          States/Uts  January - Fatal Accidents  January - Total Accdents  \\\n",
       "0     Andhra Pradesh                        648                      1891   \n",
       "1  Arunachal Pradesh                         10                        23   \n",
       "2              Assam                        304                       774   \n",
       "3              Bihar                        544                       832   \n",
       "4       Chhattisgarh                        474                      1385   \n",
       "\n",
       "   January - Persons Killed  January - Persons Injured - Greviously Injured  \\\n",
       "0                       695                                             583   \n",
       "1                        13                                              18   \n",
       "2                       303                                             502   \n",
       "3                       573                                             458   \n",
       "4                       519                                             321   \n",
       "\n",
       "   January - Persons Injured - Minor Injury  \\\n",
       "0                                      1504   \n",
       "1                                        15   \n",
       "2                                        91   \n",
       "3                                        41   \n",
       "4                                       989   \n",
       "\n",
       "   January - Persons Injured - Total Injured  February - Fatal Accidents  \\\n",
       "0                                       2087                         628   \n",
       "1                                         33                           8   \n",
       "2                                        593                         287   \n",
       "3                                        499                         500   \n",
       "4                                       1310                         397   \n",
       "\n",
       "   February - Total Accdents  February - Persons Killed  ...  \\\n",
       "0                       1774                        662  ...   \n",
       "1                         18                          9  ...   \n",
       "2                        785                        315  ...   \n",
       "3                        764                        546  ...   \n",
       "4                       1241                        442  ...   \n",
       "\n",
       "   December - Persons Killed  December - Persons Injured - Greviously Injured  \\\n",
       "0                        666                                              505   \n",
       "1                         13                                                9   \n",
       "2                        267                                              514   \n",
       "3                        605                                              569   \n",
       "4                        378                                              137   \n",
       "\n",
       "   December - Persons Injured - Minor Injury  \\\n",
       "0                                       1718   \n",
       "1                                         16   \n",
       "2                                         58   \n",
       "3                                         22   \n",
       "4                                        771   \n",
       "\n",
       "   December - Persons Injured - Total Injured  Total - Fatal Accidents  \\\n",
       "0                                        2223                     7389   \n",
       "1                                          25                      108   \n",
       "2                                         572                     3019   \n",
       "3                                         591                     6731   \n",
       "4                                         908                     4603   \n",
       "\n",
       "   Total - Total Accdents  Total - Persons Killed  \\\n",
       "0                   21992                    7984   \n",
       "1                     237                     127   \n",
       "2                    8350                    3208   \n",
       "3                   10007                    7205   \n",
       "4                   13899                    5003   \n",
       "\n",
       "   Total - Persons Injured - Greviously Injured  \\\n",
       "0                                          6290   \n",
       "1                                           166   \n",
       "2                                          6454   \n",
       "3                                          6872   \n",
       "4                                          2551   \n",
       "\n",
       "   Total - Persons Injured - Minor Injury  \\\n",
       "0                                   18329   \n",
       "1                                     143   \n",
       "2                                    1019   \n",
       "3                                     334   \n",
       "4                                   10539   \n",
       "\n",
       "   Total - Persons Injured - Total Injured  \n",
       "0                                    24619  \n",
       "1                                      309  \n",
       "2                                     7473  \n",
       "3                                     7206  \n",
       "4                                    13090  \n",
       "\n",
       "[5 rows x 79 columns]"
      ]
     },
     "execution_count": 3,
     "metadata": {},
     "output_type": "execute_result"
    }
   ],
   "source": [
    "df.head()"
   ]
  },
  {
   "cell_type": "code",
   "execution_count": 9,
   "metadata": {},
   "outputs": [],
   "source": [
    "newDF=df.sum()"
   ]
  },
  {
   "cell_type": "code",
   "execution_count": 17,
   "metadata": {},
   "outputs": [
    {
     "data": {
      "text/html": [
       "<div>\n",
       "<style scoped>\n",
       "    .dataframe tbody tr th:only-of-type {\n",
       "        vertical-align: middle;\n",
       "    }\n",
       "\n",
       "    .dataframe tbody tr th {\n",
       "        vertical-align: top;\n",
       "    }\n",
       "\n",
       "    .dataframe thead th {\n",
       "        text-align: right;\n",
       "    }\n",
       "</style>\n",
       "<table border=\"1\" class=\"dataframe\">\n",
       "  <thead>\n",
       "    <tr style=\"text-align: right;\">\n",
       "      <th></th>\n",
       "      <th>index</th>\n",
       "      <th>0</th>\n",
       "    </tr>\n",
       "  </thead>\n",
       "  <tbody>\n",
       "    <tr>\n",
       "      <th>0</th>\n",
       "      <td>States/Uts</td>\n",
       "      <td>Andhra PradeshArunachal PradeshAssamBiharChhat...</td>\n",
       "    </tr>\n",
       "    <tr>\n",
       "      <th>1</th>\n",
       "      <td>January - Fatal Accidents</td>\n",
       "      <td>25082</td>\n",
       "    </tr>\n",
       "    <tr>\n",
       "      <th>2</th>\n",
       "      <td>January - Total Accdents</td>\n",
       "      <td>82260</td>\n",
       "    </tr>\n",
       "    <tr>\n",
       "      <th>3</th>\n",
       "      <td>January - Persons Killed</td>\n",
       "      <td>27376</td>\n",
       "    </tr>\n",
       "    <tr>\n",
       "      <th>4</th>\n",
       "      <td>January - Persons Injured - Greviously Injured</td>\n",
       "      <td>33962</td>\n",
       "    </tr>\n",
       "    <tr>\n",
       "      <th>...</th>\n",
       "      <td>...</td>\n",
       "      <td>...</td>\n",
       "    </tr>\n",
       "    <tr>\n",
       "      <th>74</th>\n",
       "      <td>Total - Total Accdents</td>\n",
       "      <td>898004</td>\n",
       "    </tr>\n",
       "    <tr>\n",
       "      <th>75</th>\n",
       "      <td>Total - Persons Killed</td>\n",
       "      <td>302226</td>\n",
       "    </tr>\n",
       "    <tr>\n",
       "      <th>76</th>\n",
       "      <td>Total - Persons Injured - Greviously Injured</td>\n",
       "      <td>368272</td>\n",
       "    </tr>\n",
       "    <tr>\n",
       "      <th>77</th>\n",
       "      <td>Total - Persons Injured - Minor Injury</td>\n",
       "      <td>534450</td>\n",
       "    </tr>\n",
       "    <tr>\n",
       "      <th>78</th>\n",
       "      <td>Total - Persons Injured - Total Injured</td>\n",
       "      <td>902722</td>\n",
       "    </tr>\n",
       "  </tbody>\n",
       "</table>\n",
       "<p>79 rows × 2 columns</p>\n",
       "</div>"
      ],
      "text/plain": [
       "                                             index  \\\n",
       "0                                       States/Uts   \n",
       "1                        January - Fatal Accidents   \n",
       "2                         January - Total Accdents   \n",
       "3                         January - Persons Killed   \n",
       "4   January - Persons Injured - Greviously Injured   \n",
       "..                                             ...   \n",
       "74                          Total - Total Accdents   \n",
       "75                          Total - Persons Killed   \n",
       "76    Total - Persons Injured - Greviously Injured   \n",
       "77          Total - Persons Injured - Minor Injury   \n",
       "78         Total - Persons Injured - Total Injured   \n",
       "\n",
       "                                                    0  \n",
       "0   Andhra PradeshArunachal PradeshAssamBiharChhat...  \n",
       "1                                               25082  \n",
       "2                                               82260  \n",
       "3                                               27376  \n",
       "4                                               33962  \n",
       "..                                                ...  \n",
       "74                                             898004  \n",
       "75                                             302226  \n",
       "76                                             368272  \n",
       "77                                             534450  \n",
       "78                                             902722  \n",
       "\n",
       "[79 rows x 2 columns]"
      ]
     },
     "execution_count": 17,
     "metadata": {},
     "output_type": "execute_result"
    }
   ],
   "source": [
    "newDF.reset_index()\n"
   ]
  },
  {
   "cell_type": "code",
   "execution_count": 21,
   "metadata": {},
   "outputs": [],
   "source": [
    "newDF = newDF.reset_index()\n",
    "newDF.columns = ['Month', 'TotalAccidents']"
   ]
  },
  {
   "cell_type": "code",
   "execution_count": 25,
   "metadata": {},
   "outputs": [],
   "source": [
    "newDF=newDF.iloc[1:,:]"
   ]
  },
  {
   "cell_type": "code",
   "execution_count": 33,
   "metadata": {},
   "outputs": [
    {
     "name": "stdout",
     "output_type": "stream",
     "text": [
      "['January - Fatal Accidents' 'January - Total Accdents'\n",
      " 'January - Persons Killed'\n",
      " 'January - Persons Injured - Greviously Injured'\n",
      " 'January - Persons Injured - Minor Injury'\n",
      " 'January - Persons Injured - Total Injured' 'February - Fatal Accidents'\n",
      " 'February - Total Accdents' 'February - Persons Killed'\n",
      " 'February - Persons Injured - Greviously Injured'\n",
      " 'February - Persons Injured - Minor Injury'\n",
      " 'February - Persons Injured - Total Injured' 'March - Fatal Accidents'\n",
      " 'March - Total Accdents' 'March - Persons Killed'\n",
      " 'March - Persons Injured - Greviously Injured'\n",
      " 'March - Persons Injured - Minor Injury'\n",
      " 'March - Persons Injured - Total Injured' 'April - Fatal Accidents'\n",
      " 'April - Total Accdents' 'April - Persons Killed'\n",
      " 'April - Persons Injured - Greviously Injured'\n",
      " 'April - Persons Injured - Minor Injury'\n",
      " 'April - Persons Injured - Total Injured' 'May - Fatal Accidents'\n",
      " 'May - Total Accdents' 'May - Persons Killed'\n",
      " 'May - Persons Injured - Greviously Injured'\n",
      " 'May - Persons Injured - Minor Injury'\n",
      " 'May - Persons Injured - Total Injured' 'June - Fatal Accidents'\n",
      " 'June - Total Accdents' 'June - Persons Killed'\n",
      " 'June - Persons Injured - Greviously Injured'\n",
      " 'June - Persons Injured - Minor Injury'\n",
      " 'June - Persons Injured - Total Injured' 'July - Fatal Accidents'\n",
      " 'July - Total Accdents' 'July - Persons Killed'\n",
      " 'July - Persons Injured - Greviously Injured'\n",
      " 'July - Persons Injured - Minor Injury'\n",
      " 'July - Persons Injured - Total Injured' 'August - Fatal Accidents'\n",
      " 'August - Total Accdents' 'August - Persons Killed'\n",
      " 'August - Persons Injured - Greviously Injured'\n",
      " 'August - Persons Injured - Minor Injury'\n",
      " 'August - Persons Injured - Total Injured' 'September - Fatal Accidents'\n",
      " 'September - Total Accdents' 'September - Persons Killed'\n",
      " 'September - Persons Injured - Greviously Injured'\n",
      " 'September - Persons Injured - Minor Injury'\n",
      " 'September - Persons Injured - Total Injured' 'October - Fatal Accidents'\n",
      " 'October - Total Accdents' 'October - Persons Killed'\n",
      " 'October - Persons Injured - Greviously Injured'\n",
      " 'October - Persons Injured - Minor Injury'\n",
      " 'October - Persons Injured - Total Injured' 'November - Fatal Accidents'\n",
      " 'November - Total Accdents' 'November - Persons Killed'\n",
      " 'November - Persons Injured - Greviously Injured'\n",
      " 'November - Persons Injured - Minor Injury'\n",
      " 'November - Persons Injured - Total Injured' 'December - Fatal Accidents'\n",
      " 'December - Total Accdents' 'December - Persons Killed'\n",
      " 'December - Persons Injured - Greviously Injured'\n",
      " 'December - Persons Injured - Minor Injury'\n",
      " 'December - Persons Injured - Total Injured' 'Total - Fatal Accidents'\n",
      " 'Total - Total Accdents' 'Total - Persons Killed'\n",
      " 'Total - Persons Injured - Greviously Injured'\n",
      " 'Total - Persons Injured - Minor Injury'\n",
      " 'Total - Persons Injured - Total Injured']\n"
     ]
    }
   ],
   "source": [
    "print(newDF[\"Month\"].values)"
   ]
  },
  {
   "cell_type": "code",
   "execution_count": 51,
   "metadata": {},
   "outputs": [
    {
     "name": "stdout",
     "output_type": "stream",
     "text": [
      "                         Month TotalAccidents\n",
      "2     January - Total Accdents          82260\n",
      "8    February - Total Accdents          74560\n",
      "14      March - Total Accdents          79412\n",
      "20      April - Total Accdents          75554\n",
      "26        May - Total Accdents          82980\n",
      "32       June - Total Accdents          79738\n",
      "38       July - Total Accdents          72380\n",
      "44     August - Total Accdents          68192\n",
      "50  September - Total Accdents          64118\n",
      "56    October - Total Accdents          70796\n",
      "62   November - Total Accdents          73872\n",
      "68   December - Total Accdents          74142\n",
      "74      Total - Total Accdents         898004\n"
     ]
    }
   ],
   "source": [
    "# List of exact strings to match\n",
    "total_accidents_months = [\n",
    "    'January - Total Accdents', 'February - Total Accdents', 'March - Total Accdents',\n",
    "    'April - Total Accdents', 'May - Total Accdents', 'June - Total Accdents',\n",
    "    'July - Total Accdents', 'August - Total Accdents', 'September - Total Accdents',\n",
    "    'October - Total Accdents', 'November - Total Accdents', 'December - Total Accdents',\n",
    "    'Total - Total Accdents'\n",
    "]\n",
    "\n",
    "# Filter rows to keep only those matching the exact strings\n",
    "filteredDF = newDF[newDF['Month'].isin(total_accidents_months)]\n",
    "\n",
    "# Display the filtered DataFrame\n",
    "print(filteredDF)"
   ]
  },
  {
   "cell_type": "code",
   "execution_count": 52,
   "metadata": {},
   "outputs": [
    {
     "data": {
      "text/html": [
       "<div>\n",
       "<style scoped>\n",
       "    .dataframe tbody tr th:only-of-type {\n",
       "        vertical-align: middle;\n",
       "    }\n",
       "\n",
       "    .dataframe tbody tr th {\n",
       "        vertical-align: top;\n",
       "    }\n",
       "\n",
       "    .dataframe thead th {\n",
       "        text-align: right;\n",
       "    }\n",
       "</style>\n",
       "<table border=\"1\" class=\"dataframe\">\n",
       "  <thead>\n",
       "    <tr style=\"text-align: right;\">\n",
       "      <th></th>\n",
       "      <th>Month</th>\n",
       "      <th>TotalAccidents</th>\n",
       "    </tr>\n",
       "  </thead>\n",
       "  <tbody>\n",
       "    <tr>\n",
       "      <th>2</th>\n",
       "      <td>January - Total Accdents</td>\n",
       "      <td>82260</td>\n",
       "    </tr>\n",
       "    <tr>\n",
       "      <th>8</th>\n",
       "      <td>February - Total Accdents</td>\n",
       "      <td>74560</td>\n",
       "    </tr>\n",
       "    <tr>\n",
       "      <th>14</th>\n",
       "      <td>March - Total Accdents</td>\n",
       "      <td>79412</td>\n",
       "    </tr>\n",
       "    <tr>\n",
       "      <th>20</th>\n",
       "      <td>April - Total Accdents</td>\n",
       "      <td>75554</td>\n",
       "    </tr>\n",
       "    <tr>\n",
       "      <th>26</th>\n",
       "      <td>May - Total Accdents</td>\n",
       "      <td>82980</td>\n",
       "    </tr>\n",
       "    <tr>\n",
       "      <th>32</th>\n",
       "      <td>June - Total Accdents</td>\n",
       "      <td>79738</td>\n",
       "    </tr>\n",
       "    <tr>\n",
       "      <th>38</th>\n",
       "      <td>July - Total Accdents</td>\n",
       "      <td>72380</td>\n",
       "    </tr>\n",
       "    <tr>\n",
       "      <th>44</th>\n",
       "      <td>August - Total Accdents</td>\n",
       "      <td>68192</td>\n",
       "    </tr>\n",
       "    <tr>\n",
       "      <th>50</th>\n",
       "      <td>September - Total Accdents</td>\n",
       "      <td>64118</td>\n",
       "    </tr>\n",
       "    <tr>\n",
       "      <th>56</th>\n",
       "      <td>October - Total Accdents</td>\n",
       "      <td>70796</td>\n",
       "    </tr>\n",
       "    <tr>\n",
       "      <th>62</th>\n",
       "      <td>November - Total Accdents</td>\n",
       "      <td>73872</td>\n",
       "    </tr>\n",
       "    <tr>\n",
       "      <th>68</th>\n",
       "      <td>December - Total Accdents</td>\n",
       "      <td>74142</td>\n",
       "    </tr>\n",
       "    <tr>\n",
       "      <th>74</th>\n",
       "      <td>Total - Total Accdents</td>\n",
       "      <td>898004</td>\n",
       "    </tr>\n",
       "  </tbody>\n",
       "</table>\n",
       "</div>"
      ],
      "text/plain": [
       "                         Month TotalAccidents\n",
       "2     January - Total Accdents          82260\n",
       "8    February - Total Accdents          74560\n",
       "14      March - Total Accdents          79412\n",
       "20      April - Total Accdents          75554\n",
       "26        May - Total Accdents          82980\n",
       "32       June - Total Accdents          79738\n",
       "38       July - Total Accdents          72380\n",
       "44     August - Total Accdents          68192\n",
       "50  September - Total Accdents          64118\n",
       "56    October - Total Accdents          70796\n",
       "62   November - Total Accdents          73872\n",
       "68   December - Total Accdents          74142\n",
       "74      Total - Total Accdents         898004"
      ]
     },
     "execution_count": 52,
     "metadata": {},
     "output_type": "execute_result"
    }
   ],
   "source": [
    "filteredDF"
   ]
  },
  {
   "cell_type": "code",
   "execution_count": 53,
   "metadata": {},
   "outputs": [
    {
     "data": {
      "text/html": [
       "<div>\n",
       "<style scoped>\n",
       "    .dataframe tbody tr th:only-of-type {\n",
       "        vertical-align: middle;\n",
       "    }\n",
       "\n",
       "    .dataframe tbody tr th {\n",
       "        vertical-align: top;\n",
       "    }\n",
       "\n",
       "    .dataframe thead th {\n",
       "        text-align: right;\n",
       "    }\n",
       "</style>\n",
       "<table border=\"1\" class=\"dataframe\">\n",
       "  <thead>\n",
       "    <tr style=\"text-align: right;\">\n",
       "      <th></th>\n",
       "      <th>TotalAccidents</th>\n",
       "    </tr>\n",
       "    <tr>\n",
       "      <th>MonthName</th>\n",
       "      <th></th>\n",
       "    </tr>\n",
       "  </thead>\n",
       "  <tbody>\n",
       "    <tr>\n",
       "      <th>January</th>\n",
       "      <td>82260</td>\n",
       "    </tr>\n",
       "    <tr>\n",
       "      <th>February</th>\n",
       "      <td>74560</td>\n",
       "    </tr>\n",
       "    <tr>\n",
       "      <th>March</th>\n",
       "      <td>79412</td>\n",
       "    </tr>\n",
       "    <tr>\n",
       "      <th>April</th>\n",
       "      <td>75554</td>\n",
       "    </tr>\n",
       "    <tr>\n",
       "      <th>May</th>\n",
       "      <td>82980</td>\n",
       "    </tr>\n",
       "    <tr>\n",
       "      <th>June</th>\n",
       "      <td>79738</td>\n",
       "    </tr>\n",
       "    <tr>\n",
       "      <th>July</th>\n",
       "      <td>72380</td>\n",
       "    </tr>\n",
       "    <tr>\n",
       "      <th>August</th>\n",
       "      <td>68192</td>\n",
       "    </tr>\n",
       "    <tr>\n",
       "      <th>September</th>\n",
       "      <td>64118</td>\n",
       "    </tr>\n",
       "    <tr>\n",
       "      <th>October</th>\n",
       "      <td>70796</td>\n",
       "    </tr>\n",
       "    <tr>\n",
       "      <th>November</th>\n",
       "      <td>73872</td>\n",
       "    </tr>\n",
       "    <tr>\n",
       "      <th>December</th>\n",
       "      <td>74142</td>\n",
       "    </tr>\n",
       "    <tr>\n",
       "      <th>Total</th>\n",
       "      <td>898004</td>\n",
       "    </tr>\n",
       "  </tbody>\n",
       "</table>\n",
       "</div>"
      ],
      "text/plain": [
       "          TotalAccidents\n",
       "MonthName               \n",
       "January            82260\n",
       "February           74560\n",
       "March              79412\n",
       "April              75554\n",
       "May                82980\n",
       "June               79738\n",
       "July               72380\n",
       "August             68192\n",
       "September          64118\n",
       "October            70796\n",
       "November           73872\n",
       "December           74142\n",
       "Total             898004"
      ]
     },
     "execution_count": 53,
     "metadata": {},
     "output_type": "execute_result"
    }
   ],
   "source": [
    "# Extract the month name from the 'Month' column and set it as the index\n",
    "filteredDF = filteredDF.set_index(filteredDF['Month'].str.split(' - ').str[0])\n",
    "\n",
    "# Drop the original 'Month' column if no longer needed\n",
    "filteredDF = filteredDF.drop(columns=['Month'])\n",
    "\n",
    "# Rename the index to 'MonthName'\n",
    "filteredDF.index.name = 'MonthName'\n",
    "\n",
    "# Display the modified DataFrame\n",
    "filteredDF"
   ]
  },
  {
   "cell_type": "code",
   "execution_count": 60,
   "metadata": {},
   "outputs": [],
   "source": [
    "filteredDF=filteredDF.reset_index()"
   ]
  },
  {
   "cell_type": "code",
   "execution_count": 63,
   "metadata": {},
   "outputs": [
    {
     "data": {
      "text/html": [
       "<div>\n",
       "<style scoped>\n",
       "    .dataframe tbody tr th:only-of-type {\n",
       "        vertical-align: middle;\n",
       "    }\n",
       "\n",
       "    .dataframe tbody tr th {\n",
       "        vertical-align: top;\n",
       "    }\n",
       "\n",
       "    .dataframe thead th {\n",
       "        text-align: right;\n",
       "    }\n",
       "</style>\n",
       "<table border=\"1\" class=\"dataframe\">\n",
       "  <thead>\n",
       "    <tr style=\"text-align: right;\">\n",
       "      <th></th>\n",
       "      <th>MonthName</th>\n",
       "      <th>TotalAccidents</th>\n",
       "    </tr>\n",
       "  </thead>\n",
       "  <tbody>\n",
       "    <tr>\n",
       "      <th>8</th>\n",
       "      <td>September</td>\n",
       "      <td>64118</td>\n",
       "    </tr>\n",
       "    <tr>\n",
       "      <th>9</th>\n",
       "      <td>October</td>\n",
       "      <td>70796</td>\n",
       "    </tr>\n",
       "    <tr>\n",
       "      <th>10</th>\n",
       "      <td>November</td>\n",
       "      <td>73872</td>\n",
       "    </tr>\n",
       "    <tr>\n",
       "      <th>11</th>\n",
       "      <td>December</td>\n",
       "      <td>74142</td>\n",
       "    </tr>\n",
       "    <tr>\n",
       "      <th>12</th>\n",
       "      <td>Total</td>\n",
       "      <td>898004</td>\n",
       "    </tr>\n",
       "  </tbody>\n",
       "</table>\n",
       "</div>"
      ],
      "text/plain": [
       "    MonthName TotalAccidents\n",
       "8   September          64118\n",
       "9     October          70796\n",
       "10   November          73872\n",
       "11   December          74142\n",
       "12      Total         898004"
      ]
     },
     "execution_count": 63,
     "metadata": {},
     "output_type": "execute_result"
    }
   ],
   "source": [
    "filteredDF.tail()"
   ]
  },
  {
   "cell_type": "code",
   "execution_count": 66,
   "metadata": {},
   "outputs": [],
   "source": [
    "filteredDF=filteredDF.iloc[:-1,:]"
   ]
  },
  {
   "cell_type": "code",
   "execution_count": 68,
   "metadata": {},
   "outputs": [
    {
     "data": {
      "application/vnd.plotly.v1+json": {
       "config": {
        "plotlyServerURL": "https://plot.ly"
       },
       "data": [
        {
         "hovertemplate": "MonthName=%{x}<br>TotalAccidents=%{y}<extra></extra>",
         "legendgroup": "",
         "line": {
          "color": "#636efa",
          "dash": "solid"
         },
         "marker": {
          "symbol": "circle"
         },
         "mode": "lines",
         "name": "",
         "orientation": "v",
         "showlegend": false,
         "type": "scatter",
         "x": [
          "January",
          "February",
          "March",
          "April",
          "May",
          "June",
          "July",
          "August",
          "September",
          "October",
          "November",
          "December"
         ],
         "xaxis": "x",
         "y": [
          82260,
          74560,
          79412,
          75554,
          82980,
          79738,
          72380,
          68192,
          64118,
          70796,
          73872,
          74142
         ],
         "yaxis": "y"
        }
       ],
       "layout": {
        "legend": {
         "tracegroupgap": 0
        },
        "template": {
         "data": {
          "bar": [
           {
            "error_x": {
             "color": "#f2f5fa"
            },
            "error_y": {
             "color": "#f2f5fa"
            },
            "marker": {
             "line": {
              "color": "rgb(17,17,17)",
              "width": 0.5
             },
             "pattern": {
              "fillmode": "overlay",
              "size": 10,
              "solidity": 0.2
             }
            },
            "type": "bar"
           }
          ],
          "barpolar": [
           {
            "marker": {
             "line": {
              "color": "rgb(17,17,17)",
              "width": 0.5
             },
             "pattern": {
              "fillmode": "overlay",
              "size": 10,
              "solidity": 0.2
             }
            },
            "type": "barpolar"
           }
          ],
          "carpet": [
           {
            "aaxis": {
             "endlinecolor": "#A2B1C6",
             "gridcolor": "#506784",
             "linecolor": "#506784",
             "minorgridcolor": "#506784",
             "startlinecolor": "#A2B1C6"
            },
            "baxis": {
             "endlinecolor": "#A2B1C6",
             "gridcolor": "#506784",
             "linecolor": "#506784",
             "minorgridcolor": "#506784",
             "startlinecolor": "#A2B1C6"
            },
            "type": "carpet"
           }
          ],
          "choropleth": [
           {
            "colorbar": {
             "outlinewidth": 0,
             "ticks": ""
            },
            "type": "choropleth"
           }
          ],
          "contour": [
           {
            "colorbar": {
             "outlinewidth": 0,
             "ticks": ""
            },
            "colorscale": [
             [
              0,
              "#0d0887"
             ],
             [
              0.1111111111111111,
              "#46039f"
             ],
             [
              0.2222222222222222,
              "#7201a8"
             ],
             [
              0.3333333333333333,
              "#9c179e"
             ],
             [
              0.4444444444444444,
              "#bd3786"
             ],
             [
              0.5555555555555556,
              "#d8576b"
             ],
             [
              0.6666666666666666,
              "#ed7953"
             ],
             [
              0.7777777777777778,
              "#fb9f3a"
             ],
             [
              0.8888888888888888,
              "#fdca26"
             ],
             [
              1,
              "#f0f921"
             ]
            ],
            "type": "contour"
           }
          ],
          "contourcarpet": [
           {
            "colorbar": {
             "outlinewidth": 0,
             "ticks": ""
            },
            "type": "contourcarpet"
           }
          ],
          "heatmap": [
           {
            "colorbar": {
             "outlinewidth": 0,
             "ticks": ""
            },
            "colorscale": [
             [
              0,
              "#0d0887"
             ],
             [
              0.1111111111111111,
              "#46039f"
             ],
             [
              0.2222222222222222,
              "#7201a8"
             ],
             [
              0.3333333333333333,
              "#9c179e"
             ],
             [
              0.4444444444444444,
              "#bd3786"
             ],
             [
              0.5555555555555556,
              "#d8576b"
             ],
             [
              0.6666666666666666,
              "#ed7953"
             ],
             [
              0.7777777777777778,
              "#fb9f3a"
             ],
             [
              0.8888888888888888,
              "#fdca26"
             ],
             [
              1,
              "#f0f921"
             ]
            ],
            "type": "heatmap"
           }
          ],
          "heatmapgl": [
           {
            "colorbar": {
             "outlinewidth": 0,
             "ticks": ""
            },
            "colorscale": [
             [
              0,
              "#0d0887"
             ],
             [
              0.1111111111111111,
              "#46039f"
             ],
             [
              0.2222222222222222,
              "#7201a8"
             ],
             [
              0.3333333333333333,
              "#9c179e"
             ],
             [
              0.4444444444444444,
              "#bd3786"
             ],
             [
              0.5555555555555556,
              "#d8576b"
             ],
             [
              0.6666666666666666,
              "#ed7953"
             ],
             [
              0.7777777777777778,
              "#fb9f3a"
             ],
             [
              0.8888888888888888,
              "#fdca26"
             ],
             [
              1,
              "#f0f921"
             ]
            ],
            "type": "heatmapgl"
           }
          ],
          "histogram": [
           {
            "marker": {
             "pattern": {
              "fillmode": "overlay",
              "size": 10,
              "solidity": 0.2
             }
            },
            "type": "histogram"
           }
          ],
          "histogram2d": [
           {
            "colorbar": {
             "outlinewidth": 0,
             "ticks": ""
            },
            "colorscale": [
             [
              0,
              "#0d0887"
             ],
             [
              0.1111111111111111,
              "#46039f"
             ],
             [
              0.2222222222222222,
              "#7201a8"
             ],
             [
              0.3333333333333333,
              "#9c179e"
             ],
             [
              0.4444444444444444,
              "#bd3786"
             ],
             [
              0.5555555555555556,
              "#d8576b"
             ],
             [
              0.6666666666666666,
              "#ed7953"
             ],
             [
              0.7777777777777778,
              "#fb9f3a"
             ],
             [
              0.8888888888888888,
              "#fdca26"
             ],
             [
              1,
              "#f0f921"
             ]
            ],
            "type": "histogram2d"
           }
          ],
          "histogram2dcontour": [
           {
            "colorbar": {
             "outlinewidth": 0,
             "ticks": ""
            },
            "colorscale": [
             [
              0,
              "#0d0887"
             ],
             [
              0.1111111111111111,
              "#46039f"
             ],
             [
              0.2222222222222222,
              "#7201a8"
             ],
             [
              0.3333333333333333,
              "#9c179e"
             ],
             [
              0.4444444444444444,
              "#bd3786"
             ],
             [
              0.5555555555555556,
              "#d8576b"
             ],
             [
              0.6666666666666666,
              "#ed7953"
             ],
             [
              0.7777777777777778,
              "#fb9f3a"
             ],
             [
              0.8888888888888888,
              "#fdca26"
             ],
             [
              1,
              "#f0f921"
             ]
            ],
            "type": "histogram2dcontour"
           }
          ],
          "mesh3d": [
           {
            "colorbar": {
             "outlinewidth": 0,
             "ticks": ""
            },
            "type": "mesh3d"
           }
          ],
          "parcoords": [
           {
            "line": {
             "colorbar": {
              "outlinewidth": 0,
              "ticks": ""
             }
            },
            "type": "parcoords"
           }
          ],
          "pie": [
           {
            "automargin": true,
            "type": "pie"
           }
          ],
          "scatter": [
           {
            "marker": {
             "line": {
              "color": "#283442"
             }
            },
            "type": "scatter"
           }
          ],
          "scatter3d": [
           {
            "line": {
             "colorbar": {
              "outlinewidth": 0,
              "ticks": ""
             }
            },
            "marker": {
             "colorbar": {
              "outlinewidth": 0,
              "ticks": ""
             }
            },
            "type": "scatter3d"
           }
          ],
          "scattercarpet": [
           {
            "marker": {
             "colorbar": {
              "outlinewidth": 0,
              "ticks": ""
             }
            },
            "type": "scattercarpet"
           }
          ],
          "scattergeo": [
           {
            "marker": {
             "colorbar": {
              "outlinewidth": 0,
              "ticks": ""
             }
            },
            "type": "scattergeo"
           }
          ],
          "scattergl": [
           {
            "marker": {
             "line": {
              "color": "#283442"
             }
            },
            "type": "scattergl"
           }
          ],
          "scattermapbox": [
           {
            "marker": {
             "colorbar": {
              "outlinewidth": 0,
              "ticks": ""
             }
            },
            "type": "scattermapbox"
           }
          ],
          "scatterpolar": [
           {
            "marker": {
             "colorbar": {
              "outlinewidth": 0,
              "ticks": ""
             }
            },
            "type": "scatterpolar"
           }
          ],
          "scatterpolargl": [
           {
            "marker": {
             "colorbar": {
              "outlinewidth": 0,
              "ticks": ""
             }
            },
            "type": "scatterpolargl"
           }
          ],
          "scatterternary": [
           {
            "marker": {
             "colorbar": {
              "outlinewidth": 0,
              "ticks": ""
             }
            },
            "type": "scatterternary"
           }
          ],
          "surface": [
           {
            "colorbar": {
             "outlinewidth": 0,
             "ticks": ""
            },
            "colorscale": [
             [
              0,
              "#0d0887"
             ],
             [
              0.1111111111111111,
              "#46039f"
             ],
             [
              0.2222222222222222,
              "#7201a8"
             ],
             [
              0.3333333333333333,
              "#9c179e"
             ],
             [
              0.4444444444444444,
              "#bd3786"
             ],
             [
              0.5555555555555556,
              "#d8576b"
             ],
             [
              0.6666666666666666,
              "#ed7953"
             ],
             [
              0.7777777777777778,
              "#fb9f3a"
             ],
             [
              0.8888888888888888,
              "#fdca26"
             ],
             [
              1,
              "#f0f921"
             ]
            ],
            "type": "surface"
           }
          ],
          "table": [
           {
            "cells": {
             "fill": {
              "color": "#506784"
             },
             "line": {
              "color": "rgb(17,17,17)"
             }
            },
            "header": {
             "fill": {
              "color": "#2a3f5f"
             },
             "line": {
              "color": "rgb(17,17,17)"
             }
            },
            "type": "table"
           }
          ]
         },
         "layout": {
          "annotationdefaults": {
           "arrowcolor": "#f2f5fa",
           "arrowhead": 0,
           "arrowwidth": 1
          },
          "autotypenumbers": "strict",
          "coloraxis": {
           "colorbar": {
            "outlinewidth": 0,
            "ticks": ""
           }
          },
          "colorscale": {
           "diverging": [
            [
             0,
             "#8e0152"
            ],
            [
             0.1,
             "#c51b7d"
            ],
            [
             0.2,
             "#de77ae"
            ],
            [
             0.3,
             "#f1b6da"
            ],
            [
             0.4,
             "#fde0ef"
            ],
            [
             0.5,
             "#f7f7f7"
            ],
            [
             0.6,
             "#e6f5d0"
            ],
            [
             0.7,
             "#b8e186"
            ],
            [
             0.8,
             "#7fbc41"
            ],
            [
             0.9,
             "#4d9221"
            ],
            [
             1,
             "#276419"
            ]
           ],
           "sequential": [
            [
             0,
             "#0d0887"
            ],
            [
             0.1111111111111111,
             "#46039f"
            ],
            [
             0.2222222222222222,
             "#7201a8"
            ],
            [
             0.3333333333333333,
             "#9c179e"
            ],
            [
             0.4444444444444444,
             "#bd3786"
            ],
            [
             0.5555555555555556,
             "#d8576b"
            ],
            [
             0.6666666666666666,
             "#ed7953"
            ],
            [
             0.7777777777777778,
             "#fb9f3a"
            ],
            [
             0.8888888888888888,
             "#fdca26"
            ],
            [
             1,
             "#f0f921"
            ]
           ],
           "sequentialminus": [
            [
             0,
             "#0d0887"
            ],
            [
             0.1111111111111111,
             "#46039f"
            ],
            [
             0.2222222222222222,
             "#7201a8"
            ],
            [
             0.3333333333333333,
             "#9c179e"
            ],
            [
             0.4444444444444444,
             "#bd3786"
            ],
            [
             0.5555555555555556,
             "#d8576b"
            ],
            [
             0.6666666666666666,
             "#ed7953"
            ],
            [
             0.7777777777777778,
             "#fb9f3a"
            ],
            [
             0.8888888888888888,
             "#fdca26"
            ],
            [
             1,
             "#f0f921"
            ]
           ]
          },
          "colorway": [
           "#636efa",
           "#EF553B",
           "#00cc96",
           "#ab63fa",
           "#FFA15A",
           "#19d3f3",
           "#FF6692",
           "#B6E880",
           "#FF97FF",
           "#FECB52"
          ],
          "font": {
           "color": "#f2f5fa"
          },
          "geo": {
           "bgcolor": "rgb(17,17,17)",
           "lakecolor": "rgb(17,17,17)",
           "landcolor": "rgb(17,17,17)",
           "showlakes": true,
           "showland": true,
           "subunitcolor": "#506784"
          },
          "hoverlabel": {
           "align": "left"
          },
          "hovermode": "closest",
          "mapbox": {
           "style": "dark"
          },
          "paper_bgcolor": "rgb(17,17,17)",
          "plot_bgcolor": "rgb(17,17,17)",
          "polar": {
           "angularaxis": {
            "gridcolor": "#506784",
            "linecolor": "#506784",
            "ticks": ""
           },
           "bgcolor": "rgb(17,17,17)",
           "radialaxis": {
            "gridcolor": "#506784",
            "linecolor": "#506784",
            "ticks": ""
           }
          },
          "scene": {
           "xaxis": {
            "backgroundcolor": "rgb(17,17,17)",
            "gridcolor": "#506784",
            "gridwidth": 2,
            "linecolor": "#506784",
            "showbackground": true,
            "ticks": "",
            "zerolinecolor": "#C8D4E3"
           },
           "yaxis": {
            "backgroundcolor": "rgb(17,17,17)",
            "gridcolor": "#506784",
            "gridwidth": 2,
            "linecolor": "#506784",
            "showbackground": true,
            "ticks": "",
            "zerolinecolor": "#C8D4E3"
           },
           "zaxis": {
            "backgroundcolor": "rgb(17,17,17)",
            "gridcolor": "#506784",
            "gridwidth": 2,
            "linecolor": "#506784",
            "showbackground": true,
            "ticks": "",
            "zerolinecolor": "#C8D4E3"
           }
          },
          "shapedefaults": {
           "line": {
            "color": "#f2f5fa"
           }
          },
          "sliderdefaults": {
           "bgcolor": "#C8D4E3",
           "bordercolor": "rgb(17,17,17)",
           "borderwidth": 1,
           "tickwidth": 0
          },
          "ternary": {
           "aaxis": {
            "gridcolor": "#506784",
            "linecolor": "#506784",
            "ticks": ""
           },
           "baxis": {
            "gridcolor": "#506784",
            "linecolor": "#506784",
            "ticks": ""
           },
           "bgcolor": "rgb(17,17,17)",
           "caxis": {
            "gridcolor": "#506784",
            "linecolor": "#506784",
            "ticks": ""
           }
          },
          "title": {
           "x": 0.05
          },
          "updatemenudefaults": {
           "bgcolor": "#506784",
           "borderwidth": 0
          },
          "xaxis": {
           "automargin": true,
           "gridcolor": "#283442",
           "linecolor": "#506784",
           "ticks": "",
           "title": {
            "standoff": 15
           },
           "zerolinecolor": "#283442",
           "zerolinewidth": 2
          },
          "yaxis": {
           "automargin": true,
           "gridcolor": "#283442",
           "linecolor": "#506784",
           "ticks": "",
           "title": {
            "standoff": 15
           },
           "zerolinecolor": "#283442",
           "zerolinewidth": 2
          }
         }
        },
        "title": {
         "text": "Total Accidents by Month 2019"
        },
        "xaxis": {
         "anchor": "y",
         "domain": [
          0,
          1
         ],
         "title": {
          "text": "MonthName"
         }
        },
        "yaxis": {
         "anchor": "x",
         "domain": [
          0,
          1
         ],
         "title": {
          "text": "TotalAccidents"
         }
        }
       }
      }
     },
     "metadata": {},
     "output_type": "display_data"
    }
   ],
   "source": [
    "px.line(filteredDF, x='MonthName', y='TotalAccidents', title='Total Accidents by Month 2019',template='plotly_dark').show()"
   ]
  },
  {
   "cell_type": "code",
   "execution_count": null,
   "metadata": {},
   "outputs": [],
   "source": []
  }
 ],
 "metadata": {
  "kernelspec": {
   "display_name": "Python 3",
   "language": "python",
   "name": "python3"
  },
  "language_info": {
   "codemirror_mode": {
    "name": "ipython",
    "version": 3
   },
   "file_extension": ".py",
   "mimetype": "text/x-python",
   "name": "python",
   "nbconvert_exporter": "python",
   "pygments_lexer": "ipython3",
   "version": "3.12.3"
  }
 },
 "nbformat": 4,
 "nbformat_minor": 2
}

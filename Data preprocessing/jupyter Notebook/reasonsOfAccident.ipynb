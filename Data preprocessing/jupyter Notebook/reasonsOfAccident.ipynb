{
 "cells": [
  {
   "cell_type": "code",
   "execution_count": 2,
   "metadata": {},
   "outputs": [],
   "source": [
    "import pandas as pd\n",
    "import numpy as np\n",
    "import plotly.io as pio\n",
    "import plotly.express as px"
   ]
  },
  {
   "cell_type": "code",
   "execution_count": 3,
   "metadata": {},
   "outputs": [],
   "source": [
    "df=pd.read_csv('reasonsOfAccident.csv')"
   ]
  },
  {
   "cell_type": "code",
   "execution_count": 3,
   "metadata": {},
   "outputs": [
    {
     "data": {
      "text/html": [
       "<div>\n",
       "<style scoped>\n",
       "    .dataframe tbody tr th:only-of-type {\n",
       "        vertical-align: middle;\n",
       "    }\n",
       "\n",
       "    .dataframe tbody tr th {\n",
       "        vertical-align: top;\n",
       "    }\n",
       "\n",
       "    .dataframe thead th {\n",
       "        text-align: right;\n",
       "    }\n",
       "</style>\n",
       "<table border=\"1\" class=\"dataframe\">\n",
       "  <thead>\n",
       "    <tr style=\"text-align: right;\">\n",
       "      <th></th>\n",
       "      <th>States/UTs</th>\n",
       "      <th>Over-Speeding - Number of Accidents - Number</th>\n",
       "      <th>Over-Speeding - Number of Accidents - Rank</th>\n",
       "      <th>Over-Speeding - Persons Killed - Number</th>\n",
       "      <th>Over-Speeding - Persons Killed - Rank</th>\n",
       "      <th>Over-Speeding - Persons Injured - Greviously Injured</th>\n",
       "      <th>Over-Speeding - Persons Injured - Minor Injury</th>\n",
       "      <th>Over-Speeding - Persons Injured - Total Injured</th>\n",
       "      <th>Drunken Driving/ Consumption of alcohol and drug  - Number of Accidents</th>\n",
       "      <th>Drunken Driving/ Consumption of alcohol and drug  - Persons Killed</th>\n",
       "      <th>...</th>\n",
       "      <th>Use of Mobile Phone - Number of Accidents</th>\n",
       "      <th>Use of Mobile Phone - Persons Killed</th>\n",
       "      <th>Use of Mobile Phone - Persons Injured - Greviously Injured</th>\n",
       "      <th>Use of Mobile Phone - Persons Injured - Minor Injury</th>\n",
       "      <th>Use of Mobile Phone - Persons Injured - Total Injured</th>\n",
       "      <th>Others - Number of Accidents</th>\n",
       "      <th>Others - Persons Killed</th>\n",
       "      <th>Others - Persons Injured - Greviously Injured</th>\n",
       "      <th>Others - Persons Injured - Minor Injury</th>\n",
       "      <th>Others - Persons Injured - Total Injured</th>\n",
       "    </tr>\n",
       "  </thead>\n",
       "  <tbody>\n",
       "    <tr>\n",
       "      <th>0</th>\n",
       "      <td>Andhra Pradesh</td>\n",
       "      <td>15382</td>\n",
       "      <td>9.0</td>\n",
       "      <td>5530</td>\n",
       "      <td>9.0</td>\n",
       "      <td>4806</td>\n",
       "      <td>12038</td>\n",
       "      <td>16844</td>\n",
       "      <td>127</td>\n",
       "      <td>43</td>\n",
       "      <td>...</td>\n",
       "      <td>96</td>\n",
       "      <td>29</td>\n",
       "      <td>26</td>\n",
       "      <td>108</td>\n",
       "      <td>134</td>\n",
       "      <td>5841</td>\n",
       "      <td>2205</td>\n",
       "      <td>1122</td>\n",
       "      <td>5713</td>\n",
       "      <td>6835</td>\n",
       "    </tr>\n",
       "    <tr>\n",
       "      <th>1</th>\n",
       "      <td>Arunachal Pradesh</td>\n",
       "      <td>76</td>\n",
       "      <td>31.0</td>\n",
       "      <td>41</td>\n",
       "      <td>30.0</td>\n",
       "      <td>50</td>\n",
       "      <td>39</td>\n",
       "      <td>89</td>\n",
       "      <td>46</td>\n",
       "      <td>27</td>\n",
       "      <td>...</td>\n",
       "      <td>43</td>\n",
       "      <td>23</td>\n",
       "      <td>36</td>\n",
       "      <td>31</td>\n",
       "      <td>67</td>\n",
       "      <td>15</td>\n",
       "      <td>8</td>\n",
       "      <td>4</td>\n",
       "      <td>2</td>\n",
       "      <td>6</td>\n",
       "    </tr>\n",
       "    <tr>\n",
       "      <th>2</th>\n",
       "      <td>Assam</td>\n",
       "      <td>6322</td>\n",
       "      <td>14.0</td>\n",
       "      <td>2426</td>\n",
       "      <td>15.0</td>\n",
       "      <td>5225</td>\n",
       "      <td>800</td>\n",
       "      <td>6025</td>\n",
       "      <td>279</td>\n",
       "      <td>74</td>\n",
       "      <td>...</td>\n",
       "      <td>99</td>\n",
       "      <td>40</td>\n",
       "      <td>69</td>\n",
       "      <td>30</td>\n",
       "      <td>99</td>\n",
       "      <td>585</td>\n",
       "      <td>276</td>\n",
       "      <td>249</td>\n",
       "      <td>41</td>\n",
       "      <td>290</td>\n",
       "    </tr>\n",
       "    <tr>\n",
       "      <th>3</th>\n",
       "      <td>Bihar</td>\n",
       "      <td>5130</td>\n",
       "      <td>16.0</td>\n",
       "      <td>3815</td>\n",
       "      <td>11.0</td>\n",
       "      <td>3684</td>\n",
       "      <td>163</td>\n",
       "      <td>3847</td>\n",
       "      <td>0</td>\n",
       "      <td>0</td>\n",
       "      <td>...</td>\n",
       "      <td>182</td>\n",
       "      <td>149</td>\n",
       "      <td>125</td>\n",
       "      <td>5</td>\n",
       "      <td>130</td>\n",
       "      <td>3230</td>\n",
       "      <td>2207</td>\n",
       "      <td>2034</td>\n",
       "      <td>109</td>\n",
       "      <td>2143</td>\n",
       "    </tr>\n",
       "    <tr>\n",
       "      <th>4</th>\n",
       "      <td>Chhattisgarh</td>\n",
       "      <td>12139</td>\n",
       "      <td>11.0</td>\n",
       "      <td>4440</td>\n",
       "      <td>10.0</td>\n",
       "      <td>2131</td>\n",
       "      <td>9501</td>\n",
       "      <td>11632</td>\n",
       "      <td>134</td>\n",
       "      <td>34</td>\n",
       "      <td>...</td>\n",
       "      <td>24</td>\n",
       "      <td>9</td>\n",
       "      <td>5</td>\n",
       "      <td>5</td>\n",
       "      <td>10</td>\n",
       "      <td>820</td>\n",
       "      <td>321</td>\n",
       "      <td>73</td>\n",
       "      <td>459</td>\n",
       "      <td>532</td>\n",
       "    </tr>\n",
       "  </tbody>\n",
       "</table>\n",
       "<p>5 rows × 33 columns</p>\n",
       "</div>"
      ],
      "text/plain": [
       "          States/UTs  Over-Speeding - Number of Accidents - Number  \\\n",
       "0     Andhra Pradesh                                         15382   \n",
       "1  Arunachal Pradesh                                            76   \n",
       "2              Assam                                          6322   \n",
       "3              Bihar                                          5130   \n",
       "4       Chhattisgarh                                         12139   \n",
       "\n",
       "   Over-Speeding - Number of Accidents - Rank  \\\n",
       "0                                         9.0   \n",
       "1                                        31.0   \n",
       "2                                        14.0   \n",
       "3                                        16.0   \n",
       "4                                        11.0   \n",
       "\n",
       "   Over-Speeding - Persons Killed - Number  \\\n",
       "0                                     5530   \n",
       "1                                       41   \n",
       "2                                     2426   \n",
       "3                                     3815   \n",
       "4                                     4440   \n",
       "\n",
       "   Over-Speeding - Persons Killed - Rank  \\\n",
       "0                                    9.0   \n",
       "1                                   30.0   \n",
       "2                                   15.0   \n",
       "3                                   11.0   \n",
       "4                                   10.0   \n",
       "\n",
       "   Over-Speeding - Persons Injured - Greviously Injured  \\\n",
       "0                                               4806      \n",
       "1                                                 50      \n",
       "2                                               5225      \n",
       "3                                               3684      \n",
       "4                                               2131      \n",
       "\n",
       "   Over-Speeding - Persons Injured - Minor Injury  \\\n",
       "0                                           12038   \n",
       "1                                              39   \n",
       "2                                             800   \n",
       "3                                             163   \n",
       "4                                            9501   \n",
       "\n",
       "   Over-Speeding - Persons Injured - Total Injured  \\\n",
       "0                                            16844   \n",
       "1                                               89   \n",
       "2                                             6025   \n",
       "3                                             3847   \n",
       "4                                            11632   \n",
       "\n",
       "   Drunken Driving/ Consumption of alcohol and drug  - Number of Accidents  \\\n",
       "0                                                127                         \n",
       "1                                                 46                         \n",
       "2                                                279                         \n",
       "3                                                  0                         \n",
       "4                                                134                         \n",
       "\n",
       "   Drunken Driving/ Consumption of alcohol and drug  - Persons Killed  ...  \\\n",
       "0                                                 43                   ...   \n",
       "1                                                 27                   ...   \n",
       "2                                                 74                   ...   \n",
       "3                                                  0                   ...   \n",
       "4                                                 34                   ...   \n",
       "\n",
       "   Use of Mobile Phone - Number of Accidents  \\\n",
       "0                                         96   \n",
       "1                                         43   \n",
       "2                                         99   \n",
       "3                                        182   \n",
       "4                                         24   \n",
       "\n",
       "   Use of Mobile Phone - Persons Killed  \\\n",
       "0                                    29   \n",
       "1                                    23   \n",
       "2                                    40   \n",
       "3                                   149   \n",
       "4                                     9   \n",
       "\n",
       "   Use of Mobile Phone - Persons Injured - Greviously Injured  \\\n",
       "0                                                 26            \n",
       "1                                                 36            \n",
       "2                                                 69            \n",
       "3                                                125            \n",
       "4                                                  5            \n",
       "\n",
       "   Use of Mobile Phone - Persons Injured - Minor Injury  \\\n",
       "0                                                108      \n",
       "1                                                 31      \n",
       "2                                                 30      \n",
       "3                                                  5      \n",
       "4                                                  5      \n",
       "\n",
       "   Use of Mobile Phone - Persons Injured - Total Injured  \\\n",
       "0                                                134       \n",
       "1                                                 67       \n",
       "2                                                 99       \n",
       "3                                                130       \n",
       "4                                                 10       \n",
       "\n",
       "   Others - Number of Accidents  Others - Persons Killed  \\\n",
       "0                          5841                     2205   \n",
       "1                            15                        8   \n",
       "2                           585                      276   \n",
       "3                          3230                     2207   \n",
       "4                           820                      321   \n",
       "\n",
       "   Others - Persons Injured - Greviously Injured  \\\n",
       "0                                           1122   \n",
       "1                                              4   \n",
       "2                                            249   \n",
       "3                                           2034   \n",
       "4                                             73   \n",
       "\n",
       "   Others - Persons Injured - Minor Injury  \\\n",
       "0                                     5713   \n",
       "1                                        2   \n",
       "2                                       41   \n",
       "3                                      109   \n",
       "4                                      459   \n",
       "\n",
       "   Others - Persons Injured - Total Injured  \n",
       "0                                      6835  \n",
       "1                                         6  \n",
       "2                                       290  \n",
       "3                                      2143  \n",
       "4                                       532  \n",
       "\n",
       "[5 rows x 33 columns]"
      ]
     },
     "execution_count": 3,
     "metadata": {},
     "output_type": "execute_result"
    }
   ],
   "source": [
    "df.head()"
   ]
  },
  {
   "cell_type": "code",
   "execution_count": 4,
   "metadata": {},
   "outputs": [
    {
     "data": {
      "text/plain": [
       "Index(['States/UTs', 'Over-Speeding - Number of Accidents - Number',\n",
       "       'Over-Speeding - Number of Accidents - Rank',\n",
       "       'Over-Speeding - Persons Killed - Number',\n",
       "       'Over-Speeding - Persons Killed - Rank',\n",
       "       'Over-Speeding - Persons Injured - Greviously Injured',\n",
       "       'Over-Speeding - Persons Injured - Minor Injury',\n",
       "       'Over-Speeding - Persons Injured - Total Injured',\n",
       "       'Drunken Driving/ Consumption of alcohol and drug  - Number of Accidents',\n",
       "       'Drunken Driving/ Consumption of alcohol and drug  - Persons Killed',\n",
       "       'Drunken Driving/ Consumption of alcohol and drug  - Persons Injured - Greviously Injured',\n",
       "       'Drunken Driving/ Consumption of alcohol and drug  - Persons Injured - Minor Injury',\n",
       "       'Drunken Driving/ Consumption of alcohol and drug  - Persons Injured - Total Injured',\n",
       "       'Driving on Wrong side - Number of Accidents',\n",
       "       'Driving on Wrong side - Persons Killed',\n",
       "       'Driving on Wrong side - Persons Injured - Greviously Injured',\n",
       "       'Driving on Wrong side - Persons Injured - Minor Injury',\n",
       "       'Driving on Wrong side - Persons Injured - Total Injured',\n",
       "       'Jumping Red Light - Number of Accidents',\n",
       "       'Jumping Red Light - Persons Killed',\n",
       "       'Jumping Red Light - Persons Injured - Greviously Injured',\n",
       "       'Jumping Red Light - Persons Injured - Minor Injury',\n",
       "       'Jumping Red Light - Persons Injured - Total Injured',\n",
       "       'Use of Mobile Phone - Number of Accidents',\n",
       "       'Use of Mobile Phone - Persons Killed',\n",
       "       'Use of Mobile Phone - Persons Injured - Greviously Injured',\n",
       "       'Use of Mobile Phone - Persons Injured - Minor Injury',\n",
       "       'Use of Mobile Phone - Persons Injured - Total Injured',\n",
       "       'Others - Number of Accidents', 'Others - Persons Killed',\n",
       "       'Others - Persons Injured - Greviously Injured',\n",
       "       'Others - Persons Injured - Minor Injury',\n",
       "       'Others - Persons Injured - Total Injured'],\n",
       "      dtype='object')"
      ]
     },
     "execution_count": 4,
     "metadata": {},
     "output_type": "execute_result"
    }
   ],
   "source": [
    "df.columns"
   ]
  },
  {
   "cell_type": "code",
   "execution_count": 4,
   "metadata": {},
   "outputs": [],
   "source": [
    "# List of columns to select\n",
    "selected_columns = [\n",
    "    'States/UTs',\n",
    "    'Over-Speeding - Number of Accidents - Number',\n",
    "    'Drunken Driving/ Consumption of alcohol and drug  - Number of Accidents',\n",
    "    'Driving on Wrong side - Number of Accidents',\n",
    "    'Jumping Red Light - Number of Accidents',\n",
    "    'Use of Mobile Phone - Number of Accidents',\n",
    "    'Others - Number of Accidents'\n",
    "]\n",
    "\n",
    "# Create a new DataFrame with only the selected columns\n",
    "filteredDF = df[selected_columns]\n",
    "\n"
   ]
  },
  {
   "cell_type": "code",
   "execution_count": 5,
   "metadata": {},
   "outputs": [
    {
     "name": "stderr",
     "output_type": "stream",
     "text": [
      "C:\\Users\\rajum\\AppData\\Local\\Temp\\ipykernel_25724\\728101333.py:2: SettingWithCopyWarning: \n",
      "A value is trying to be set on a copy of a slice from a DataFrame\n",
      "\n",
      "See the caveats in the documentation: https://pandas.pydata.org/pandas-docs/stable/user_guide/indexing.html#returning-a-view-versus-a-copy\n",
      "  filteredDF.rename(columns={'Over-Speeding - Number of Accidents - Number':'Over-Speeding',\n"
     ]
    }
   ],
   "source": [
    "# Display the filtered DataFrame\n",
    "filteredDF.rename(columns={'Over-Speeding - Number of Accidents - Number':'Over-Speeding',\n",
    "                           'Drunken Driving/ Consumption of alcohol and drug  - Number of Accidents':'Drunken Driving',\n",
    "                           'Driving on Wrong side - Number of Accidents':'Driving on Wrong side',\n",
    "                           'Jumping Red Light - Number of Accidents':'Jumping Red Light',\n",
    "                           'Use of Mobile Phone - Number of Accidents':'Use of Mobile Phone',\n",
    "                           'Others - Number of Accidents':'Others'}, inplace=True)"
   ]
  },
  {
   "cell_type": "code",
   "execution_count": 6,
   "metadata": {},
   "outputs": [],
   "source": [
    "filteredDF=filteredDF.sum()"
   ]
  },
  {
   "cell_type": "code",
   "execution_count": 7,
   "metadata": {},
   "outputs": [],
   "source": [
    "filteredDF=filteredDF.reset_index()\n",
    "filteredDF.columns=['Reasons','Number of Accidents']\n"
   ]
  },
  {
   "cell_type": "code",
   "execution_count": 8,
   "metadata": {},
   "outputs": [],
   "source": [
    "filteredDF.drop(filteredDF.index[5],inplace=True)"
   ]
  },
  {
   "cell_type": "code",
   "execution_count": 9,
   "metadata": {},
   "outputs": [
    {
     "ename": "KeyError",
     "evalue": "\"None of [Index(['Years', 'Total Number of Road Accidents (in numbers) ',\\n       'Road Length (in kms)', 'Total Number of Persons Killed (in numbers) ',\\n       'Total Number of Persons Injured (in numbers)'],\\n      dtype='object')] are in the [columns]\"",
     "output_type": "error",
     "traceback": [
      "\u001b[1;31m---------------------------------------------------------------------------\u001b[0m",
      "\u001b[1;31mKeyError\u001b[0m                                  Traceback (most recent call last)",
      "Cell \u001b[1;32mIn[9], line 8\u001b[0m\n\u001b[0;32m      5\u001b[0m selected_columns \u001b[38;5;241m=\u001b[39m [\u001b[38;5;124m'\u001b[39m\u001b[38;5;124mYears\u001b[39m\u001b[38;5;124m'\u001b[39m,\u001b[38;5;124m'\u001b[39m\u001b[38;5;124mTotal Number of Road Accidents (in numbers) \u001b[39m\u001b[38;5;124m'\u001b[39m, \u001b[38;5;124m'\u001b[39m\u001b[38;5;124mRoad Length (in kms)\u001b[39m\u001b[38;5;124m'\u001b[39m, \u001b[38;5;124m'\u001b[39m\u001b[38;5;124mTotal Number of Persons Killed (in numbers) \u001b[39m\u001b[38;5;124m'\u001b[39m,\u001b[38;5;124m'\u001b[39m\u001b[38;5;124mTotal Number of Persons Injured (in numbers)\u001b[39m\u001b[38;5;124m'\u001b[39m]\n\u001b[0;32m      7\u001b[0m \u001b[38;5;66;03m# Select the columns\u001b[39;00m\n\u001b[1;32m----> 8\u001b[0m df_selected \u001b[38;5;241m=\u001b[39m \u001b[43mdf\u001b[49m\u001b[43m[\u001b[49m\u001b[43mselected_columns\u001b[49m\u001b[43m]\u001b[49m\n\u001b[0;32m     10\u001b[0m \u001b[38;5;66;03m# Save to CSV\u001b[39;00m\n\u001b[0;32m     11\u001b[0m \u001b[38;5;66;03m# Replace 'path/to/your/location.csv' with the actual path where you want to save the CSV file\u001b[39;00m\n\u001b[0;32m     12\u001b[0m df_selected\u001b[38;5;241m.\u001b[39mto_csv(\u001b[38;5;124m'\u001b[39m\u001b[38;5;124mstreamlitApp/requiredDF/yearWiseAccident.csv\u001b[39m\u001b[38;5;124m'\u001b[39m, index\u001b[38;5;241m=\u001b[39m\u001b[38;5;28;01mFalse\u001b[39;00m)\n",
      "File \u001b[1;32mc:\\Users\\rajum\\AppData\\Local\\Programs\\Python\\Python312\\Lib\\site-packages\\pandas\\core\\frame.py:4108\u001b[0m, in \u001b[0;36mDataFrame.__getitem__\u001b[1;34m(self, key)\u001b[0m\n\u001b[0;32m   4106\u001b[0m     \u001b[38;5;28;01mif\u001b[39;00m is_iterator(key):\n\u001b[0;32m   4107\u001b[0m         key \u001b[38;5;241m=\u001b[39m \u001b[38;5;28mlist\u001b[39m(key)\n\u001b[1;32m-> 4108\u001b[0m     indexer \u001b[38;5;241m=\u001b[39m \u001b[38;5;28;43mself\u001b[39;49m\u001b[38;5;241;43m.\u001b[39;49m\u001b[43mcolumns\u001b[49m\u001b[38;5;241;43m.\u001b[39;49m\u001b[43m_get_indexer_strict\u001b[49m\u001b[43m(\u001b[49m\u001b[43mkey\u001b[49m\u001b[43m,\u001b[49m\u001b[43m \u001b[49m\u001b[38;5;124;43m\"\u001b[39;49m\u001b[38;5;124;43mcolumns\u001b[39;49m\u001b[38;5;124;43m\"\u001b[39;49m\u001b[43m)\u001b[49m[\u001b[38;5;241m1\u001b[39m]\n\u001b[0;32m   4110\u001b[0m \u001b[38;5;66;03m# take() does not accept boolean indexers\u001b[39;00m\n\u001b[0;32m   4111\u001b[0m \u001b[38;5;28;01mif\u001b[39;00m \u001b[38;5;28mgetattr\u001b[39m(indexer, \u001b[38;5;124m\"\u001b[39m\u001b[38;5;124mdtype\u001b[39m\u001b[38;5;124m\"\u001b[39m, \u001b[38;5;28;01mNone\u001b[39;00m) \u001b[38;5;241m==\u001b[39m \u001b[38;5;28mbool\u001b[39m:\n",
      "File \u001b[1;32mc:\\Users\\rajum\\AppData\\Local\\Programs\\Python\\Python312\\Lib\\site-packages\\pandas\\core\\indexes\\base.py:6200\u001b[0m, in \u001b[0;36mIndex._get_indexer_strict\u001b[1;34m(self, key, axis_name)\u001b[0m\n\u001b[0;32m   6197\u001b[0m \u001b[38;5;28;01melse\u001b[39;00m:\n\u001b[0;32m   6198\u001b[0m     keyarr, indexer, new_indexer \u001b[38;5;241m=\u001b[39m \u001b[38;5;28mself\u001b[39m\u001b[38;5;241m.\u001b[39m_reindex_non_unique(keyarr)\n\u001b[1;32m-> 6200\u001b[0m \u001b[38;5;28;43mself\u001b[39;49m\u001b[38;5;241;43m.\u001b[39;49m\u001b[43m_raise_if_missing\u001b[49m\u001b[43m(\u001b[49m\u001b[43mkeyarr\u001b[49m\u001b[43m,\u001b[49m\u001b[43m \u001b[49m\u001b[43mindexer\u001b[49m\u001b[43m,\u001b[49m\u001b[43m \u001b[49m\u001b[43maxis_name\u001b[49m\u001b[43m)\u001b[49m\n\u001b[0;32m   6202\u001b[0m keyarr \u001b[38;5;241m=\u001b[39m \u001b[38;5;28mself\u001b[39m\u001b[38;5;241m.\u001b[39mtake(indexer)\n\u001b[0;32m   6203\u001b[0m \u001b[38;5;28;01mif\u001b[39;00m \u001b[38;5;28misinstance\u001b[39m(key, Index):\n\u001b[0;32m   6204\u001b[0m     \u001b[38;5;66;03m# GH 42790 - Preserve name from an Index\u001b[39;00m\n",
      "File \u001b[1;32mc:\\Users\\rajum\\AppData\\Local\\Programs\\Python\\Python312\\Lib\\site-packages\\pandas\\core\\indexes\\base.py:6249\u001b[0m, in \u001b[0;36mIndex._raise_if_missing\u001b[1;34m(self, key, indexer, axis_name)\u001b[0m\n\u001b[0;32m   6247\u001b[0m \u001b[38;5;28;01mif\u001b[39;00m nmissing:\n\u001b[0;32m   6248\u001b[0m     \u001b[38;5;28;01mif\u001b[39;00m nmissing \u001b[38;5;241m==\u001b[39m \u001b[38;5;28mlen\u001b[39m(indexer):\n\u001b[1;32m-> 6249\u001b[0m         \u001b[38;5;28;01mraise\u001b[39;00m \u001b[38;5;167;01mKeyError\u001b[39;00m(\u001b[38;5;124mf\u001b[39m\u001b[38;5;124m\"\u001b[39m\u001b[38;5;124mNone of [\u001b[39m\u001b[38;5;132;01m{\u001b[39;00mkey\u001b[38;5;132;01m}\u001b[39;00m\u001b[38;5;124m] are in the [\u001b[39m\u001b[38;5;132;01m{\u001b[39;00maxis_name\u001b[38;5;132;01m}\u001b[39;00m\u001b[38;5;124m]\u001b[39m\u001b[38;5;124m\"\u001b[39m)\n\u001b[0;32m   6251\u001b[0m     not_found \u001b[38;5;241m=\u001b[39m \u001b[38;5;28mlist\u001b[39m(ensure_index(key)[missing_mask\u001b[38;5;241m.\u001b[39mnonzero()[\u001b[38;5;241m0\u001b[39m]]\u001b[38;5;241m.\u001b[39munique())\n\u001b[0;32m   6252\u001b[0m     \u001b[38;5;28;01mraise\u001b[39;00m \u001b[38;5;167;01mKeyError\u001b[39;00m(\u001b[38;5;124mf\u001b[39m\u001b[38;5;124m\"\u001b[39m\u001b[38;5;132;01m{\u001b[39;00mnot_found\u001b[38;5;132;01m}\u001b[39;00m\u001b[38;5;124m not in index\u001b[39m\u001b[38;5;124m\"\u001b[39m)\n",
      "\u001b[1;31mKeyError\u001b[0m: \"None of [Index(['Years', 'Total Number of Road Accidents (in numbers) ',\\n       'Road Length (in kms)', 'Total Number of Persons Killed (in numbers) ',\\n       'Total Number of Persons Injured (in numbers)'],\\n      dtype='object')] are in the [columns]\""
     ]
    }
   ],
   "source": [
    "import pandas as pd\n",
    "\n",
    "# Assuming df is your DataFrame\n",
    "# Replace 'column1', 'column2', etc. with the actual column names you want to select\n",
    "selected_columns = ['Years','Total Number of Road Accidents (in numbers) ', 'Road Length (in kms)', 'Total Number of Persons Killed (in numbers) ','Total Number of Persons Injured (in numbers)']\n",
    "\n",
    "# Select the columns\n",
    "df_selected = df[selected_columns]\n",
    "\n",
    "# Save to CSV\n",
    "# Replace 'path/to/your/location.csv' with the actual path where you want to save the CSV file\n",
    "df_selected.to_csv('streamlitApp/requiredDF/yearWiseAccident.csv', index=False)"
   ]
  },
  {
   "cell_type": "code",
   "execution_count": 10,
   "metadata": {},
   "outputs": [],
   "source": [
    "filteredDF.to_csv('streamlitApp/requiredDF/reasonOfAccident.csv', index=False)"
   ]
  },
  {
   "cell_type": "code",
   "execution_count": 11,
   "metadata": {},
   "outputs": [
    {
     "data": {
      "text/html": [
       "<div>\n",
       "<style scoped>\n",
       "    .dataframe tbody tr th:only-of-type {\n",
       "        vertical-align: middle;\n",
       "    }\n",
       "\n",
       "    .dataframe tbody tr th {\n",
       "        vertical-align: top;\n",
       "    }\n",
       "\n",
       "    .dataframe thead th {\n",
       "        text-align: right;\n",
       "    }\n",
       "</style>\n",
       "<table border=\"1\" class=\"dataframe\">\n",
       "  <thead>\n",
       "    <tr style=\"text-align: right;\">\n",
       "      <th></th>\n",
       "      <th>Reasons</th>\n",
       "      <th>Number of Accidents</th>\n",
       "    </tr>\n",
       "  </thead>\n",
       "  <tbody>\n",
       "    <tr>\n",
       "      <th>0</th>\n",
       "      <td>States/UTs</td>\n",
       "      <td>Andhra PradeshArunachal PradeshAssamBiharChhat...</td>\n",
       "    </tr>\n",
       "    <tr>\n",
       "      <th>1</th>\n",
       "      <td>Over-Speeding</td>\n",
       "      <td>638056</td>\n",
       "    </tr>\n",
       "    <tr>\n",
       "      <th>2</th>\n",
       "      <td>Drunken Driving</td>\n",
       "      <td>24512</td>\n",
       "    </tr>\n",
       "    <tr>\n",
       "      <th>3</th>\n",
       "      <td>Driving on Wrong side</td>\n",
       "      <td>48862</td>\n",
       "    </tr>\n",
       "    <tr>\n",
       "      <th>4</th>\n",
       "      <td>Jumping Red Light</td>\n",
       "      <td>8886</td>\n",
       "    </tr>\n",
       "    <tr>\n",
       "      <th>6</th>\n",
       "      <td>Others</td>\n",
       "      <td>156644</td>\n",
       "    </tr>\n",
       "  </tbody>\n",
       "</table>\n",
       "</div>"
      ],
      "text/plain": [
       "                 Reasons                                Number of Accidents\n",
       "0             States/UTs  Andhra PradeshArunachal PradeshAssamBiharChhat...\n",
       "1          Over-Speeding                                             638056\n",
       "2        Drunken Driving                                              24512\n",
       "3  Driving on Wrong side                                              48862\n",
       "4      Jumping Red Light                                               8886\n",
       "6                 Others                                             156644"
      ]
     },
     "execution_count": 11,
     "metadata": {},
     "output_type": "execute_result"
    }
   ],
   "source": [
    "filteredDF"
   ]
  },
  {
   "cell_type": "code",
   "execution_count": 20,
   "metadata": {},
   "outputs": [
    {
     "data": {
      "application/vnd.plotly.v1+json": {
       "config": {
        "plotlyServerURL": "https://plot.ly"
       },
       "data": [
        {
         "domain": {
          "x": [
           0,
           1
          ],
          "y": [
           0,
           1
          ]
         },
         "hovertemplate": "Reasons=%{label}<br>Number of Accidents=%{value}<extra></extra>",
         "labels": [
          "Over-Speeding",
          "Drunken Driving",
          "Driving on Wrong side",
          "Jumping Red Light",
          "Use of Mobile Phone"
         ],
         "legendgroup": "",
         "name": "",
         "showlegend": true,
         "type": "pie",
         "values": [
          638056,
          24512,
          48862,
          8886,
          21044
         ]
        }
       ],
       "layout": {
        "legend": {
         "tracegroupgap": 0
        },
        "template": {
         "data": {
          "bar": [
           {
            "error_x": {
             "color": "#2a3f5f"
            },
            "error_y": {
             "color": "#2a3f5f"
            },
            "marker": {
             "line": {
              "color": "#E5ECF6",
              "width": 0.5
             },
             "pattern": {
              "fillmode": "overlay",
              "size": 10,
              "solidity": 0.2
             }
            },
            "type": "bar"
           }
          ],
          "barpolar": [
           {
            "marker": {
             "line": {
              "color": "#E5ECF6",
              "width": 0.5
             },
             "pattern": {
              "fillmode": "overlay",
              "size": 10,
              "solidity": 0.2
             }
            },
            "type": "barpolar"
           }
          ],
          "carpet": [
           {
            "aaxis": {
             "endlinecolor": "#2a3f5f",
             "gridcolor": "white",
             "linecolor": "white",
             "minorgridcolor": "white",
             "startlinecolor": "#2a3f5f"
            },
            "baxis": {
             "endlinecolor": "#2a3f5f",
             "gridcolor": "white",
             "linecolor": "white",
             "minorgridcolor": "white",
             "startlinecolor": "#2a3f5f"
            },
            "type": "carpet"
           }
          ],
          "choropleth": [
           {
            "colorbar": {
             "outlinewidth": 0,
             "ticks": ""
            },
            "type": "choropleth"
           }
          ],
          "contour": [
           {
            "colorbar": {
             "outlinewidth": 0,
             "ticks": ""
            },
            "colorscale": [
             [
              0,
              "#0d0887"
             ],
             [
              0.1111111111111111,
              "#46039f"
             ],
             [
              0.2222222222222222,
              "#7201a8"
             ],
             [
              0.3333333333333333,
              "#9c179e"
             ],
             [
              0.4444444444444444,
              "#bd3786"
             ],
             [
              0.5555555555555556,
              "#d8576b"
             ],
             [
              0.6666666666666666,
              "#ed7953"
             ],
             [
              0.7777777777777778,
              "#fb9f3a"
             ],
             [
              0.8888888888888888,
              "#fdca26"
             ],
             [
              1,
              "#f0f921"
             ]
            ],
            "type": "contour"
           }
          ],
          "contourcarpet": [
           {
            "colorbar": {
             "outlinewidth": 0,
             "ticks": ""
            },
            "type": "contourcarpet"
           }
          ],
          "heatmap": [
           {
            "colorbar": {
             "outlinewidth": 0,
             "ticks": ""
            },
            "colorscale": [
             [
              0,
              "#0d0887"
             ],
             [
              0.1111111111111111,
              "#46039f"
             ],
             [
              0.2222222222222222,
              "#7201a8"
             ],
             [
              0.3333333333333333,
              "#9c179e"
             ],
             [
              0.4444444444444444,
              "#bd3786"
             ],
             [
              0.5555555555555556,
              "#d8576b"
             ],
             [
              0.6666666666666666,
              "#ed7953"
             ],
             [
              0.7777777777777778,
              "#fb9f3a"
             ],
             [
              0.8888888888888888,
              "#fdca26"
             ],
             [
              1,
              "#f0f921"
             ]
            ],
            "type": "heatmap"
           }
          ],
          "heatmapgl": [
           {
            "colorbar": {
             "outlinewidth": 0,
             "ticks": ""
            },
            "colorscale": [
             [
              0,
              "#0d0887"
             ],
             [
              0.1111111111111111,
              "#46039f"
             ],
             [
              0.2222222222222222,
              "#7201a8"
             ],
             [
              0.3333333333333333,
              "#9c179e"
             ],
             [
              0.4444444444444444,
              "#bd3786"
             ],
             [
              0.5555555555555556,
              "#d8576b"
             ],
             [
              0.6666666666666666,
              "#ed7953"
             ],
             [
              0.7777777777777778,
              "#fb9f3a"
             ],
             [
              0.8888888888888888,
              "#fdca26"
             ],
             [
              1,
              "#f0f921"
             ]
            ],
            "type": "heatmapgl"
           }
          ],
          "histogram": [
           {
            "marker": {
             "pattern": {
              "fillmode": "overlay",
              "size": 10,
              "solidity": 0.2
             }
            },
            "type": "histogram"
           }
          ],
          "histogram2d": [
           {
            "colorbar": {
             "outlinewidth": 0,
             "ticks": ""
            },
            "colorscale": [
             [
              0,
              "#0d0887"
             ],
             [
              0.1111111111111111,
              "#46039f"
             ],
             [
              0.2222222222222222,
              "#7201a8"
             ],
             [
              0.3333333333333333,
              "#9c179e"
             ],
             [
              0.4444444444444444,
              "#bd3786"
             ],
             [
              0.5555555555555556,
              "#d8576b"
             ],
             [
              0.6666666666666666,
              "#ed7953"
             ],
             [
              0.7777777777777778,
              "#fb9f3a"
             ],
             [
              0.8888888888888888,
              "#fdca26"
             ],
             [
              1,
              "#f0f921"
             ]
            ],
            "type": "histogram2d"
           }
          ],
          "histogram2dcontour": [
           {
            "colorbar": {
             "outlinewidth": 0,
             "ticks": ""
            },
            "colorscale": [
             [
              0,
              "#0d0887"
             ],
             [
              0.1111111111111111,
              "#46039f"
             ],
             [
              0.2222222222222222,
              "#7201a8"
             ],
             [
              0.3333333333333333,
              "#9c179e"
             ],
             [
              0.4444444444444444,
              "#bd3786"
             ],
             [
              0.5555555555555556,
              "#d8576b"
             ],
             [
              0.6666666666666666,
              "#ed7953"
             ],
             [
              0.7777777777777778,
              "#fb9f3a"
             ],
             [
              0.8888888888888888,
              "#fdca26"
             ],
             [
              1,
              "#f0f921"
             ]
            ],
            "type": "histogram2dcontour"
           }
          ],
          "mesh3d": [
           {
            "colorbar": {
             "outlinewidth": 0,
             "ticks": ""
            },
            "type": "mesh3d"
           }
          ],
          "parcoords": [
           {
            "line": {
             "colorbar": {
              "outlinewidth": 0,
              "ticks": ""
             }
            },
            "type": "parcoords"
           }
          ],
          "pie": [
           {
            "automargin": true,
            "type": "pie"
           }
          ],
          "scatter": [
           {
            "fillpattern": {
             "fillmode": "overlay",
             "size": 10,
             "solidity": 0.2
            },
            "type": "scatter"
           }
          ],
          "scatter3d": [
           {
            "line": {
             "colorbar": {
              "outlinewidth": 0,
              "ticks": ""
             }
            },
            "marker": {
             "colorbar": {
              "outlinewidth": 0,
              "ticks": ""
             }
            },
            "type": "scatter3d"
           }
          ],
          "scattercarpet": [
           {
            "marker": {
             "colorbar": {
              "outlinewidth": 0,
              "ticks": ""
             }
            },
            "type": "scattercarpet"
           }
          ],
          "scattergeo": [
           {
            "marker": {
             "colorbar": {
              "outlinewidth": 0,
              "ticks": ""
             }
            },
            "type": "scattergeo"
           }
          ],
          "scattergl": [
           {
            "marker": {
             "colorbar": {
              "outlinewidth": 0,
              "ticks": ""
             }
            },
            "type": "scattergl"
           }
          ],
          "scattermapbox": [
           {
            "marker": {
             "colorbar": {
              "outlinewidth": 0,
              "ticks": ""
             }
            },
            "type": "scattermapbox"
           }
          ],
          "scatterpolar": [
           {
            "marker": {
             "colorbar": {
              "outlinewidth": 0,
              "ticks": ""
             }
            },
            "type": "scatterpolar"
           }
          ],
          "scatterpolargl": [
           {
            "marker": {
             "colorbar": {
              "outlinewidth": 0,
              "ticks": ""
             }
            },
            "type": "scatterpolargl"
           }
          ],
          "scatterternary": [
           {
            "marker": {
             "colorbar": {
              "outlinewidth": 0,
              "ticks": ""
             }
            },
            "type": "scatterternary"
           }
          ],
          "surface": [
           {
            "colorbar": {
             "outlinewidth": 0,
             "ticks": ""
            },
            "colorscale": [
             [
              0,
              "#0d0887"
             ],
             [
              0.1111111111111111,
              "#46039f"
             ],
             [
              0.2222222222222222,
              "#7201a8"
             ],
             [
              0.3333333333333333,
              "#9c179e"
             ],
             [
              0.4444444444444444,
              "#bd3786"
             ],
             [
              0.5555555555555556,
              "#d8576b"
             ],
             [
              0.6666666666666666,
              "#ed7953"
             ],
             [
              0.7777777777777778,
              "#fb9f3a"
             ],
             [
              0.8888888888888888,
              "#fdca26"
             ],
             [
              1,
              "#f0f921"
             ]
            ],
            "type": "surface"
           }
          ],
          "table": [
           {
            "cells": {
             "fill": {
              "color": "#EBF0F8"
             },
             "line": {
              "color": "white"
             }
            },
            "header": {
             "fill": {
              "color": "#C8D4E3"
             },
             "line": {
              "color": "white"
             }
            },
            "type": "table"
           }
          ]
         },
         "layout": {
          "annotationdefaults": {
           "arrowcolor": "#2a3f5f",
           "arrowhead": 0,
           "arrowwidth": 1
          },
          "autotypenumbers": "strict",
          "coloraxis": {
           "colorbar": {
            "outlinewidth": 0,
            "ticks": ""
           }
          },
          "colorscale": {
           "diverging": [
            [
             0,
             "#8e0152"
            ],
            [
             0.1,
             "#c51b7d"
            ],
            [
             0.2,
             "#de77ae"
            ],
            [
             0.3,
             "#f1b6da"
            ],
            [
             0.4,
             "#fde0ef"
            ],
            [
             0.5,
             "#f7f7f7"
            ],
            [
             0.6,
             "#e6f5d0"
            ],
            [
             0.7,
             "#b8e186"
            ],
            [
             0.8,
             "#7fbc41"
            ],
            [
             0.9,
             "#4d9221"
            ],
            [
             1,
             "#276419"
            ]
           ],
           "sequential": [
            [
             0,
             "#0d0887"
            ],
            [
             0.1111111111111111,
             "#46039f"
            ],
            [
             0.2222222222222222,
             "#7201a8"
            ],
            [
             0.3333333333333333,
             "#9c179e"
            ],
            [
             0.4444444444444444,
             "#bd3786"
            ],
            [
             0.5555555555555556,
             "#d8576b"
            ],
            [
             0.6666666666666666,
             "#ed7953"
            ],
            [
             0.7777777777777778,
             "#fb9f3a"
            ],
            [
             0.8888888888888888,
             "#fdca26"
            ],
            [
             1,
             "#f0f921"
            ]
           ],
           "sequentialminus": [
            [
             0,
             "#0d0887"
            ],
            [
             0.1111111111111111,
             "#46039f"
            ],
            [
             0.2222222222222222,
             "#7201a8"
            ],
            [
             0.3333333333333333,
             "#9c179e"
            ],
            [
             0.4444444444444444,
             "#bd3786"
            ],
            [
             0.5555555555555556,
             "#d8576b"
            ],
            [
             0.6666666666666666,
             "#ed7953"
            ],
            [
             0.7777777777777778,
             "#fb9f3a"
            ],
            [
             0.8888888888888888,
             "#fdca26"
            ],
            [
             1,
             "#f0f921"
            ]
           ]
          },
          "colorway": [
           "#636efa",
           "#EF553B",
           "#00cc96",
           "#ab63fa",
           "#FFA15A",
           "#19d3f3",
           "#FF6692",
           "#B6E880",
           "#FF97FF",
           "#FECB52"
          ],
          "font": {
           "color": "#2a3f5f"
          },
          "geo": {
           "bgcolor": "white",
           "lakecolor": "white",
           "landcolor": "#E5ECF6",
           "showlakes": true,
           "showland": true,
           "subunitcolor": "white"
          },
          "hoverlabel": {
           "align": "left"
          },
          "hovermode": "closest",
          "mapbox": {
           "style": "light"
          },
          "paper_bgcolor": "white",
          "plot_bgcolor": "#E5ECF6",
          "polar": {
           "angularaxis": {
            "gridcolor": "white",
            "linecolor": "white",
            "ticks": ""
           },
           "bgcolor": "#E5ECF6",
           "radialaxis": {
            "gridcolor": "white",
            "linecolor": "white",
            "ticks": ""
           }
          },
          "scene": {
           "xaxis": {
            "backgroundcolor": "#E5ECF6",
            "gridcolor": "white",
            "gridwidth": 2,
            "linecolor": "white",
            "showbackground": true,
            "ticks": "",
            "zerolinecolor": "white"
           },
           "yaxis": {
            "backgroundcolor": "#E5ECF6",
            "gridcolor": "white",
            "gridwidth": 2,
            "linecolor": "white",
            "showbackground": true,
            "ticks": "",
            "zerolinecolor": "white"
           },
           "zaxis": {
            "backgroundcolor": "#E5ECF6",
            "gridcolor": "white",
            "gridwidth": 2,
            "linecolor": "white",
            "showbackground": true,
            "ticks": "",
            "zerolinecolor": "white"
           }
          },
          "shapedefaults": {
           "line": {
            "color": "#2a3f5f"
           }
          },
          "ternary": {
           "aaxis": {
            "gridcolor": "white",
            "linecolor": "white",
            "ticks": ""
           },
           "baxis": {
            "gridcolor": "white",
            "linecolor": "white",
            "ticks": ""
           },
           "bgcolor": "#E5ECF6",
           "caxis": {
            "gridcolor": "white",
            "linecolor": "white",
            "ticks": ""
           }
          },
          "title": {
           "x": 0.05
          },
          "xaxis": {
           "automargin": true,
           "gridcolor": "white",
           "linecolor": "white",
           "ticks": "",
           "title": {
            "standoff": 15
           },
           "zerolinecolor": "white",
           "zerolinewidth": 2
          },
          "yaxis": {
           "automargin": true,
           "gridcolor": "white",
           "linecolor": "white",
           "ticks": "",
           "title": {
            "standoff": 15
           },
           "zerolinecolor": "white",
           "zerolinewidth": 2
          }
         }
        },
        "title": {
         "text": "Reasons of Accidents in India 2019"
        }
       }
      }
     },
     "metadata": {},
     "output_type": "display_data"
    }
   ],
   "source": [
    "px.pie(filteredDF, values='Number of Accidents', names='Reasons', title='Reasons of Accidents in India 2019').show()"
   ]
  },
  {
   "cell_type": "code",
   "execution_count": null,
   "metadata": {},
   "outputs": [],
   "source": []
  }
 ],
 "metadata": {
  "kernelspec": {
   "display_name": "Python 3",
   "language": "python",
   "name": "python3"
  },
  "language_info": {
   "codemirror_mode": {
    "name": "ipython",
    "version": 3
   },
   "file_extension": ".py",
   "mimetype": "text/x-python",
   "name": "python",
   "nbconvert_exporter": "python",
   "pygments_lexer": "ipython3",
   "version": "3.12.3"
  }
 },
 "nbformat": 4,
 "nbformat_minor": 2
}
